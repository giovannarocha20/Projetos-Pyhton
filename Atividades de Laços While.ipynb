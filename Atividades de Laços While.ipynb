{
  "nbformat": 4,
  "nbformat_minor": 0,
  "metadata": {
    "colab": {
      "provenance": []
    },
    "kernelspec": {
      "name": "python3",
      "display_name": "Python 3"
    },
    "language_info": {
      "name": "python"
    }
  },
  "cells": [
    {
      "cell_type": "markdown",
      "source": [
        "## Atividade 1: Crie um programa que receba 5 números e retorne a média aritmética entre esses números.\n",
        "\n"
      ],
      "metadata": {
        "id": "p_KPBh_XJonx"
      }
    },
    {
      "cell_type": "code",
      "execution_count": 2,
      "metadata": {
        "colab": {
          "base_uri": "https://localhost:8080/"
        },
        "id": "MYdYMtvYJN7O",
        "outputId": "5a96ba3c-f44d-44a8-e297-7abbc62bbae3"
      },
      "outputs": [
        {
          "output_type": "stream",
          "name": "stdout",
          "text": [
            "Digite um número:26\n",
            "Digite um número:55\n",
            "Digite um número:22\n",
            "Digite um número:12\n",
            "Digite um número:265\n",
            "A média é: 76.0\n"
          ]
        }
      ],
      "source": [
        "soma = 0\n",
        "for i in range(5):\n",
        "    numero = float(input(\"Digite um número:\"))\n",
        "    soma = soma + numero\n",
        "media = soma / 5\n",
        "print(\"A média é:\", media)"
      ]
    },
    {
      "cell_type": "markdown",
      "source": [
        "## Atividade 2: Crie um programa que receba 5 números, realiza a soma destes números, mas caso um destes números seja negativo, não considere ele na soma"
      ],
      "metadata": {
        "id": "hl7VmSv5Krwv"
      }
    },
    {
      "cell_type": "code",
      "source": [
        "soma = 0\n",
        "for i in range(5):\n",
        "    numero = float(input(\"Digite um número:\"))\n",
        "    if numero >= 0:\n",
        "        soma = soma + numero\n",
        "print(\"A soma dos números não negativos é:\", soma)"
      ],
      "metadata": {
        "colab": {
          "base_uri": "https://localhost:8080/"
        },
        "id": "pRwXtlyuKh7K",
        "outputId": "2d69147f-ced5-4103-c677-b5e8e14c7395"
      },
      "execution_count": 3,
      "outputs": [
        {
          "output_type": "stream",
          "name": "stdout",
          "text": [
            "Digite um número:15\n",
            "Digite um número:2\n",
            "Digite um número:15\n",
            "Digite um número:23\n",
            "Digite um número:17\n",
            "A soma dos números não negativos é: 72.0\n"
          ]
        }
      ]
    },
    {
      "cell_type": "markdown",
      "source": [
        "## Atividade 3: Crie um programa que receba um número arbitrário (definido pelo usuário) de números que serão lidos e retorne a soma de todos eles."
      ],
      "metadata": {
        "id": "vKqKYl9pLL5s"
      }
    },
    {
      "cell_type": "code",
      "source": [
        "quantidade = int(input(\"Digite números que você deseja inserir?\"))\n",
        "soma = 0\n",
        "for i in range(quantidade):\n",
        "    numero = float(input(\"Digite um número: \"))\n",
        "    soma = soma + numero\n",
        "print(\"A soma dos némeros são:\", soma)"
      ],
      "metadata": {
        "colab": {
          "base_uri": "https://localhost:8080/"
        },
        "id": "BpBCowbmLHtV",
        "outputId": "097cb6bc-846c-42ec-e052-8d3fc60a22c3"
      },
      "execution_count": 4,
      "outputs": [
        {
          "output_type": "stream",
          "name": "stdout",
          "text": [
            "Digite números que você deseja inserir?15\n",
            "Digite um número: 11\n",
            "Digite um número: 88\n",
            "Digite um número: 26\n",
            "Digite um número: 12\n",
            "Digite um número: 5\n",
            "Digite um número: 18\n",
            "Digite um número: 19\n",
            "Digite um número: 19\n",
            "Digite um número: 188\n",
            "Digite um número: 1\n",
            "Digite um número: 11\n",
            "Digite um número: 19\n",
            "Digite um número: 18\n",
            "Digite um número: 18\n",
            "Digite um número: 15\n",
            "A soma dos némeros são: 468.0\n"
          ]
        }
      ]
    },
    {
      "cell_type": "markdown",
      "source": [
        "## Atividade 4: Percorra os números de 2 até 10 e diga se o número é par ou ímpar.\n",
        "\n"
      ],
      "metadata": {
        "id": "huMZJzrGMRQW"
      }
    },
    {
      "cell_type": "code",
      "source": [
        "for num in range(2, 10):\n",
        "    if num % 2 == 0:\n",
        "        print(num, \"é par\")\n",
        "    else:\n",
        "        print(num, \"é impar\")"
      ],
      "metadata": {
        "colab": {
          "base_uri": "https://localhost:8080/"
        },
        "id": "FxEPMWDjMD6U",
        "outputId": "780c813c-9bd7-43ac-d644-81cb3a79e599"
      },
      "execution_count": 7,
      "outputs": [
        {
          "output_type": "stream",
          "name": "stdout",
          "text": [
            "2 é par\n",
            "3 é impar\n",
            "4 é par\n",
            "5 é impar\n",
            "6 é par\n",
            "7 é impar\n",
            "8 é par\n",
            "9 é impar\n"
          ]
        }
      ]
    },
    {
      "cell_type": "markdown",
      "source": [
        "## Atividade 5: Crie um programa que receba como input uma string. Em seguida percorra a string e diga quantos espaços em branco essa string tem."
      ],
      "metadata": {
        "id": "mXBSo2diM8pJ"
      }
    },
    {
      "cell_type": "code",
      "source": [
        "texto = input(\"Digite um string: \")\n",
        "espacos = 0\n",
        "for letra in texto:\n",
        "    if letra == \" \":\n",
        "        espacos = espacos + 1\n",
        "print(\"A string tem\", espacos, \"espaços em branco\")"
      ],
      "metadata": {
        "colab": {
          "base_uri": "https://localhost:8080/"
        },
        "id": "NJoF_YHfM0KZ",
        "outputId": "3619d82a-d2dd-4fad-e155-e600d00d9410"
      },
      "execution_count": 9,
      "outputs": [
        {
          "output_type": "stream",
          "name": "stdout",
          "text": [
            "Digite um string: casemiro miguel faz live na twicth \n",
            "A string tem 6 espaços em branco\n"
          ]
        }
      ]
    }
  ]
}