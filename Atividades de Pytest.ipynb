{
  "nbformat": 4,
  "nbformat_minor": 0,
  "metadata": {
    "colab": {
      "provenance": []
    },
    "kernelspec": {
      "name": "python3",
      "display_name": "Python 3"
    },
    "language_info": {
      "name": "python"
    }
  },
  "cells": [
    {
      "cell_type": "markdown",
      "source": [
        "## Atividade 1:\n",
        "Criação da função que retorna apenas o primeiro nome e o último sobrenome:"
      ],
      "metadata": {
        "id": "DE_dEcEq1l5S"
      }
    },
    {
      "cell_type": "code",
      "execution_count": 2,
      "metadata": {
        "colab": {
          "base_uri": "https://localhost:8080/"
        },
        "id": "xvtb6NvL1PBQ",
        "outputId": "007f7e30-8b06-4883-9aa4-655868ab9ffc"
      },
      "outputs": [
        {
          "output_type": "stream",
          "name": "stdout",
          "text": [
            "Ana Rosa\n"
          ]
        }
      ],
      "source": [
        "from primeiro_ultimo import primeiro_ultimo\n",
        "print(primeiro_ultimo(\"Ana da Silva Rosa\"))"
      ]
    },
    {
      "cell_type": "code",
      "source": [
        "!pytest -v"
      ],
      "metadata": {
        "colab": {
          "base_uri": "https://localhost:8080/"
        },
        "id": "IUYNxIvY54TV",
        "outputId": "c7fe70ea-8dff-4d59-9e6c-f53990e24559"
      },
      "execution_count": 2,
      "outputs": [
        {
          "output_type": "stream",
          "name": "stdout",
          "text": [
            "\u001b[1m======================================= test session starts ========================================\u001b[0m\n",
            "platform linux -- Python 3.10.12, pytest-8.3.3, pluggy-1.5.0 -- /usr/bin/python3\n",
            "cachedir: .pytest_cache\n",
            "rootdir: /content\n",
            "plugins: typeguard-4.4.1, anyio-3.7.1\n",
            "\u001b[1mcollecting ... \u001b[0m\u001b[1m\rcollected 5 items                                                                                  \u001b[0m\n",
            "\n",
            "test_primeiroultimo.py::test_nomesprimeiroultimo[Fernando Amaral-Fernando Amaral] \u001b[32mPASSED\u001b[0m\u001b[32m     [ 20%]\u001b[0m\n",
            "test_primeiroultimo.py::test_nomesprimeiroultimo[Jos\\xe9 Carlos Texeira-Jos\\xe9 Texeira] \u001b[32mPASSED\u001b[0m\u001b[32m [ 40%]\u001b[0m\n",
            "test_primeiroultimo.py::test_nomesprimeiroultimo[Ana Maria Da Silva Soares-Ana Soares] \u001b[32mPASSED\u001b[0m\u001b[32m [ 60%]\u001b[0m\n",
            "test_primeiroultimo.py::test_nomesprimeiroultimo[Ana Rosa-Ana Rosa] \u001b[32mPASSED\u001b[0m\u001b[32m                   [ 80%]\u001b[0m\n",
            "test_primeiroultimo.py::test_nomesprimeiroultimo[   Maria da Silva Amaral   -Maria Amaral] \u001b[32mPASSED\u001b[0m\u001b[32m [100%]\u001b[0m\n",
            "\n",
            "\u001b[32m======================================== \u001b[32m\u001b[1m5 passed\u001b[0m\u001b[32m in 0.02s\u001b[0m\u001b[32m =========================================\u001b[0m\n"
          ]
        }
      ]
    },
    {
      "cell_type": "markdown",
      "source": [
        "## Atividade 2:\n",
        "Função para retornar a abreviatura do nome completo:"
      ],
      "metadata": {
        "id": "YZ5ztFwt8bON"
      }
    },
    {
      "cell_type": "code",
      "source": [
        "from abreviatura import abreviatura\n",
        "print(abreviatura(\"Marcio Antonio Silva\"))"
      ],
      "metadata": {
        "colab": {
          "base_uri": "https://localhost:8080/"
        },
        "id": "au9G0Teb6EXB",
        "outputId": "104e6ce9-69e5-456a-d8a1-71140dce79f7"
      },
      "execution_count": 1,
      "outputs": [
        {
          "output_type": "stream",
          "name": "stdout",
          "text": [
            "MAS\n"
          ]
        }
      ]
    },
    {
      "cell_type": "code",
      "source": [
        "!pytest -k test_abreviatura -v --maxfail 2"
      ],
      "metadata": {
        "colab": {
          "base_uri": "https://localhost:8080/"
        },
        "id": "ZiWpn0GL9JJj",
        "outputId": "4592d489-1ed5-4d1b-b9d8-eee18e1e3ca5"
      },
      "execution_count": 4,
      "outputs": [
        {
          "output_type": "stream",
          "name": "stdout",
          "text": [
            "\u001b[1m======================================= test session starts ========================================\u001b[0m\n",
            "platform linux -- Python 3.10.12, pytest-8.3.3, pluggy-1.5.0 -- /usr/bin/python3\n",
            "cachedir: .pytest_cache\n",
            "rootdir: /content\n",
            "plugins: typeguard-4.4.1, anyio-3.7.1\n",
            "\u001b[1mcollecting ... \u001b[0m\u001b[1m\rcollected 10 items / 5 deselected / 5 selected                                                     \u001b[0m\n",
            "\n",
            "test_abreviatura.py::test_abreviatura[Fernando Amaral-FA] \u001b[32mPASSED\u001b[0m\u001b[32m                             [ 20%]\u001b[0m\n",
            "test_abreviatura.py::test_abreviatura[Jos\\xe9 Carlos Texeira-JCT] \u001b[32mPASSED\u001b[0m\u001b[32m                     [ 40%]\u001b[0m\n",
            "test_abreviatura.py::test_abreviatura[Ana Maria Da Silva Soares-AMDSS] \u001b[32mPASSED\u001b[0m\u001b[32m                [ 60%]\u001b[0m\n",
            "test_abreviatura.py::test_abreviatura[Ana Rosa-AR] \u001b[32mPASSED\u001b[0m\u001b[32m                                    [ 80%]\u001b[0m\n",
            "test_abreviatura.py::test_abreviatura[   Maria da Silva Amaral   -MDSA] \u001b[32mPASSED\u001b[0m\u001b[32m               [100%]\u001b[0m\n",
            "\n",
            "\u001b[32m================================= \u001b[32m\u001b[1m5 passed\u001b[0m, \u001b[33m5 deselected\u001b[0m\u001b[32m in 0.02s\u001b[0m\u001b[32m ==================================\u001b[0m\n"
          ]
        }
      ]
    }
  ]
}