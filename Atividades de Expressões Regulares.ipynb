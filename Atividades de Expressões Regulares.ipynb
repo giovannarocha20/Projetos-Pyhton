{
  "nbformat": 4,
  "nbformat_minor": 0,
  "metadata": {
    "colab": {
      "provenance": []
    },
    "kernelspec": {
      "name": "python3",
      "display_name": "Python 3"
    },
    "language_info": {
      "name": "python"
    }
  },
  "cells": [
    {
      "cell_type": "markdown",
      "source": [
        "## 1. Expressão regular para reconhecer números de 20 a 35\n",
        "Vamos criar uma expressão regular que só reconheça os números entre 20 e 35."
      ],
      "metadata": {
        "id": "mmBAWGYQ4sO8"
      }
    },
    {
      "cell_type": "code",
      "execution_count": 1,
      "metadata": {
        "colab": {
          "base_uri": "https://localhost:8080/"
        },
        "id": "1H8ibKHs4r1y",
        "outputId": "0bbd1b92-10c4-43d3-b19b-5af0578a3e37"
      },
      "outputs": [
        {
          "output_type": "stream",
          "name": "stdout",
          "text": [
            "20 é um número válido (entre 20 e 35)\n",
            "25 é um número válido (entre 20 e 35)\n",
            "30 é um número válido (entre 20 e 35)\n",
            "35 é um número válido (entre 20 e 35)\n",
            "15 é inválido\n",
            "40 é inválido\n"
          ]
        }
      ],
      "source": [
        "import re\n",
        "\n",
        "regex = r'^(2[0-9]|3[0-5])$'\n",
        "\n",
        "testes = [\"20\", \"25\", \"30\", \"35\", \"15\", \"40\"]\n",
        "\n",
        "for teste in testes:\n",
        "    if re.match(regex, teste):\n",
        "        print(f\"{teste} é um número válido (entre 20 e 35)\")\n",
        "    else:\n",
        "        print(f\"{teste} é inválido\")"
      ]
    },
    {
      "cell_type": "markdown",
      "source": [
        "## 2. Expressão regular para verificar se a palavra \"python\" está na frase\n",
        "Essa expressão regular vai apenas verificar se a palavra \"python\" aparece em algum lugar da frase."
      ],
      "metadata": {
        "id": "MSiLfdWJ4zET"
      }
    },
    {
      "cell_type": "code",
      "source": [
        "regex = r'\\bpython\\b'\n",
        "\n",
        "frases = [\"Eu estou aprendendo python.\", \"Eu adoro programar em Python!\", \"Java é legal também.\"]\n",
        "\n",
        "for frase in frases:\n",
        "    if re.search(regex, frase, re.IGNORECASE):\n",
        "        print(f'A palavra \"python\" está presente na frase: \"{frase}\"')\n",
        "    else:\n",
        "        print(f'A palavra \"python\" NÃO está presente na frase: \"{frase}\"')"
      ],
      "metadata": {
        "colab": {
          "base_uri": "https://localhost:8080/"
        },
        "id": "79yQzMJL4wNp",
        "outputId": "95acedd4-bea9-40ef-bc64-d7c944e1c2cf"
      },
      "execution_count": 2,
      "outputs": [
        {
          "output_type": "stream",
          "name": "stdout",
          "text": [
            "A palavra \"python\" está presente na frase: \"Eu estou aprendendo python.\"\n",
            "A palavra \"python\" está presente na frase: \"Eu adoro programar em Python!\"\n",
            "A palavra \"python\" NÃO está presente na frase: \"Java é legal também.\"\n"
          ]
        }
      ]
    },
    {
      "cell_type": "markdown",
      "source": [
        "## 3. Expressão regular para validar dias da semana\n",
        "Essa expressão vai verificar se a string é um dia da semana válido em português.\n",
        "\n"
      ],
      "metadata": {
        "id": "RcLdUCcj444c"
      }
    },
    {
      "cell_type": "code",
      "source": [
        "regex = r'^(Segunda-Feira|Terça-Feira|Quarta-Feira|Quinta-Feira|Sexta-Feira|Sábado|Domingo)$'\n",
        "\n",
        "dias = [\"Segunda-Feira\", \"Sábado\", \"Domingo\", \"Feriado\"]\n",
        "\n",
        "for dia in dias:\n",
        "    if re.match(regex, dia):\n",
        "        print(f\"{dia} é um dia da semana válido.\")\n",
        "    else:\n",
        "        print(f\"{dia} NÃO é um dia da semana válido.\")"
      ],
      "metadata": {
        "colab": {
          "base_uri": "https://localhost:8080/"
        },
        "id": "o2lmu06L44Wt",
        "outputId": "d56e4b2d-cee5-48ad-cca7-ee787aadfa44"
      },
      "execution_count": 3,
      "outputs": [
        {
          "output_type": "stream",
          "name": "stdout",
          "text": [
            "Segunda-Feira é um dia da semana válido.\n",
            "Sábado é um dia da semana válido.\n",
            "Domingo é um dia da semana válido.\n",
            "Feriado NÃO é um dia da semana válido.\n"
          ]
        }
      ]
    },
    {
      "cell_type": "markdown",
      "source": [
        "## 4. Expressão regular para detectar telefones que começam com 95\n",
        "Essa expressão regular vai identificar se um número é válido e se começa com \"95\", indicando se ele deve ser bloqueado."
      ],
      "metadata": {
        "id": "DbxRMrZq5EWj"
      }
    },
    {
      "cell_type": "code",
      "source": [
        "import re\n",
        "\n",
        "regex = r'^\\d{8}$'\n",
        "\n",
        "telefones = [\"95234567\", \"98345678\", \"95012345\", \"12345678\"]\n",
        "\n",
        "for telefone in telefones:\n",
        "    if re.match(regex, telefone):\n",
        "        if telefone.startswith(\"95\"):\n",
        "            print(f\"O número {telefone} é válido, mas será bloqueado.\")\n",
        "        else:\n",
        "            print(f\"O número {telefone} é válido e não será bloqueado.\")\n",
        "    else:\n",
        "        print(f\"O número {telefone} é inválido.\")"
      ],
      "metadata": {
        "colab": {
          "base_uri": "https://localhost:8080/"
        },
        "id": "xnb3o1Kg4-8A",
        "outputId": "0c673a9c-74b6-44c1-a8f3-ea9779c790e8"
      },
      "execution_count": 4,
      "outputs": [
        {
          "output_type": "stream",
          "name": "stdout",
          "text": [
            "O número 95234567 é válido, mas será bloqueado.\n",
            "O número 98345678 é válido e não será bloqueado.\n",
            "O número 95012345 é válido, mas será bloqueado.\n",
            "O número 12345678 é válido e não será bloqueado.\n"
          ]
        }
      ]
    },
    {
      "cell_type": "markdown",
      "source": [
        "## 5. Expressão regular para reconhecer palavras no gerúndio\n",
        "Aqui, vamos criar uma expressão regular para encontrar palavras terminadas em \"ando\", \"endo\", ou \"indo\", que indicam gerúndio."
      ],
      "metadata": {
        "id": "SPGW7IQl5LxS"
      }
    },
    {
      "cell_type": "code",
      "source": [
        "regex = r'\\b\\w+(ando|endo|indo)\\b'\n",
        "\n",
        "frases = [\"Estou sorrindo muito.\", \"Ela estava andando pela rua.\", \"Ele está estudando para a prova.\", \"Vamos almoçar?\"]\n",
        "\n",
        "for frase in frases:\n",
        "    gerundios = re.findall(regex, frase)\n",
        "    if gerundios:\n",
        "        print(f\"Palavras no gerúndio na frase: '{frase}' -> {re.findall(regex, frase)}\")\n",
        "    else:\n",
        "        print(f\"Não há palavras no gerúndio na frase: '{frase}'\")"
      ],
      "metadata": {
        "colab": {
          "base_uri": "https://localhost:8080/"
        },
        "id": "DU7r4FhQ5J6_",
        "outputId": "c3f78d84-0fef-47e0-c673-45b3b01bae8a"
      },
      "execution_count": 5,
      "outputs": [
        {
          "output_type": "stream",
          "name": "stdout",
          "text": [
            "Palavras no gerúndio na frase: 'Estou sorrindo muito.' -> ['indo']\n",
            "Palavras no gerúndio na frase: 'Ela estava andando pela rua.' -> ['ando']\n",
            "Palavras no gerúndio na frase: 'Ele está estudando para a prova.' -> ['ando']\n",
            "Não há palavras no gerúndio na frase: 'Vamos almoçar?'\n"
          ]
        }
      ]
    },
    {
      "cell_type": "markdown",
      "source": [
        "## 6. Expressão regular para detectar se a hora é válida no formato HH\n",
        "Para garantir que a hora está no formato de 24 horas, usaremos uma expressão regular que limita as horas de 00 a 23 e os minutos de 00 a 59."
      ],
      "metadata": {
        "id": "eYqpPebq5SVb"
      }
    },
    {
      "cell_type": "code",
      "source": [
        "regex = r'^(?:[01]\\d|2[0-3]):[0-5]\\d$'\n",
        "\n",
        "horas = [\"19:30\", \"09:30\", \"23:45\", \"23:70\", \"24:00\"]\n",
        "\n",
        "for hora in horas:\n",
        "    if re.match(regex, hora):\n",
        "        print(f\"A hora {hora} é válida.\")\n",
        "    else:\n",
        "        print(f\"A hora {hora} é inválida.\")"
      ],
      "metadata": {
        "colab": {
          "base_uri": "https://localhost:8080/"
        },
        "id": "m_F2h5Yc5Qp7",
        "outputId": "314f0c06-6598-4f8a-8389-1412dc204adb"
      },
      "execution_count": 6,
      "outputs": [
        {
          "output_type": "stream",
          "name": "stdout",
          "text": [
            "A hora 19:30 é válida.\n",
            "A hora 09:30 é válida.\n",
            "A hora 23:45 é válida.\n",
            "A hora 23:70 é inválida.\n",
            "A hora 24:00 é inválida.\n"
          ]
        }
      ]
    },
    {
      "cell_type": "markdown",
      "source": [
        "## Para o desafio 7, precisamos criar uma expressão regular que valide se uma expressão é uma conta matemática simples de soma ou subtração entre dois números inteiros. A expressão deve aceitar somente contas no formato X + Y ou X - Y, onde X e Y são números inteiros."
      ],
      "metadata": {
        "id": "sZA_qunk5dZ5"
      }
    },
    {
      "cell_type": "code",
      "source": [
        "import re\n",
        "\n",
        "regex = r'^\\s*\\d+\\s*[-+]\\s*\\d+\\s*$'\n",
        "\n",
        "expressoes = [\"5 + 3\", \"10 - 7\", \"123 + 456\", \"5 * 3\", \"5 + \", \"20 -10\", \"abc + 2\"]\n",
        "\n",
        "for expressao in expressoes:\n",
        "    if re.match(regex, expressao):\n",
        "        print(f'A expressão \"{expressao}\" é uma conta matemática válida.')\n",
        "    else:\n",
        "        print(f'A expressão \"{expressao}\" NÃO é uma conta matemática válida.')"
      ],
      "metadata": {
        "colab": {
          "base_uri": "https://localhost:8080/"
        },
        "id": "8NxYfKy75V8e",
        "outputId": "7359603f-2ae1-46fb-d1ff-d615c414ddd8"
      },
      "execution_count": 7,
      "outputs": [
        {
          "output_type": "stream",
          "name": "stdout",
          "text": [
            "A expressão \"5 + 3\" é uma conta matemática válida.\n",
            "A expressão \"10 - 7\" é uma conta matemática válida.\n",
            "A expressão \"123 + 456\" é uma conta matemática válida.\n",
            "A expressão \"5 * 3\" NÃO é uma conta matemática válida.\n",
            "A expressão \"5 + \" NÃO é uma conta matemática válida.\n",
            "A expressão \"20 -10\" é uma conta matemática válida.\n",
            "A expressão \"abc + 2\" NÃO é uma conta matemática válida.\n"
          ]
        }
      ]
    }
  ]
}