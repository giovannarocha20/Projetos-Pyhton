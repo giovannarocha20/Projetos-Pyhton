{
  "nbformat": 4,
  "nbformat_minor": 0,
  "metadata": {
    "colab": {
      "provenance": []
    },
    "kernelspec": {
      "name": "python3",
      "display_name": "Python 3"
    },
    "language_info": {
      "name": "python"
    }
  },
  "cells": [
    {
      "cell_type": "code",
      "execution_count": 1,
      "metadata": {
        "colab": {
          "base_uri": "https://localhost:8080/"
        },
        "id": "x4MN8CkW69dx",
        "outputId": "c598d651-24ad-4d37-9b14-faf168034e1b"
      },
      "outputs": [
        {
          "output_type": "stream",
          "name": "stdout",
          "text": [
            "Requirement already satisfied: flask in /usr/local/lib/python3.10/dist-packages (3.0.3)\n",
            "Collecting flask-ngrok\n",
            "  Downloading flask_ngrok-0.0.25-py3-none-any.whl.metadata (1.8 kB)\n",
            "Requirement already satisfied: Werkzeug>=3.0.0 in /usr/local/lib/python3.10/dist-packages (from flask) (3.1.3)\n",
            "Requirement already satisfied: Jinja2>=3.1.2 in /usr/local/lib/python3.10/dist-packages (from flask) (3.1.4)\n",
            "Requirement already satisfied: itsdangerous>=2.1.2 in /usr/local/lib/python3.10/dist-packages (from flask) (2.2.0)\n",
            "Requirement already satisfied: click>=8.1.3 in /usr/local/lib/python3.10/dist-packages (from flask) (8.1.7)\n",
            "Requirement already satisfied: blinker>=1.6.2 in /usr/local/lib/python3.10/dist-packages (from flask) (1.9.0)\n",
            "Requirement already satisfied: requests in /usr/local/lib/python3.10/dist-packages (from flask-ngrok) (2.32.3)\n",
            "Requirement already satisfied: MarkupSafe>=2.0 in /usr/local/lib/python3.10/dist-packages (from Jinja2>=3.1.2->flask) (3.0.2)\n",
            "Requirement already satisfied: charset-normalizer<4,>=2 in /usr/local/lib/python3.10/dist-packages (from requests->flask-ngrok) (3.4.0)\n",
            "Requirement already satisfied: idna<4,>=2.5 in /usr/local/lib/python3.10/dist-packages (from requests->flask-ngrok) (3.10)\n",
            "Requirement already satisfied: urllib3<3,>=1.21.1 in /usr/local/lib/python3.10/dist-packages (from requests->flask-ngrok) (2.2.3)\n",
            "Requirement already satisfied: certifi>=2017.4.17 in /usr/local/lib/python3.10/dist-packages (from requests->flask-ngrok) (2024.8.30)\n",
            "Downloading flask_ngrok-0.0.25-py3-none-any.whl (3.1 kB)\n",
            "Installing collected packages: flask-ngrok\n",
            "Successfully installed flask-ngrok-0.0.25\n"
          ]
        }
      ],
      "source": [
        "!pip install flask flask-ngrok"
      ]
    },
    {
      "cell_type": "code",
      "source": [
        "!pip install pyngrok"
      ],
      "metadata": {
        "colab": {
          "base_uri": "https://localhost:8080/"
        },
        "collapsed": true,
        "id": "y5n1R2Vw6-PU",
        "outputId": "e60997a5-0134-4e80-de62-62f166aba73f"
      },
      "execution_count": 2,
      "outputs": [
        {
          "output_type": "stream",
          "name": "stdout",
          "text": [
            "Collecting pyngrok\n",
            "  Downloading pyngrok-7.2.1-py3-none-any.whl.metadata (8.3 kB)\n",
            "Requirement already satisfied: PyYAML>=5.1 in /usr/local/lib/python3.10/dist-packages (from pyngrok) (6.0.2)\n",
            "Downloading pyngrok-7.2.1-py3-none-any.whl (22 kB)\n",
            "Installing collected packages: pyngrok\n",
            "Successfully installed pyngrok-7.2.1\n"
          ]
        }
      ]
    },
    {
      "cell_type": "code",
      "source": [
        "!ngrok authtoken '2pA4rHZ7YKyY310E3PqeA4NyD7j_yPJcwUcia7EttYwcXzWi'"
      ],
      "metadata": {
        "colab": {
          "base_uri": "https://localhost:8080/"
        },
        "id": "2Tbm6Nc37Hdw",
        "outputId": "e51f88bb-8e59-4845-d102-b610fa9758c1"
      },
      "execution_count": 3,
      "outputs": [
        {
          "output_type": "stream",
          "name": "stdout",
          "text": [
            "Authtoken saved to configuration file: /root/.config/ngrok/ngrok.yml\n"
          ]
        }
      ]
    },
    {
      "cell_type": "code",
      "source": [
        "from flask import Flask, jsonify\n",
        "\n",
        "app = Flask(__name__)"
      ],
      "metadata": {
        "id": "bAiD5f289kNK"
      },
      "execution_count": 2,
      "outputs": []
    },
    {
      "cell_type": "code",
      "source": [
        "cotacoes = {\n",
        "    \"BITCOIN\": 50000.0,\n",
        "    \"ETHEREUM\": 3000.0,\n",
        "    \"LITECOIN\": 200.0,\n",
        "    \"MOEDA_FICTICIA\": 42.0,\n",
        "}\n",
        "\n",
        "@app.route(\"/cotacao/<moeda>\", methods=[\"GET\"])\n",
        "def cotacao(moeda):\n",
        "    moeda = moeda.upper()\n",
        "    if moeda in cotacoes:\n",
        "        return jsonify({moeda: cotacoes[moeda]})\n",
        "    else:\n",
        "        return jsonify({\"error\": \"Moeda não encontrada\"}), 404"
      ],
      "metadata": {
        "id": "nuWE14-A-IcY"
      },
      "execution_count": 3,
      "outputs": []
    },
    {
      "cell_type": "code",
      "source": [
        "from pyngrok import ngrok\n",
        "\n",
        "if __name__ == \"__main__\":\n",
        "    public_url = ngrok.connect(5000)\n",
        "    print(f\"Seu servidor está rodando no link público: {public_url}\")\n",
        "\n",
        "    app.run(port=5000)"
      ],
      "metadata": {
        "colab": {
          "base_uri": "https://localhost:8080/"
        },
        "id": "Gk4k4Rur-N7s",
        "outputId": "b1fd0424-bb5f-47b0-c498-ea308671239d"
      },
      "execution_count": null,
      "outputs": [
        {
          "output_type": "stream",
          "name": "stdout",
          "text": [
            "Seu servidor está rodando no link público: NgrokTunnel: \"https://0aea-35-233-181-235.ngrok-free.app\" -> \"http://localhost:5000\"\n",
            " * Serving Flask app '__main__'\n",
            " * Debug mode: off\n"
          ]
        },
        {
          "output_type": "stream",
          "name": "stderr",
          "text": [
            "INFO:werkzeug:\u001b[31m\u001b[1mWARNING: This is a development server. Do not use it in a production deployment. Use a production WSGI server instead.\u001b[0m\n",
            " * Running on http://127.0.0.1:5000\n",
            "INFO:werkzeug:\u001b[33mPress CTRL+C to quit\u001b[0m\n",
            "INFO:werkzeug:127.0.0.1 - - [21/Nov/2024 13:49:02] \"GET /cotacao/BITCOIN HTTP/1.1\" 200 -\n",
            "INFO:werkzeug:127.0.0.1 - - [21/Nov/2024 13:49:02] \"\u001b[33mGET /favicon.ico HTTP/1.1\u001b[0m\" 404 -\n",
            "INFO:werkzeug:127.0.0.1 - - [21/Nov/2024 13:50:43] \"GET /cotacao/MOEDA_FICTICIA HTTP/1.1\" 200 -\n",
            "INFO:werkzeug:127.0.0.1 - - [21/Nov/2024 13:50:50] \"GET /cotacao/MOEDA_FICTICIA HTTP/1.1\" 200 -\n",
            "INFO:werkzeug:127.0.0.1 - - [21/Nov/2024 13:50:58] \"\u001b[33mGET /cotacao/INEXISTENTE HTTP/1.1\u001b[0m\" 404 -\n",
            "INFO:werkzeug:127.0.0.1 - - [21/Nov/2024 13:54:45] \"\u001b[33mGET /cotacao/INEXISTENTE HTTP/1.1\u001b[0m\" 404 -\n"
          ]
        }
      ]
    },
    {
      "cell_type": "markdown",
      "source": [
        "## BITCOIN\n",
        "\n",
        "**Para obter a cotação de \"BITCOIN\":** https://0aea-35-233-181-235.ngrok-free.app/cotacao/BITCOIN\n"
      ],
      "metadata": {
        "id": "Mbuo1flx_B2C"
      }
    },
    {
      "cell_type": "markdown",
      "source": [
        "## MOEDA FICTÍCIA\n",
        "\n",
        "**Para uma moeda fictícia como \"MOEDA_FICTICIA\":** https://0aea-35-233-181-235.ngrok-free.app/cotacao/MOEDA_FICTICIA\n",
        "\n"
      ],
      "metadata": {
        "id": "IgZpABzD_QSg"
      }
    },
    {
      "cell_type": "markdown",
      "source": [
        "## Caso a moeda não exista:\n",
        "\n",
        "**Teste com uma moeda não cadastrada, como:** https://0aea-35-233-181-235.ngrok-free.app/cotacao/INEXISTENTE\n",
        "\n"
      ],
      "metadata": {
        "id": "moW0ESnFAGed"
      }
    },
    {
      "cell_type": "markdown",
      "source": [
        "*Deve retornar um erro no formato JSON*:\n",
        "\n",
        "{\n",
        "  \"error\": \"Moeda não encontrada\"\n",
        "}\n"
      ],
      "metadata": {
        "id": "224TY3_5AWRE"
      }
    }
  ]
}