{
  "nbformat": 4,
  "nbformat_minor": 0,
  "metadata": {
    "colab": {
      "provenance": []
    },
    "kernelspec": {
      "name": "python3",
      "display_name": "Python 3"
    },
    "language_info": {
      "name": "python"
    }
  },
  "cells": [
    {
      "cell_type": "markdown",
      "source": [
        "## 1. Criação de uma lista e soma:\n",
        "\n"
      ],
      "metadata": {
        "id": "nZ3p636YNKHH"
      }
    },
    {
      "cell_type": "code",
      "execution_count": 1,
      "metadata": {
        "colab": {
          "base_uri": "https://localhost:8080/"
        },
        "id": "alH3bIvrM9ki",
        "outputId": "a5cbfebe-21f6-4ded-97b4-283c013abe18"
      },
      "outputs": [
        {
          "output_type": "stream",
          "name": "stdout",
          "text": [
            "42\n"
          ]
        }
      ],
      "source": [
        "lista1 = [1, 10, 6, 7, 8, 10]\n",
        "soma = sum(lista1)\n",
        "print(soma)"
      ]
    },
    {
      "cell_type": "markdown",
      "source": [
        "## 2. Criação de uma lista de 1 a 100 e impressão:"
      ],
      "metadata": {
        "id": "jZdELEo-NW0A"
      }
    },
    {
      "cell_type": "code",
      "source": [
        "lista2 = list(range(1, 101))\n",
        "print(lista2)"
      ],
      "metadata": {
        "colab": {
          "base_uri": "https://localhost:8080/"
        },
        "id": "HCgzRC1KNdSl",
        "outputId": "8072cdd7-47c6-443a-aa7c-548075d589e7"
      },
      "execution_count": 2,
      "outputs": [
        {
          "output_type": "stream",
          "name": "stdout",
          "text": [
            "[1, 2, 3, 4, 5, 6, 7, 8, 9, 10, 11, 12, 13, 14, 15, 16, 17, 18, 19, 20, 21, 22, 23, 24, 25, 26, 27, 28, 29, 30, 31, 32, 33, 34, 35, 36, 37, 38, 39, 40, 41, 42, 43, 44, 45, 46, 47, 48, 49, 50, 51, 52, 53, 54, 55, 56, 57, 58, 59, 60, 61, 62, 63, 64, 65, 66, 67, 68, 69, 70, 71, 72, 73, 74, 75, 76, 77, 78, 79, 80, 81, 82, 83, 84, 85, 86, 87, 88, 89, 90, 91, 92, 93, 94, 95, 96, 97, 98, 99, 100]\n"
          ]
        }
      ]
    },
    {
      "cell_type": "markdown",
      "source": [
        "## 3. Juntar duas listas e remover duplicados:\n",
        "\n"
      ],
      "metadata": {
        "id": "ZtxDrNjXNc88"
      }
    },
    {
      "cell_type": "code",
      "source": [
        "lista3a = [30, 4, 43, 52, 65, -10]\n",
        "lista3b = [43, 2, 4, 76, 32, 65, 3]\n",
        "lista_unida = list(set(lista3a + lista3b))\n",
        "print(lista_unida)"
      ],
      "metadata": {
        "colab": {
          "base_uri": "https://localhost:8080/"
        },
        "id": "FQTGg2tnNjqM",
        "outputId": "4760c100-6ab9-4061-8648-d5e790892901"
      },
      "execution_count": 4,
      "outputs": [
        {
          "output_type": "stream",
          "name": "stdout",
          "text": [
            "[32, 65, 2, 3, 4, 43, 76, 52, -10, 30]\n"
          ]
        }
      ]
    },
    {
      "cell_type": "markdown",
      "source": [
        "## 4. Lista dos meses do ano e verificar o mês de nascimento:\n",
        "\n"
      ],
      "metadata": {
        "id": "phxGsdm_Ni-i"
      }
    },
    {
      "cell_type": "code",
      "source": [
        "meses = [\"Janeiro\", \"Fevereiro\", \"Março\", \"Abril\", \"Maio\", \"Junho\", \"Julho\", \"Agosto\", \"Setembro\", \"Outubro\", \"Novembro\", \"Dezembro\"]\n",
        "mes_nascimento = int(input(\"Digite o número do mês em que você nasceu: \"))\n",
        "print(\"Você nasceu em:\", meses[mes_nascimento - 1])"
      ],
      "metadata": {
        "colab": {
          "base_uri": "https://localhost:8080/"
        },
        "id": "9MTFPAXGNsk0",
        "outputId": "7f3a7efe-2525-4a2c-e28c-06c0fb23c47c"
      },
      "execution_count": 6,
      "outputs": [
        {
          "output_type": "stream",
          "name": "stdout",
          "text": [
            "Digite o número do mês em que você nasceu: 10\n",
            "Você nasceu em: Outubro\n"
          ]
        }
      ]
    },
    {
      "cell_type": "markdown",
      "source": [
        "## 5. Lista dos dias do mês de nascimento e remoção do dia de nascimento:\n",
        "\n"
      ],
      "metadata": {
        "id": "-O5Oum_fNuR2"
      }
    },
    {
      "cell_type": "code",
      "source": [
        "dias = list(range(1, 32))  # Lista de dias de 1 a 31\n",
        "dia_nascimento = int(input(\"Digite o dia em que você nasceu: \"))\n",
        "dias.remove(dia_nascimento)  # Remove o dia de nascimento\n",
        "print(dias)"
      ],
      "metadata": {
        "colab": {
          "base_uri": "https://localhost:8080/"
        },
        "id": "-J7nG-TsNtOF",
        "outputId": "27081a49-43fb-4d2c-d677-40d024907ac8"
      },
      "execution_count": 7,
      "outputs": [
        {
          "output_type": "stream",
          "name": "stdout",
          "text": [
            "Digite o dia em que você nasceu: 1\n",
            "[2, 3, 4, 5, 6, 7, 8, 9, 10, 11, 12, 13, 14, 15, 16, 17, 18, 19, 20, 21, 22, 23, 24, 25, 26, 27, 28, 29, 30, 31]\n"
          ]
        }
      ]
    }
  ]
}