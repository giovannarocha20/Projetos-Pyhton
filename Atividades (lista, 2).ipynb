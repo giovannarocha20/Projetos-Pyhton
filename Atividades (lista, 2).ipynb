{
  "nbformat": 4,
  "nbformat_minor": 0,
  "metadata": {
    "colab": {
      "provenance": []
    },
    "kernelspec": {
      "name": "python3",
      "display_name": "Python 3"
    },
    "language_info": {
      "name": "python"
    }
  },
  "cells": [
    {
      "cell_type": "markdown",
      "source": [
        "## 1.  Criar uma lista com três objetos e suas funções, recebendo o nome do objeto via input:\n",
        "\n"
      ],
      "metadata": {
        "id": "s09_WKzgOg8C"
      }
    },
    {
      "cell_type": "code",
      "execution_count": 1,
      "metadata": {
        "colab": {
          "base_uri": "https://localhost:8080/"
        },
        "id": "b0yaIgpkOSgK",
        "outputId": "32f6fcbb-bb2d-45db-d78c-28b8e60f908c"
      },
      "outputs": [
        {
          "output_type": "stream",
          "name": "stdout",
          "text": [
            "Digite o nome de um objeto: mesa\n",
            "Função do mesa: Suporte para objetos e refeições.\n"
          ]
        }
      ],
      "source": [
        "objetos = {\n",
        "    \"cadeira\": \"Servir como assento.\",\n",
        "    \"mesa\": \"Suporte para objetos e refeições.\",\n",
        "    \"computador\": \"Realizar operações computacionais.\"\n",
        "}\n",
        "\n",
        "nome_objeto = input(\"Digite o nome de um objeto: \").lower()\n",
        "if nome_objeto in objetos:\n",
        "    print(f\"Função do {nome_objeto}: {objetos[nome_objeto]}\")\n",
        "else:\n",
        "    print(\"Objeto não existe.\")"
      ]
    },
    {
      "cell_type": "markdown",
      "source": [
        "## 2. Criar uma lista com números negativos de -30 a -20 e imprimir:\n",
        "\n",
        "\n"
      ],
      "metadata": {
        "id": "oKJbB9GHOj5K"
      }
    },
    {
      "cell_type": "code",
      "source": [
        "lista_negativos = [x for x in range(-30, -19)]\n",
        "print(lista_negativos)"
      ],
      "metadata": {
        "colab": {
          "base_uri": "https://localhost:8080/"
        },
        "id": "fBANB3KcOlay",
        "outputId": "44773d33-37c1-44fb-832b-4e5651f32e0b"
      },
      "execution_count": 2,
      "outputs": [
        {
          "output_type": "stream",
          "name": "stdout",
          "text": [
            "[-30, -29, -28, -27, -26, -25, -24, -23, -22, -21, -20]\n"
          ]
        }
      ]
    },
    {
      "cell_type": "markdown",
      "source": [
        "## 3. Filtrar números de 4 a 100 que são divisíveis por 4:\n",
        "\n"
      ],
      "metadata": {
        "id": "Z6tgdcLHOlsw"
      }
    },
    {
      "cell_type": "code",
      "source": [
        "divisiveis_por_4 = [x for x in range(4, 101) if x % 4 == 0]\n",
        "print(divisiveis_por_4)"
      ],
      "metadata": {
        "colab": {
          "base_uri": "https://localhost:8080/"
        },
        "id": "swQ4_Up3OnHC",
        "outputId": "0d0d9bfc-b8a1-40b3-b9d9-2d308e2310b6"
      },
      "execution_count": 3,
      "outputs": [
        {
          "output_type": "stream",
          "name": "stdout",
          "text": [
            "[4, 8, 12, 16, 20, 24, 28, 32, 36, 40, 44, 48, 52, 56, 60, 64, 68, 72, 76, 80, 84, 88, 92, 96, 100]\n"
          ]
        }
      ]
    },
    {
      "cell_type": "markdown",
      "source": [
        "## 4. Desafio: Criar uma lista de 0 a 100 contendo apenas números que terminam em 0:\n",
        "\n"
      ],
      "metadata": {
        "id": "UUg9cAAPOnbf"
      }
    },
    {
      "cell_type": "code",
      "source": [
        "terminam_em_zero = [x for x in range(101) if x % 10 == 0]\n",
        "print(terminam_em_zero)"
      ],
      "metadata": {
        "colab": {
          "base_uri": "https://localhost:8080/"
        },
        "id": "86yM-92EOp8q",
        "outputId": "aed3a0b8-49ea-4e43-bdc0-993364d60d74"
      },
      "execution_count": 4,
      "outputs": [
        {
          "output_type": "stream",
          "name": "stdout",
          "text": [
            "[0, 10, 20, 30, 40, 50, 60, 70, 80, 90, 100]\n"
          ]
        }
      ]
    },
    {
      "cell_type": "markdown",
      "source": [
        "## 5. Percorrer números de 0 a 20 e criar array com '0' para múltiplos de 10 e '-' para os outros:"
      ],
      "metadata": {
        "id": "qQzZbId4QusW"
      }
    },
    {
      "cell_type": "code",
      "source": [
        "array = ['0' if x % 10 == 0 else '-' for x in range(21)]\n",
        "print(array)"
      ],
      "metadata": {
        "colab": {
          "base_uri": "https://localhost:8080/"
        },
        "id": "kN1Sxf9yQs4T",
        "outputId": "f49fc3b8-3dab-48d4-9cf3-1fe98b0f2302"
      },
      "execution_count": 5,
      "outputs": [
        {
          "output_type": "stream",
          "name": "stdout",
          "text": [
            "['0', '-', '-', '-', '-', '-', '-', '-', '-', '-', '0', '-', '-', '-', '-', '-', '-', '-', '-', '-', '0']\n"
          ]
        }
      ]
    },
    {
      "cell_type": "code",
      "source": [],
      "metadata": {
        "id": "nR2W3hHrQzjP"
      },
      "execution_count": null,
      "outputs": []
    }
  ]
}