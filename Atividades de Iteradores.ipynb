{
  "nbformat": 4,
  "nbformat_minor": 0,
  "metadata": {
    "colab": {
      "provenance": []
    },
    "kernelspec": {
      "name": "python3",
      "display_name": "Python 3"
    },
    "language_info": {
      "name": "python"
    }
  },
  "cells": [
    {
      "cell_type": "markdown",
      "source": [
        "## Atividade 1:Crie uma função iterável \"meses\" que retorne os meses. Use um laço for para mostrar os valores."
      ],
      "metadata": {
        "id": "j2klMscISVrK"
      }
    },
    {
      "cell_type": "code",
      "execution_count": 1,
      "metadata": {
        "colab": {
          "base_uri": "https://localhost:8080/"
        },
        "id": "CgmzSou8Qs9h",
        "outputId": "770d1dbe-c3d9-4a8b-e20e-ea2e412a3147"
      },
      "outputs": [
        {
          "output_type": "stream",
          "name": "stdout",
          "text": [
            "Janeiro\n",
            "Fevereiro\n",
            "Março\n",
            "Abril\n",
            "Maio\n",
            "Junho\n",
            "Julho\n",
            "Agosto\n",
            "Setembro\n",
            "Outubro\n",
            "Novembro\n",
            "Dezembro\n"
          ]
        }
      ],
      "source": [
        "def meses():\n",
        "    lista_meses = ['Janeiro', 'Fevereiro', 'Março', 'Abril', 'Maio', 'Junho',\n",
        "                   'Julho', 'Agosto', 'Setembro', 'Outubro', 'Novembro', 'Dezembro']\n",
        "    for mes in lista_meses:\n",
        "        yield mes\n",
        "for mes in meses():\n",
        "    print(mes)"
      ]
    },
    {
      "cell_type": "markdown",
      "source": [
        "## Atividade 2: Crie uma função iterável que receba uma lista de números e, a cada iteração, retorne um item da lista multiplicado por dois."
      ],
      "metadata": {
        "id": "SXLR_cu5TYqd"
      }
    },
    {
      "cell_type": "code",
      "source": [
        "def multiplica_por_dois(lista_numeros):\n",
        "    for numero in lista_numeros:\n",
        "        yield numero * 2\n",
        "numeros = [1, 2, 3, 4, 5]\n",
        "for resultado in multiplica_por_dois(numeros):\n",
        "    print(resultado)"
      ],
      "metadata": {
        "colab": {
          "base_uri": "https://localhost:8080/"
        },
        "id": "8HuAMaWjSd6i",
        "outputId": "ec08c874-ed33-46e8-f095-e9764408daf4"
      },
      "execution_count": 2,
      "outputs": [
        {
          "output_type": "stream",
          "name": "stdout",
          "text": [
            "2\n",
            "4\n",
            "6\n",
            "8\n",
            "10\n"
          ]
        }
      ]
    },
    {
      "cell_type": "markdown",
      "source": [
        "## Atividade 3: Crie uma classe iterável chamada \"Tabuada\" que calcule a tabuada de um número recebido no construtor. A cada iteração, retorne um resultado da tabuada (use um laço for para testar)."
      ],
      "metadata": {
        "id": "leg2GQN8TdVs"
      }
    },
    {
      "cell_type": "code",
      "source": [
        "class Tabuada:\n",
        "    def __init__(self, numero):\n",
        "        self.numero = numero\n",
        "        self.multiplicador = 0\n",
        "\n",
        "    def __iter__(self):\n",
        "        return self\n",
        "\n",
        "    def __next__(self):\n",
        "        if self.multiplicador <= 10:\n",
        "            resultado = self.numero * self.multiplicador\n",
        "            self.multiplicador += 1\n",
        "            return resultado\n",
        "        else:\n",
        "            raise StopIteration\n",
        "for resultado in Tabuada(5):\n",
        "    print(resultado)"
      ],
      "metadata": {
        "colab": {
          "base_uri": "https://localhost:8080/"
        },
        "id": "zfX8kjozTcZ-",
        "outputId": "0b0c5055-b39f-4143-ecf5-cbf05bacfe49"
      },
      "execution_count": 3,
      "outputs": [
        {
          "output_type": "stream",
          "name": "stdout",
          "text": [
            "0\n",
            "5\n",
            "10\n",
            "15\n",
            "20\n",
            "25\n",
            "30\n",
            "35\n",
            "40\n",
            "45\n",
            "50\n"
          ]
        }
      ]
    },
    {
      "cell_type": "markdown",
      "source": [
        "## Atividade 4 (Desafio): Crie uma classe que retorne os fatoriais de um número no intervalo de X a Y, recebidos por parâmetro no construtor."
      ],
      "metadata": {
        "id": "GN1GRBKBTkRq"
      }
    },
    {
      "cell_type": "code",
      "source": [
        "import math\n",
        "class Fatorial:\n",
        "    def __init__(self, x, y):\n",
        "        self.x = x\n",
        "        self.y = y\n",
        "        self.atual = x\n",
        "\n",
        "    def __iter__(self):\n",
        "        return self\n",
        "\n",
        "    def __next__(self):\n",
        "        if self.atual <= self.y:\n",
        "            resultado = math.factorial(self.atual)\n",
        "            self.atual += 1\n",
        "            return resultado\n",
        "        else:\n",
        "            raise StopIteration\n",
        "for resultado in Fatorial(3, 6):\n",
        "    print(resultado)"
      ],
      "metadata": {
        "colab": {
          "base_uri": "https://localhost:8080/"
        },
        "id": "zyZhzNyTTick",
        "outputId": "49a0a14d-09e0-49bb-fb76-d94b928577eb"
      },
      "execution_count": 4,
      "outputs": [
        {
          "output_type": "stream",
          "name": "stdout",
          "text": [
            "6\n",
            "24\n",
            "120\n",
            "720\n"
          ]
        }
      ]
    },
    {
      "cell_type": "markdown",
      "source": [
        "## Atividade 5: Baseado no exercício 1, retorne o número que representa o mês e o nome do mês. Faça isso de duas maneiras: uma usando enumerate() e outra usando join()."
      ],
      "metadata": {
        "id": "2BnkDsCLTrIR"
      }
    },
    {
      "cell_type": "markdown",
      "source": [
        "**Código com enumerate():**"
      ],
      "metadata": {
        "id": "mNk5_ibdT0o4"
      }
    },
    {
      "cell_type": "code",
      "source": [
        "def meses_com_numero():\n",
        "    lista_meses = ['Janeiro', 'Fevereiro', 'Março', 'Abril', 'Maio', 'Junho',\n",
        "                   'Julho', 'Agosto', 'Setembro', 'Outubro', 'Novembro', 'Dezembro']\n",
        "    for i, mes in enumerate(lista_meses, 1):\n",
        "        print(f\"{i} - {mes}\")\n",
        "meses_com_numero()"
      ],
      "metadata": {
        "colab": {
          "base_uri": "https://localhost:8080/"
        },
        "id": "9ryIquaZTpdx",
        "outputId": "15604f41-0477-46ee-dc99-599b2799307c"
      },
      "execution_count": 5,
      "outputs": [
        {
          "output_type": "stream",
          "name": "stdout",
          "text": [
            "1 - Janeiro\n",
            "2 - Fevereiro\n",
            "3 - Março\n",
            "4 - Abril\n",
            "5 - Maio\n",
            "6 - Junho\n",
            "7 - Julho\n",
            "8 - Agosto\n",
            "9 - Setembro\n",
            "10 - Outubro\n",
            "11 - Novembro\n",
            "12 - Dezembro\n"
          ]
        }
      ]
    },
    {
      "cell_type": "markdown",
      "source": [
        "**Código com join():**"
      ],
      "metadata": {
        "id": "GBNlgaHaT7IH"
      }
    },
    {
      "cell_type": "code",
      "source": [
        "def meses_juntos():\n",
        "    lista_meses = ['Janeiro', 'Fevereiro', 'Março', 'Abril', 'Maio', 'Junho',\n",
        "                   'Julho', 'Agosto', 'Setembro', 'Outubro', 'Novembro', 'Dezembro']\n",
        "    resultado = \"\\n\".join([f\"{i + 1} - {mes}\" for i, mes in enumerate(lista_meses)])\n",
        "    print(resultado)\n",
        "meses_juntos()"
      ],
      "metadata": {
        "colab": {
          "base_uri": "https://localhost:8080/"
        },
        "id": "qaW3TN-pTvId",
        "outputId": "0aed8347-17e2-40c0-942c-507553384cea"
      },
      "execution_count": 6,
      "outputs": [
        {
          "output_type": "stream",
          "name": "stdout",
          "text": [
            "1 - Janeiro\n",
            "2 - Fevereiro\n",
            "3 - Março\n",
            "4 - Abril\n",
            "5 - Maio\n",
            "6 - Junho\n",
            "7 - Julho\n",
            "8 - Agosto\n",
            "9 - Setembro\n",
            "10 - Outubro\n",
            "11 - Novembro\n",
            "12 - Dezembro\n"
          ]
        }
      ]
    },
    {
      "cell_type": "markdown",
      "source": [
        "## Atividade 6: Crie uma função que receba uma lista de frases e junte as mesmas em uma só, separadas por ponto final."
      ],
      "metadata": {
        "id": "U4NQ3pw2UDRl"
      }
    },
    {
      "cell_type": "code",
      "source": [
        "def juntar_frases(frases):\n",
        "    return '. '.join(frases) + '.'\n",
        "frases = [\"Esta é a primeira frase\", \"Esta é a segunda\", \"Esta é a última frase\"]\n",
        "resultado = juntar_frases(frases)\n",
        "print(resultado)"
      ],
      "metadata": {
        "colab": {
          "base_uri": "https://localhost:8080/"
        },
        "id": "t6ooIaEBT_x8",
        "outputId": "91100e29-ef1b-450c-a959-795888c91322"
      },
      "execution_count": 7,
      "outputs": [
        {
          "output_type": "stream",
          "name": "stdout",
          "text": [
            "Esta é a primeira frase. Esta é a segunda. Esta é a última frase.\n"
          ]
        }
      ]
    }
  ]
}