{
  "nbformat": 4,
  "nbformat_minor": 0,
  "metadata": {
    "colab": {
      "provenance": []
    },
    "kernelspec": {
      "name": "python3",
      "display_name": "Python 3"
    },
    "language_info": {
      "name": "python"
    }
  },
  "cells": [
    {
      "cell_type": "markdown",
      "source": [
        "## Atividade 1: Você deve ler o arquivo \"exercicio1.txt\" e transformá-lo em uma lista. Vou considerar que o arquivo está no mesmo diretório do seu código."
      ],
      "metadata": {
        "id": "1odNKtpxLr09"
      }
    },
    {
      "cell_type": "code",
      "source": [
        "lista = []\n",
        "with open('exercicio1.txt', 'r') as arquivo:\n",
        "  for linha in arquivo:\n",
        "    lista.append(linha)\n",
        "\n",
        "print(lista)"
      ],
      "metadata": {
        "colab": {
          "base_uri": "https://localhost:8080/"
        },
        "id": "DzfVvvgMMl9x",
        "outputId": "66a419c9-bebe-49ac-b577-bcc8b77671a5"
      },
      "execution_count": 13,
      "outputs": [
        {
          "output_type": "stream",
          "name": "stdout",
          "text": [
            "['5\\n', '8\\n', '6\\n', '5\\n', '3\\n', '2\\n', '5\\n', '1\\n', '0']\n"
          ]
        }
      ]
    },
    {
      "cell_type": "markdown",
      "source": [
        "## Atividade 2: Agora, você deve ler o arquivo \"exercicio2.txt\", onde cada linha tem um produto e seu valor. Criaremos uma classe Produto para representar os iten"
      ],
      "metadata": {
        "id": "Dq2wWu34Ly_k"
      }
    },
    {
      "cell_type": "code",
      "source": [
        "class Produto:\n",
        "  def __init__(self, nome, valor):\n",
        "    self.nome = nome\n",
        "    self.valor = valor\n",
        "\n",
        "produtos = []\n",
        "\n",
        "with open('exercicio2.txt', 'rt') as arquivo:\n",
        "  for linha in arquivo:\n",
        "    indice_separa = linha.index(\"R$\")\n",
        "\n",
        "    nome = linha[:indice_separa-1]\n",
        "    valor = linha[indice_separa:len(linha)-1]\n",
        "    produto = Produto(nome, valor)\n",
        "    produtos.append(produto)\n",
        "\n",
        "for produto in produtos:\n",
        "  print(produto.nome, produto.valor)"
      ],
      "metadata": {
        "colab": {
          "base_uri": "https://localhost:8080/"
        },
        "id": "HAZGfqPDLyeN",
        "outputId": "7fbdcc6d-508b-48cb-cbb9-26af9d3b2045"
      },
      "execution_count": 20,
      "outputs": [
        {
          "output_type": "stream",
          "name": "stdout",
          "text": [
            "Ferrari R$ 1.000.000.\n",
            "Ford R$ 150.000\n",
            "Honda R$ 210.000\n",
            "Tesla R$ 300.000\n",
            "Rolls Royce R$ 7.700.000 \n"
          ]
        }
      ]
    },
    {
      "cell_type": "markdown",
      "source": [
        "## Atividade 3: Aqui você deve escrever os números de 0 a 100 em um arquivo, cada número em uma linha."
      ],
      "metadata": {
        "id": "jFwt5PjiPizP"
      }
    },
    {
      "cell_type": "code",
      "source": [
        "with open('exercicio3.txt', 'wt') as arquivo:\n",
        "    for i in range(0,101):\n",
        "      arquivo.write(str(i) + '\\n')"
      ],
      "metadata": {
        "id": "4s6eHmEhO0ve"
      },
      "execution_count": 23,
      "outputs": []
    },
    {
      "cell_type": "markdown",
      "source": [
        "## Atividade 4: Agora, escreva em um arquivo todos os números positivos menores que 100 que são divisíveis por 3."
      ],
      "metadata": {
        "id": "IbUyzrmFQFot"
      }
    },
    {
      "cell_type": "code",
      "source": [
        "with open('exercicio4.txt', 'xt') as arquivo:\n",
        "  for i in range(0,101):\n",
        "    if i % 3 == 0:\n",
        "      arquivo.write(str(i) + '\\n')\n",
        ""
      ],
      "metadata": {
        "id": "FwRbcUk_PoLr"
      },
      "execution_count": 24,
      "outputs": []
    },
    {
      "cell_type": "markdown",
      "source": [
        "## Atividade 5: Você deve criar um arquivo CSV com informações da sua família. Vou criar duas funções: uma para escrever e outra para ler o arquivo."
      ],
      "metadata": {
        "id": "LRV0fgxDQhdD"
      }
    },
    {
      "cell_type": "code",
      "source": [
        "import csv\n",
        "\n",
        "def escrever_familia_csv(arquivo_csv, familia):\n",
        "    with open(arquivo_csv, 'w', newline='') as csvfile:\n",
        "        escritor = csv.writer(csvfile)\n",
        "        for membro, parentesco in familia:\n",
        "            escritor.writerow([membro, parentesco])\n",
        "\n",
        "def ler_familia_csv(arquivo_csv):\n",
        "    with open(arquivo_csv, 'r') as csvfile:\n",
        "        leitor = csv.reader(csvfile)\n",
        "        for linha in leitor:\n",
        "            print(f'Membro: {linha[0]}, Parentesco: {linha[1]}')\n",
        "\n",
        "familia = [\n",
        "    ('Manoel', 'Pai'),\n",
        "    ('Nivalda', 'Esposa'),\n",
        "    ('Adriana', 'Filha'),\n",
        "    ('Moacir', 'Filho'),]\n",
        "\n",
        "escrever_familia_csv('familia.csv', familia)\n",
        "\n",
        "ler_familia_csv('familia.csv')"
      ],
      "metadata": {
        "colab": {
          "base_uri": "https://localhost:8080/"
        },
        "id": "s7JrsXUxQdeI",
        "outputId": "179fda5c-215b-4db9-a2fd-543fdf2711f6"
      },
      "execution_count": 28,
      "outputs": [
        {
          "output_type": "stream",
          "name": "stdout",
          "text": [
            "Membro: Manoel, Parentesco: Pai\n",
            "Membro: Nivalda, Parentesco: Esposa\n",
            "Membro: Adriana, Parentesco: Filha\n",
            "Membro: Moacir, Parentesco: Filho\n"
          ]
        }
      ]
    }
  ]
}