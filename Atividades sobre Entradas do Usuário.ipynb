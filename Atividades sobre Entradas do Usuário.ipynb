{
  "nbformat": 4,
  "nbformat_minor": 0,
  "metadata": {
    "colab": {
      "provenance": []
    },
    "kernelspec": {
      "name": "python3",
      "display_name": "Python 3"
    },
    "language_info": {
      "name": "python"
    }
  },
  "cells": [
    {
      "cell_type": "markdown",
      "source": [
        "## 1. Programa que realiza a divisão entre dois números e formata o print para mostrar o cálculo completo:"
      ],
      "metadata": {
        "id": "uPsbmokG7owC"
      }
    },
    {
      "cell_type": "code",
      "execution_count": 2,
      "metadata": {
        "colab": {
          "base_uri": "https://localhost:8080/"
        },
        "id": "BaqWQFfH36Zu",
        "outputId": "b14fb8d7-494b-4ff0-dbe1-66c4809d92f4"
      },
      "outputs": [
        {
          "output_type": "stream",
          "name": "stdout",
          "text": [
            "Digite o primeiro número: 15\n",
            "Digite o segundo número: 58\n",
            "15.0 / 58.0 = 0.25862068965517243\n"
          ]
        }
      ],
      "source": [
        "# Leia dois números pelo input\n",
        "num1 = float(input(\"Digite o primeiro número: \"))\n",
        "num2 = float(input(\"Digite o segundo número: \"))\n",
        "\n",
        "# Realize a divisão\n",
        "resultado = float(num1) / float(num2)\n",
        "\n",
        "# Mostre o cálculo completo\n",
        "print(num1, \"/\", num2, \"=\", resultado)"
      ]
    },
    {
      "cell_type": "markdown",
      "source": [
        "## 2. Programa que formata e mostra a data e hora inseridos pelo usuário:\n"
      ],
      "metadata": {
        "id": "3H-mr1gq8fra"
      }
    },
    {
      "cell_type": "code",
      "source": [
        "# Leia o dia, mês, ano, hora, minuto e segundos do usuário\n",
        "dia = input(\"Digite o dia: \")\n",
        "mes = input(\"Digite o mês: \")\n",
        "ano = input(\"Digite o ano: \")\n",
        "hora = input(\"Digite a hora: \")\n",
        "minuto = input(\"Digite o minuto: \")\n",
        "segundo = input(\"Digite os segundos: \")\n",
        "\n",
        "# Formate e mostre a data e hora\n",
        "print(dia + \"/\" + mes + \"/\" + ano + \" \" + hora + \":\" + minuto + \":\" + segundo)"
      ],
      "metadata": {
        "colab": {
          "base_uri": "https://localhost:8080/"
        },
        "id": "L7l2cwrM73JA",
        "outputId": "aab11b54-2f1d-42ca-d22e-02c87ec9c5b3"
      },
      "execution_count": 4,
      "outputs": [
        {
          "output_type": "stream",
          "name": "stdout",
          "text": [
            "Digite o dia: 1\n",
            "Digite o mês: 10\n",
            "Digite o ano: 2024\n",
            "Digite a hora: 5\n",
            "Digite o minuto: 15\n",
            "Digite os segundos: 02\n",
            "1/10/2024 5:15:02\n"
          ]
        }
      ]
    }
  ]
}