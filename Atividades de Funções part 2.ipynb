{
  "nbformat": 4,
  "nbformat_minor": 0,
  "metadata": {
    "colab": {
      "provenance": []
    },
    "kernelspec": {
      "name": "python3",
      "display_name": "Python 3"
    },
    "language_info": {
      "name": "python"
    }
  },
  "cells": [
    {
      "cell_type": "markdown",
      "source": [
        "## 6. Função que verifica se um valor está presente na lista"
      ],
      "metadata": {
        "id": "rNbW7lreXgmL"
      }
    },
    {
      "cell_type": "code",
      "execution_count": 1,
      "metadata": {
        "colab": {
          "base_uri": "https://localhost:8080/"
        },
        "id": "vFV2T_kf9pYB",
        "outputId": "c5cc8daf-58cf-440d-a138-0ad615baca68"
      },
      "outputs": [
        {
          "output_type": "stream",
          "name": "stdout",
          "text": [
            "True\n",
            "False\n"
          ]
        }
      ],
      "source": [
        "def valor_na_lista(lista, valor):\n",
        "    return valor in lista\n",
        "\n",
        "print(valor_na_lista([1, 2, 3, 4], 3))\n",
        "print(valor_na_lista([1, 2, 3, 4], 5))"
      ]
    },
    {
      "cell_type": "markdown",
      "source": [
        "## 7. Função que retorna se o valor está na lista e sua posição"
      ],
      "metadata": {
        "id": "xfex8_eoXrlc"
      }
    },
    {
      "cell_type": "code",
      "source": [
        "def valor_e_posicao(lista, valor):\n",
        "    if valor in lista:\n",
        "        return True, lista.index(valor)\n",
        "    return False, -1\n",
        "\n",
        "print(valor_e_posicao([1, 2, 3, 4], 3))\n",
        "print(valor_e_posicao([1, 2, 3, 4], 5))"
      ],
      "metadata": {
        "colab": {
          "base_uri": "https://localhost:8080/"
        },
        "id": "X9_qw7cHXqTr",
        "outputId": "fd45612b-b639-43fe-a3da-b4e8eac1db4b"
      },
      "execution_count": 2,
      "outputs": [
        {
          "output_type": "stream",
          "name": "stdout",
          "text": [
            "(True, 2)\n",
            "(False, -1)\n"
          ]
        }
      ]
    },
    {
      "cell_type": "markdown",
      "source": [
        "## 8. Função que recebe parâmetros arbitrários e diz o tipo de cada um"
      ],
      "metadata": {
        "id": "ObxwHNm6X0DJ"
      }
    },
    {
      "cell_type": "code",
      "source": [
        "def tipos_parametros(*args):\n",
        "    return [type(arg) for arg in args]\n",
        "\n",
        "print(tipos_parametros(1, \"texto\", 3.5, True))"
      ],
      "metadata": {
        "colab": {
          "base_uri": "https://localhost:8080/"
        },
        "id": "Rxo6Vku8XzA9",
        "outputId": "9ac42f47-5a17-42ca-d876-a97d13f527ab"
      },
      "execution_count": 3,
      "outputs": [
        {
          "output_type": "stream",
          "name": "stdout",
          "text": [
            "[<class 'int'>, <class 'str'>, <class 'float'>, <class 'bool'>]\n"
          ]
        }
      ]
    },
    {
      "cell_type": "markdown",
      "source": [
        "## 9. Função com decorator para transformar string em citação e lowercase"
      ],
      "metadata": {
        "id": "hL2O6t8OX75_"
      }
    },
    {
      "cell_type": "code",
      "source": [
        "def citação_decorator(func):\n",
        "    def wrapper(texto):\n",
        "        return f'\"{func(texto)}\"'\n",
        "    return wrapper\n",
        "\n",
        "@citação_decorator\n",
        "def transformar_em_lower(texto):\n",
        "    return texto.lower()\n",
        "\n",
        "print(transformar_em_lower(\"Agora são 6:26pm\"))"
      ],
      "metadata": {
        "colab": {
          "base_uri": "https://localhost:8080/"
        },
        "id": "InbQSMP0X6iZ",
        "outputId": "344a53eb-00e1-4a07-cc06-1c1c989fdc01"
      },
      "execution_count": 5,
      "outputs": [
        {
          "output_type": "stream",
          "name": "stdout",
          "text": [
            "\"agora são 6:26pm\"\n"
          ]
        }
      ]
    },
    {
      "cell_type": "markdown",
      "source": [
        "## 10. Função recursiva que imprime a divisão inteira de números de 0 a 10 por 3"
      ],
      "metadata": {
        "id": "NtGrXu76YJKE"
      }
    },
    {
      "cell_type": "code",
      "source": [
        "def divisao_por_3(n=0):\n",
        "    if n > 10:\n",
        "        return\n",
        "    print(n // 3)\n",
        "    divisao_por_3(n + 1)\n",
        "\n",
        "divisao_por_3()"
      ],
      "metadata": {
        "colab": {
          "base_uri": "https://localhost:8080/"
        },
        "id": "9xO-hQ0gYB8t",
        "outputId": "4bd1870b-77ce-4399-881a-f4309b703870"
      },
      "execution_count": 6,
      "outputs": [
        {
          "output_type": "stream",
          "name": "stdout",
          "text": [
            "0\n",
            "0\n",
            "0\n",
            "1\n",
            "1\n",
            "1\n",
            "2\n",
            "2\n",
            "2\n",
            "3\n",
            "3\n"
          ]
        }
      ]
    },
    {
      "cell_type": "code",
      "source": [],
      "metadata": {
        "id": "JqidN5M9YSip"
      },
      "execution_count": null,
      "outputs": []
    }
  ]
}