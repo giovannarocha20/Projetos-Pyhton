{
  "nbformat": 4,
  "nbformat_minor": 0,
  "metadata": {
    "colab": {
      "provenance": []
    },
    "kernelspec": {
      "name": "python3",
      "display_name": "Python 3"
    },
    "language_info": {
      "name": "python"
    }
  },
  "cells": [
    {
      "cell_type": "markdown",
      "source": [
        "## Atividade 1: Crie um programa que receba uma string por input e conte quantos caracteres ela tem, não leve em conta caracteres de espaço. Não deve usar len()."
      ],
      "metadata": {
        "id": "d6fu2rDzojBj"
      }
    },
    {
      "cell_type": "code",
      "execution_count": 1,
      "metadata": {
        "colab": {
          "base_uri": "https://localhost:8080/"
        },
        "id": "yxzCTrUxntwT",
        "outputId": "c5c96715-f83c-44e3-aabb-6c20e47746c7"
      },
      "outputs": [
        {
          "output_type": "stream",
          "name": "stdout",
          "text": [
            "Digite uma string:twitch tv\n",
            "A quantidade de caracteres sem espaços são: 8\n"
          ]
        }
      ],
      "source": [
        "texto =input(\"Digite uma string:\")\n",
        "contador = 0\n",
        "for caractere in texto:\n",
        "  if caractere != \" \":\n",
        "    contador += 1\n",
        "print(\"A quantidade de caracteres sem espaços são:\", contador)"
      ]
    },
    {
      "cell_type": "markdown",
      "source": [
        "## Atividade 2: Crie um programa que faça o cálculo do fatorial de um número. O fatorial a ser calculado deve ser recebido por input."
      ],
      "metadata": {
        "id": "7ce0vOrMpNF0"
      }
    },
    {
      "cell_type": "code",
      "source": [
        "numero = int(input(\"Digite um número:\"))\n",
        "fatorial = 1\n",
        "for i in range(1, numero + 1):\n",
        "  fatorial = fatorial + fatorial * (i - 1)\n",
        "print(\"O fatorial é:\", fatorial)"
      ],
      "metadata": {
        "colab": {
          "base_uri": "https://localhost:8080/"
        },
        "id": "TXV1lQvxpGLS",
        "outputId": "839068ab-46a7-4013-b03f-9debd728fb6d"
      },
      "execution_count": 3,
      "outputs": [
        {
          "output_type": "stream",
          "name": "stdout",
          "text": [
            "Digite um número:10\n",
            "O fatorial é: 3628800\n"
          ]
        }
      ]
    },
    {
      "cell_type": "markdown",
      "source": [
        "## Atividade 3: Crie um programa que leia uma quantidade arbitrária de textos e concatene eles numa string única.\n",
        "\n",
        "  "
      ],
      "metadata": {
        "id": "ULl6zvQIpsqn"
      }
    },
    {
      "cell_type": "code",
      "source": [
        "quantidade = int(input(\"Quantos textos você deseja inserir?\"))\n",
        "resultado = \" \"\n",
        "for i in range(quantidade):\n",
        "  texto = input(\"Digite seu texto:\")\n",
        "  resultado = resultado + texto\n",
        "print(\"Texto concatenado:\", resultado)"
      ],
      "metadata": {
        "colab": {
          "base_uri": "https://localhost:8080/"
        },
        "id": "4laf43sapnu8",
        "outputId": "4b544a19-6d1e-4261-e27e-aedbc46220de"
      },
      "execution_count": 6,
      "outputs": [
        {
          "output_type": "stream",
          "name": "stdout",
          "text": [
            "Quantos textos você deseja inserir?1\n",
            "Digite seu texto:cruzeiro é o maior clube de minas gerais\n",
            "Texto concatenado:  cruzeiro é o maior clube de minas gerais\n"
          ]
        }
      ]
    },
    {
      "cell_type": "markdown",
      "source": [
        "## Atividade 5: Cria um programa que printe a tabuada da divisão de um número lido por input.\n",
        "\n"
      ],
      "metadata": {
        "id": "tHBW1iRUqtMD"
      }
    },
    {
      "cell_type": "code",
      "source": [
        "numero = float(input(\"Digite um número:\"))\n",
        "for i in range(1,15):\n",
        "    print(numero, \"dividido por\", i, \"é igual a\", numero / i)"
      ],
      "metadata": {
        "colab": {
          "base_uri": "https://localhost:8080/"
        },
        "id": "1elQQFXNqU3y",
        "outputId": "8ff7f940-cc54-4a29-ee1d-e407c1bdf6ba"
      },
      "execution_count": 10,
      "outputs": [
        {
          "output_type": "stream",
          "name": "stdout",
          "text": [
            "Digite um número:12\n",
            "12.0 dividido por 1 é igual a 12.0\n",
            "12.0 dividido por 2 é igual a 6.0\n",
            "12.0 dividido por 3 é igual a 4.0\n",
            "12.0 dividido por 4 é igual a 3.0\n",
            "12.0 dividido por 5 é igual a 2.4\n",
            "12.0 dividido por 6 é igual a 2.0\n",
            "12.0 dividido por 7 é igual a 1.7142857142857142\n",
            "12.0 dividido por 8 é igual a 1.5\n",
            "12.0 dividido por 9 é igual a 1.3333333333333333\n",
            "12.0 dividido por 10 é igual a 1.2\n",
            "12.0 dividido por 11 é igual a 1.0909090909090908\n",
            "12.0 dividido por 12 é igual a 1.0\n",
            "12.0 dividido por 13 é igual a 0.9230769230769231\n",
            "12.0 dividido por 14 é igual a 0.8571428571428571\n"
          ]
        }
      ]
    },
    {
      "cell_type": "markdown",
      "source": [
        "## Atividade 5: Crie um programa que percorra os números de 3 até 30 e diga se o número é primo ou não.\n",
        "\n",
        "\n",
        "    "
      ],
      "metadata": {
        "id": "jSPLNjinrUbl"
      }
    },
    {
      "cell_type": "code",
      "source": [
        "for numero in range(3,31):\n",
        "  eh_primo = True\n",
        "  for i in range(2, numero):\n",
        "    if numero % i == 0:\n",
        "      eh_primo = False\n",
        "      break\n",
        "    if eh_primo:\n",
        "      print(numero,\"é primo\")\n",
        "    else:\n",
        "      print(numero, \"não é primo\")"
      ],
      "metadata": {
        "colab": {
          "base_uri": "https://localhost:8080/"
        },
        "id": "j2VIOq4YrCgu",
        "outputId": "263b4ad0-b9a4-48ad-92e4-e7bdbdbdcdec"
      },
      "execution_count": 12,
      "outputs": [
        {
          "output_type": "stream",
          "name": "stdout",
          "text": [
            "3 é primo\n",
            "5 é primo\n",
            "5 é primo\n",
            "5 é primo\n",
            "7 é primo\n",
            "7 é primo\n",
            "7 é primo\n",
            "7 é primo\n",
            "7 é primo\n",
            "9 é primo\n",
            "11 é primo\n",
            "11 é primo\n",
            "11 é primo\n",
            "11 é primo\n",
            "11 é primo\n",
            "11 é primo\n",
            "11 é primo\n",
            "11 é primo\n",
            "11 é primo\n",
            "13 é primo\n",
            "13 é primo\n",
            "13 é primo\n",
            "13 é primo\n",
            "13 é primo\n",
            "13 é primo\n",
            "13 é primo\n",
            "13 é primo\n",
            "13 é primo\n",
            "13 é primo\n",
            "13 é primo\n",
            "15 é primo\n",
            "17 é primo\n",
            "17 é primo\n",
            "17 é primo\n",
            "17 é primo\n",
            "17 é primo\n",
            "17 é primo\n",
            "17 é primo\n",
            "17 é primo\n",
            "17 é primo\n",
            "17 é primo\n",
            "17 é primo\n",
            "17 é primo\n",
            "17 é primo\n",
            "17 é primo\n",
            "17 é primo\n",
            "19 é primo\n",
            "19 é primo\n",
            "19 é primo\n",
            "19 é primo\n",
            "19 é primo\n",
            "19 é primo\n",
            "19 é primo\n",
            "19 é primo\n",
            "19 é primo\n",
            "19 é primo\n",
            "19 é primo\n",
            "19 é primo\n",
            "19 é primo\n",
            "19 é primo\n",
            "19 é primo\n",
            "19 é primo\n",
            "19 é primo\n",
            "21 é primo\n",
            "23 é primo\n",
            "23 é primo\n",
            "23 é primo\n",
            "23 é primo\n",
            "23 é primo\n",
            "23 é primo\n",
            "23 é primo\n",
            "23 é primo\n",
            "23 é primo\n",
            "23 é primo\n",
            "23 é primo\n",
            "23 é primo\n",
            "23 é primo\n",
            "23 é primo\n",
            "23 é primo\n",
            "23 é primo\n",
            "23 é primo\n",
            "23 é primo\n",
            "23 é primo\n",
            "23 é primo\n",
            "23 é primo\n",
            "25 é primo\n",
            "25 é primo\n",
            "25 é primo\n",
            "27 é primo\n",
            "29 é primo\n",
            "29 é primo\n",
            "29 é primo\n",
            "29 é primo\n",
            "29 é primo\n",
            "29 é primo\n",
            "29 é primo\n",
            "29 é primo\n",
            "29 é primo\n",
            "29 é primo\n",
            "29 é primo\n",
            "29 é primo\n",
            "29 é primo\n",
            "29 é primo\n",
            "29 é primo\n",
            "29 é primo\n",
            "29 é primo\n",
            "29 é primo\n",
            "29 é primo\n",
            "29 é primo\n",
            "29 é primo\n",
            "29 é primo\n",
            "29 é primo\n",
            "29 é primo\n",
            "29 é primo\n",
            "29 é primo\n",
            "29 é primo\n"
          ]
        }
      ]
    }
  ]
}