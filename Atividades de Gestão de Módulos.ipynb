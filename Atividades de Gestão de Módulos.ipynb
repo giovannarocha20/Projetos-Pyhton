{
  "nbformat": 4,
  "nbformat_minor": 0,
  "metadata": {
    "colab": {
      "provenance": []
    },
    "kernelspec": {
      "name": "python3",
      "display_name": "Python 3"
    },
    "language_info": {
      "name": "python"
    }
  },
  "cells": [
    {
      "cell_type": "markdown",
      "source": [
        "## Atividade 1: Crie um programa que gere um número aleatório entre 2 e 100 e diga se ele é par ou ímpar.\n",
        "\n"
      ],
      "metadata": {
        "id": "AMNlrZ3RKsWW"
      }
    },
    {
      "cell_type": "code",
      "execution_count": 1,
      "metadata": {
        "colab": {
          "base_uri": "https://localhost:8080/"
        },
        "id": "FnLHGWZhKrsL",
        "outputId": "b5e04bc4-9d9e-4a5e-f13c-6afa56e12f56"
      },
      "outputs": [
        {
          "output_type": "stream",
          "name": "stdout",
          "text": [
            "Número gerado: 56\n",
            "56 é par.\n"
          ]
        }
      ],
      "source": [
        "import random\n",
        "numero = random.randrange(2, 101)\n",
        "print(f\"Número gerado: {numero}\")\n",
        "if numero % 2 == 0:\n",
        "    print(f\"{numero} é par.\")\n",
        "else:\n",
        "    print(f\"{numero} é ímpar.\")"
      ]
    },
    {
      "cell_type": "markdown",
      "source": [
        "## Atividade 2: Gere a soma de 100 números aleatórios e mostre o resultado final."
      ],
      "metadata": {
        "id": "xuQpAhVLK6iT"
      }
    },
    {
      "cell_type": "code",
      "source": [
        "soma = 0\n",
        "for _ in range(100):\n",
        "    numero = random.randrange(1, 101)\n",
        "    soma += numero\n",
        "print(f\"Soma dos 100 números aleatórios: {soma}\")"
      ],
      "metadata": {
        "colab": {
          "base_uri": "https://localhost:8080/"
        },
        "id": "fOiPw5y7K2OE",
        "outputId": "84e5d718-9b61-44ba-e48d-d7249778a3b3"
      },
      "execution_count": 2,
      "outputs": [
        {
          "output_type": "stream",
          "name": "stdout",
          "text": [
            "Soma dos 100 números aleatórios: 4872\n"
          ]
        }
      ]
    },
    {
      "cell_type": "markdown",
      "source": [
        "## Atividade 3: Crie um módulo com duas funções: uma para subtrair e outra para somar dois números."
      ],
      "metadata": {
        "id": "AyNbOTUtLC0a"
      }
    },
    {
      "cell_type": "code",
      "source": [
        "import calc_python\n",
        "#print(calc_python.__doc__)\n",
        "#help(calc_python)\n",
        "print(calc_python.soma.__doc__)\n",
        "resultado = calc_python.soma(12,30)\n",
        "print(resultado)"
      ],
      "metadata": {
        "colab": {
          "base_uri": "https://localhost:8080/"
        },
        "id": "DUt42dqwLAAf",
        "outputId": "57fcad77-3da7-44b4-aad8-5221108d070e"
      },
      "execution_count": 8,
      "outputs": [
        {
          "output_type": "stream",
          "name": "stdout",
          "text": [
            "Retorna a soma de dois números\n",
            "42\n"
          ]
        }
      ]
    },
    {
      "cell_type": "markdown",
      "source": [
        "## Atividade 4: Crie um módulo que retorna uma lista de números aleatórios."
      ],
      "metadata": {
        "id": "3fktR0-6M-Ky"
      }
    },
    {
      "cell_type": "code",
      "source": [
        "from meu_random import get_random_lista\n",
        "print(get_random_lista(1,100,10))"
      ],
      "metadata": {
        "colab": {
          "base_uri": "https://localhost:8080/"
        },
        "id": "zyIZUXNVLM1L",
        "outputId": "27be44b1-48c4-40ca-9f20-b4524b98d1f5"
      },
      "execution_count": 9,
      "outputs": [
        {
          "output_type": "stream",
          "name": "stdout",
          "text": [
            "[1, 36, 78, 78, 79, 88, 3, 5, 30, 51]\n"
          ]
        }
      ]
    },
    {
      "cell_type": "markdown",
      "source": [
        "## Atividade 5: Crie um programa que receba dois números via parâmetro e mostre a soma. Verifique se os parâmetros foram passados."
      ],
      "metadata": {
        "id": "g6Wz2C_WN83u"
      }
    },
    {
      "cell_type": "markdown",
      "source": [
        "Na Atividade 5, o objetivo é criar um programa que recebe dois números via parâmetro e mostra a soma deles. Além disso, o programa deve verificar se foram passados dois parâmetros; se não forem, ele deve exibir uma mensagem de erro e parar a execução.\n",
        "\n",
        "Como no Google Colab não podemos usar parâmetros da linha de comando diretamente (como faríamos em um terminal), vamos adaptar o exercício para usar input (entrada de dados pelo usuário) em vez de parâmetros via linha de comando."
      ],
      "metadata": {
        "id": "xxZfYbKBUw2A"
      }
    },
    {
      "cell_type": "code",
      "source": [
        "def main():\n",
        "    try:\n",
        "        num1 = float(input(\"Digite o primeiro número: \"))\n",
        "        num2 = float(input(\"Digite o segundo número: \"))\n",
        "    except ValueError:\n",
        "        print(\"Erro: Por favor, forneça dois números válidos.\")\n",
        "        return\n",
        "\n",
        "    soma = num1 + num2\n",
        "    print(f\"A soma de {num1} e {num2} é: {soma}\")\n",
        "\n",
        "main()"
      ],
      "metadata": {
        "colab": {
          "base_uri": "https://localhost:8080/"
        },
        "id": "fq1Jz_SqS6dx",
        "outputId": "b2690e93-9533-41e1-fbb8-b28d7fe5dbeb"
      },
      "execution_count": 33,
      "outputs": [
        {
          "output_type": "stream",
          "name": "stdout",
          "text": [
            "Digite o primeiro número: 10\n",
            "Digite o segundo número: 25\n",
            "A soma de 10.0 e 25.0 é: 35.0\n"
          ]
        }
      ]
    }
  ]
}