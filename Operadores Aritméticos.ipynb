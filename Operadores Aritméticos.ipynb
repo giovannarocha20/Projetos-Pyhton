{
  "nbformat": 4,
  "nbformat_minor": 0,
  "metadata": {
    "colab": {
      "provenance": [],
      "toc_visible": true
    },
    "kernelspec": {
      "name": "python3",
      "display_name": "Python 3"
    },
    "language_info": {
      "name": "python"
    }
  },
  "cells": [
    {
      "cell_type": "markdown",
      "source": [
        "## OPERADORES ARITMÉTICOS"
      ],
      "metadata": {
        "id": "4MH7qggDUxaJ"
      }
    },
    {
      "cell_type": "code",
      "execution_count": 1,
      "metadata": {
        "colab": {
          "base_uri": "https://localhost:8080/"
        },
        "id": "-hX91EnXTQVa",
        "outputId": "b05b2025-3ddb-4220-9892-286e6953278c"
      },
      "outputs": [
        {
          "output_type": "stream",
          "name": "stdout",
          "text": [
            "30\n"
          ]
        }
      ],
      "source": [
        "print(10 + 20)"
      ]
    },
    {
      "cell_type": "code",
      "source": [
        "numero = 10 + 10.7\n",
        "print(numero)"
      ],
      "metadata": {
        "colab": {
          "base_uri": "https://localhost:8080/"
        },
        "id": "Y22Cim1zTuY4",
        "outputId": "35d82f34-ff6e-4439-b029-5506bae9018a"
      },
      "execution_count": 2,
      "outputs": [
        {
          "output_type": "stream",
          "name": "stdout",
          "text": [
            "20.7\n"
          ]
        }
      ]
    },
    {
      "cell_type": "code",
      "source": [
        "outro_numero = 30 + numero\n",
        "print(outro_numero)"
      ],
      "metadata": {
        "colab": {
          "base_uri": "https://localhost:8080/"
        },
        "id": "jhIyXpetT0AZ",
        "outputId": "4d124709-9b72-44c1-fe8d-6821ac96f552"
      },
      "execution_count": 4,
      "outputs": [
        {
          "output_type": "stream",
          "name": "stdout",
          "text": [
            "50.7\n"
          ]
        }
      ]
    },
    {
      "cell_type": "code",
      "source": [
        "numero = 20 -63\n",
        "print(numero)"
      ],
      "metadata": {
        "colab": {
          "base_uri": "https://localhost:8080/"
        },
        "id": "6G9TB9RUT9Qu",
        "outputId": "b3552d73-b99c-4891-ab27-7a93a5396264"
      },
      "execution_count": 5,
      "outputs": [
        {
          "output_type": "stream",
          "name": "stdout",
          "text": [
            "-43\n"
          ]
        }
      ]
    },
    {
      "cell_type": "code",
      "source": [
        "numero = 29 *8\n",
        "print(numero)"
      ],
      "metadata": {
        "colab": {
          "base_uri": "https://localhost:8080/"
        },
        "id": "Np8_p1lRUDZ4",
        "outputId": "ed88d1c6-e44d-4762-f12f-b4cf7c77ef63"
      },
      "execution_count": 6,
      "outputs": [
        {
          "output_type": "stream",
          "name": "stdout",
          "text": [
            "232\n"
          ]
        }
      ]
    },
    {
      "cell_type": "code",
      "source": [
        "numero = 5 / 8\n",
        "print(numero)"
      ],
      "metadata": {
        "colab": {
          "base_uri": "https://localhost:8080/"
        },
        "id": "nMDe36vQUKX8",
        "outputId": "8fd4bf61-ad5d-4b49-a848-9a29f2c54032"
      },
      "execution_count": 7,
      "outputs": [
        {
          "output_type": "stream",
          "name": "stdout",
          "text": [
            "0.625\n"
          ]
        }
      ]
    },
    {
      "cell_type": "code",
      "source": [
        "numero = 29 // 6\n",
        "print(numero)"
      ],
      "metadata": {
        "colab": {
          "base_uri": "https://localhost:8080/"
        },
        "id": "hIsDeIUUUptB",
        "outputId": "ee43b834-52dc-445c-982d-30fe837bb0fb"
      },
      "execution_count": 8,
      "outputs": [
        {
          "output_type": "stream",
          "name": "stdout",
          "text": [
            "4\n"
          ]
        }
      ]
    },
    {
      "cell_type": "code",
      "source": [
        "numero = 8 ** 5\n",
        "print(numero)"
      ],
      "metadata": {
        "colab": {
          "base_uri": "https://localhost:8080/"
        },
        "id": "GdZBffwTUt9V",
        "outputId": "5d408741-0dc0-4fa7-9ada-be7ae56a6587"
      },
      "execution_count": 9,
      "outputs": [
        {
          "output_type": "stream",
          "name": "stdout",
          "text": [
            "32768\n"
          ]
        }
      ]
    },
    {
      "cell_type": "code",
      "source": [
        "numero = 5 % 7\n",
        "print(numero)"
      ],
      "metadata": {
        "colab": {
          "base_uri": "https://localhost:8080/"
        },
        "id": "U4bDAsWwU-5y",
        "outputId": "daf1a5bf-f864-4882-fe19-b5cf9d6ec077"
      },
      "execution_count": 10,
      "outputs": [
        {
          "output_type": "stream",
          "name": "stdout",
          "text": [
            "5\n"
          ]
        }
      ]
    }
  ]
}
