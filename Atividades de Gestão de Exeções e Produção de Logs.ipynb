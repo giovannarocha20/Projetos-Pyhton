{
  "nbformat": 4,
  "nbformat_minor": 0,
  "metadata": {
    "colab": {
      "provenance": []
    },
    "kernelspec": {
      "name": "python3",
      "display_name": "Python 3"
    },
    "language_info": {
      "name": "python"
    }
  },
  "cells": [
    {
      "cell_type": "markdown",
      "source": [
        "## Atividade 1: Função que recebe duas strings, converte para números, e faz a soma. Se ocorrer erro de conversão, gera uma exceção informando o motivo"
      ],
      "metadata": {
        "id": "w-NpqwKBXOml"
      }
    },
    {
      "cell_type": "code",
      "execution_count": 1,
      "metadata": {
        "colab": {
          "base_uri": "https://localhost:8080/"
        },
        "id": "g_CeegUXW_oY",
        "outputId": "3def95d8-e159-42d1-b437-f55712e8d0ca"
      },
      "outputs": [
        {
          "output_type": "stream",
          "name": "stdout",
          "text": [
            "Erro de conversão: could not convert string to float: 'abc'\n"
          ]
        }
      ],
      "source": [
        "def soma_strings(s1, s2):\n",
        "    try:\n",
        "        num1 = float(s1)\n",
        "        num2 = float(s2)\n",
        "        return num1 + num2\n",
        "    except ValueError as e:\n",
        "        print(\"Erro de conversão: \" + str(e))\n",
        "        return None\n",
        "soma_strings(\"10\", \"20\")\n",
        "soma_strings(\"10\", \"abc\")"
      ]
    },
    {
      "cell_type": "markdown",
      "source": [
        "## Atividade 2: Função que recebe uma lista e um índice, retorna o elemento da lista na posição correspondente. Se o índice for inválido, trata a exceção e retorna None."
      ],
      "metadata": {
        "id": "QUSzrodUXWZq"
      }
    },
    {
      "cell_type": "code",
      "source": [
        "def pega_elemento(lista, indice):\n",
        "    try:\n",
        "        return lista[indice]\n",
        "    except IndexError as e:\n",
        "        print(\"Erro de índice: \" + str(e))\n",
        "        return None\n",
        "pega_elemento([1, 2, 3, 4], 2)\n",
        "pega_elemento([1, 2, 3, 4], 10)"
      ],
      "metadata": {
        "colab": {
          "base_uri": "https://localhost:8080/"
        },
        "id": "lzg3RGqyXUDc",
        "outputId": "b317acb0-78b5-4018-e045-a77ceb087ef4"
      },
      "execution_count": 2,
      "outputs": [
        {
          "output_type": "stream",
          "name": "stdout",
          "text": [
            "Erro de índice: list index out of range\n"
          ]
        }
      ]
    },
    {
      "cell_type": "markdown",
      "source": [
        "## Atividade 3: Função que lê o input do usuário e retorna o valor digitado. Caso o input seja interrompido (Ctrl+C), trata a exceção e retorna None."
      ],
      "metadata": {
        "id": "e7Ld0EMnXfO6"
      }
    },
    {
      "cell_type": "code",
      "source": [
        "def leitura_usuario():\n",
        "    try:\n",
        "        return input(\"Digite algo: \")\n",
        "    except KeyboardInterrupt:\n",
        "        print(\"\\nInput interrompido.\")\n",
        "        return None\n",
        "leitura_usuario()"
      ],
      "metadata": {
        "colab": {
          "base_uri": "https://localhost:8080/",
          "height": 53
        },
        "id": "RuUmtWv-Xctm",
        "outputId": "1407070b-9641-4c93-ffae-794cd5044265"
      },
      "execution_count": 3,
      "outputs": [
        {
          "name": "stdout",
          "output_type": "stream",
          "text": [
            "Digite algo: spotify\n"
          ]
        },
        {
          "output_type": "execute_result",
          "data": {
            "text/plain": [
              "'spotify'"
            ],
            "application/vnd.google.colaboratory.intrinsic+json": {
              "type": "string"
            }
          },
          "metadata": {},
          "execution_count": 3
        }
      ]
    },
    {
      "cell_type": "markdown",
      "source": [
        "## Atividade 4: Criação de uma classe que representa um caractere (string de tamanho 1). Caso o usuário insira mais de um caractere, gera uma exceção sem f-strings."
      ],
      "metadata": {
        "id": "sDTgHXmLXuVR"
      }
    },
    {
      "cell_type": "code",
      "source": [
        "class Caractere:\n",
        "    def __init__(self, char):\n",
        "        if len(char) != 1:\n",
        "            raise ValueError(\"É permitido apenas um caractere.\")\n",
        "        self.__char = char\n",
        "    def get_char(self):\n",
        "        return self.__char\n",
        "try:\n",
        "    c = Caractere(\"a\")\n",
        "    print(c.get_char())\n",
        "    c = Caractere(\"ab\")\n",
        "except ValueError as e:\n",
        "    print(\"Erro: \" + str(e))"
      ],
      "metadata": {
        "colab": {
          "base_uri": "https://localhost:8080/"
        },
        "id": "FlAXMFfCXopG",
        "outputId": "3cf8356d-7102-4ac1-cf4d-0b1d4732046f"
      },
      "execution_count": 4,
      "outputs": [
        {
          "output_type": "stream",
          "name": "stdout",
          "text": [
            "a\n",
            "Erro: É permitido apenas um caractere.\n"
          ]
        }
      ]
    },
    {
      "cell_type": "code",
      "source": [],
      "metadata": {
        "id": "U-i_KJh6X0xO"
      },
      "execution_count": null,
      "outputs": []
    }
  ]
}