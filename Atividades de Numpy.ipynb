{
  "nbformat": 4,
  "nbformat_minor": 0,
  "metadata": {
    "colab": {
      "provenance": []
    },
    "kernelspec": {
      "name": "python3",
      "display_name": "Python 3"
    },
    "language_info": {
      "name": "python"
    }
  },
  "cells": [
    {
      "cell_type": "markdown",
      "source": [
        "## Questão 1\n",
        "Crie um array com os números de 0 a 9, utilize somente 1 dimensão."
      ],
      "metadata": {
        "id": "ySRVboCh1wQK"
      }
    },
    {
      "cell_type": "code",
      "execution_count": 1,
      "metadata": {
        "colab": {
          "base_uri": "https://localhost:8080/"
        },
        "id": "7bUby6nB1rUh",
        "outputId": "518ca054-796c-4e63-b7e8-494aab7e22d0"
      },
      "outputs": [
        {
          "output_type": "stream",
          "name": "stdout",
          "text": [
            "Array 1D de 0 a 9: [0 1 2 3 4 5 6 7 8 9]\n"
          ]
        }
      ],
      "source": [
        "import numpy as np\n",
        "\n",
        "array_1d = np.arange(10)\n",
        "print(\"Array 1D de 0 a 9:\", array_1d)"
      ]
    },
    {
      "cell_type": "markdown",
      "source": [
        "## Questão 2\n",
        "Crie um array com os números de 0 a 9 como o exercício anterior, mas utilize List Comprehensions"
      ],
      "metadata": {
        "id": "VV8O_4v611xg"
      }
    },
    {
      "cell_type": "code",
      "source": [
        "array_1d_listcomp = np.array([i for i in range(10)])\n",
        "print(\"Array 1D com List Comprehensions:\", array_1d_listcomp)"
      ],
      "metadata": {
        "colab": {
          "base_uri": "https://localhost:8080/"
        },
        "id": "7hf20q631zr-",
        "outputId": "71a1979d-4f73-494d-a8b1-11cea8f923b6"
      },
      "execution_count": 2,
      "outputs": [
        {
          "output_type": "stream",
          "name": "stdout",
          "text": [
            "Array 1D com List Comprehensions: [0 1 2 3 4 5 6 7 8 9]\n"
          ]
        }
      ]
    },
    {
      "cell_type": "markdown",
      "source": [
        "## Questão 3\n",
        "Crie um array com os números de 0 a 8, utilize 2 dimensões, ou seja, com 3 linhas (3x3)."
      ],
      "metadata": {
        "id": "knTPycfl1_7f"
      }
    },
    {
      "cell_type": "code",
      "source": [
        "array_2d = np.arange(9).reshape(3, 3)\n",
        "print(\"Array 2D 3x3 de 0 a 8:\\n\", array_2d)"
      ],
      "metadata": {
        "colab": {
          "base_uri": "https://localhost:8080/"
        },
        "id": "lSfS8gso1-IF",
        "outputId": "5fe5cc39-c99a-41d5-ee7d-c91e6eb20a8b"
      },
      "execution_count": 3,
      "outputs": [
        {
          "output_type": "stream",
          "name": "stdout",
          "text": [
            "Array 2D 3x3 de 0 a 8:\n",
            " [[0 1 2]\n",
            " [3 4 5]\n",
            " [6 7 8]]\n"
          ]
        }
      ]
    },
    {
      "cell_type": "markdown",
      "source": [
        "## Questão 4\n",
        "Crie um array do tipo float, com 10 números de sua escolha, mas utilize 32 bits/4 bytes."
      ],
      "metadata": {
        "id": "O2BEbfUQ2Ec3"
      }
    },
    {
      "cell_type": "code",
      "source": [
        "array_float = np.array([1.5, 2.3, 3.6, 4.1, 5.9, 6.0, 7.7, 8.8, 9.2, 10.4], dtype=np.float32)\n",
        "print(\"Array float32 com 10 números:\\n\", array_float)\n",
        "print(\"Tipo de dados:\", array_float.dtype)"
      ],
      "metadata": {
        "colab": {
          "base_uri": "https://localhost:8080/"
        },
        "id": "RbUb2RTN2DCk",
        "outputId": "11cc7104-d716-4dd6-edf6-b76cae4335c8"
      },
      "execution_count": 4,
      "outputs": [
        {
          "output_type": "stream",
          "name": "stdout",
          "text": [
            "Array float32 com 10 números:\n",
            " [ 1.5  2.3  3.6  4.1  5.9  6.   7.7  8.8  9.2 10.4]\n",
            "Tipo de dados: float32\n"
          ]
        }
      ]
    },
    {
      "cell_type": "markdown",
      "source": [
        "## Questão 5\n",
        "Crie um array com os números de 1 a 20, escolhendo o tipo de dado que ocupará o menor espaço da memória. Em seguida, imprima o quanto ele ocupou em bytes."
      ],
      "metadata": {
        "id": "6CPz05y52JoH"
      }
    },
    {
      "cell_type": "code",
      "source": [
        "array_min_mem = np.arange(1, 21, dtype=np.int8)\n",
        "print(\"Array com números de 1 a 20 usando int8:\", array_min_mem)\n",
        "print(\"Espaço ocupado em bytes:\", array_min_mem.nbytes)"
      ],
      "metadata": {
        "colab": {
          "base_uri": "https://localhost:8080/"
        },
        "id": "SaSCqFPy2H5z",
        "outputId": "fc8e3a3d-0f91-4544-fa34-78105a5d0f96"
      },
      "execution_count": 5,
      "outputs": [
        {
          "output_type": "stream",
          "name": "stdout",
          "text": [
            "Array com números de 1 a 20 usando int8: [ 1  2  3  4  5  6  7  8  9 10 11 12 13 14 15 16 17 18 19 20]\n",
            "Espaço ocupado em bytes: 20\n"
          ]
        }
      ]
    },
    {
      "cell_type": "markdown",
      "source": [
        "## Questão 6\n",
        "Crie uma matriz 2x2 e imprima o primeiro elemento da primeira linha, e o último elemento da última linha."
      ],
      "metadata": {
        "id": "t9Kir6Hm2Od3"
      }
    },
    {
      "cell_type": "code",
      "source": [
        "matriz_2x2 = np.array([[1, 2], [3, 4]])\n",
        "\n",
        "primeiro_elemento = matriz_2x2[0, 0]\n",
        "print(\"Primeiro elemento da primeira linha:\", primeiro_elemento)\n",
        "\n",
        "ultimo_elemento = matriz_2x2[-1, -1]\n",
        "print(\"Último elemento da última linha:\", ultimo_elemento)"
      ],
      "metadata": {
        "colab": {
          "base_uri": "https://localhost:8080/"
        },
        "id": "3yPQEAP62NDb",
        "outputId": "fee75a45-118e-4e37-acb2-7783ba32eb3a"
      },
      "execution_count": 6,
      "outputs": [
        {
          "output_type": "stream",
          "name": "stdout",
          "text": [
            "Primeiro elemento da primeira linha: 1\n",
            "Último elemento da última linha: 4\n"
          ]
        }
      ]
    },
    {
      "cell_type": "markdown",
      "source": [
        "## Questão 7\n",
        "Gere uma array 3x3 com números inteiros aleatórios entre 5 e 20. Então imprima a primeira coluna e última linha."
      ],
      "metadata": {
        "id": "lAYsS8mM4Tlf"
      }
    },
    {
      "cell_type": "code",
      "source": [
        "import numpy as np\n",
        "\n",
        "array_3x3 = np.random.randint(5, 21, (3, 3))\n",
        "print(\"Array 3x3 com números aleatórios entre 5 e 20:\\n\", array_3x3)\n",
        "\n",
        "primeira_coluna = array_3x3[:, 0]\n",
        "print(\"Primeira coluna:\", primeira_coluna)\n",
        "\n",
        "ultima_linha = array_3x3[-1, :]\n",
        "print(\"Última linha:\", ultima_linha)"
      ],
      "metadata": {
        "colab": {
          "base_uri": "https://localhost:8080/"
        },
        "id": "0mu3Vymu2TG_",
        "outputId": "321e36ce-5586-47ce-ad13-ba9c26a791be"
      },
      "execution_count": 7,
      "outputs": [
        {
          "output_type": "stream",
          "name": "stdout",
          "text": [
            "Array 3x3 com números aleatórios entre 5 e 20:\n",
            " [[11 16 12]\n",
            " [ 7 20 16]\n",
            " [10  6 19]]\n",
            "Primeira coluna: [11  7 10]\n",
            "Última linha: [10  6 19]\n"
          ]
        }
      ]
    },
    {
      "cell_type": "markdown",
      "source": [
        "## Questão 8\n",
        "Crie uma matriz 3x3 aleatória. Percorra linha por linha com um laço e imprima a soma de cada linha."
      ],
      "metadata": {
        "id": "lniG2fM74cbe"
      }
    },
    {
      "cell_type": "code",
      "source": [
        "matriz_3x3 = np.random.randint(1, 10, (3, 3))\n",
        "print(\"Matriz 3x3 aleatória:\\n\", matriz_3x3)\n",
        "\n",
        "for i, linha in enumerate(matriz_3x3):\n",
        "    soma_linha = np.sum(linha)\n",
        "    print(f\"Soma da linha {i + 1}: {soma_linha}\")"
      ],
      "metadata": {
        "colab": {
          "base_uri": "https://localhost:8080/"
        },
        "id": "FzpkeLvf4ZE_",
        "outputId": "2a151d7a-591e-437d-d0e4-42df2bce3d08"
      },
      "execution_count": 8,
      "outputs": [
        {
          "output_type": "stream",
          "name": "stdout",
          "text": [
            "Matriz 3x3 aleatória:\n",
            " [[8 5 9]\n",
            " [6 8 5]\n",
            " [1 8 7]]\n",
            "Soma da linha 1: 22\n",
            "Soma da linha 2: 19\n",
            "Soma da linha 3: 16\n"
          ]
        }
      ]
    },
    {
      "cell_type": "markdown",
      "source": [
        "## Questão 9\n",
        "Gere um array com os valores pares de 0 a 100 com list comprehension."
      ],
      "metadata": {
        "id": "SRY2P3yt4kHG"
      }
    },
    {
      "cell_type": "code",
      "source": [
        "array_pares = np.array([i for i in range(0, 101, 2)])\n",
        "print(\"Array com valores pares de 0 a 100:\", array_pares)"
      ],
      "metadata": {
        "colab": {
          "base_uri": "https://localhost:8080/"
        },
        "id": "rDjFQgQp4h0K",
        "outputId": "c5f5cfd0-ccc1-4afb-d62d-033707cf0837"
      },
      "execution_count": 9,
      "outputs": [
        {
          "output_type": "stream",
          "name": "stdout",
          "text": [
            "Array com valores pares de 0 a 100: [  0   2   4   6   8  10  12  14  16  18  20  22  24  26  28  30  32  34\n",
            "  36  38  40  42  44  46  48  50  52  54  56  58  60  62  64  66  68  70\n",
            "  72  74  76  78  80  82  84  86  88  90  92  94  96  98 100]\n"
          ]
        }
      ]
    },
    {
      "cell_type": "markdown",
      "source": [
        "## Questão 10\n",
        "Crie uma array 4x9 com valores quaisquer, redimensione para as dimensões 36 e 6x6."
      ],
      "metadata": {
        "id": "ivobCARN4u_O"
      }
    },
    {
      "cell_type": "code",
      "source": [
        "array_4x9 = np.arange(36).reshape(4, 9)\n",
        "print(\"Array 4x9 inicial:\\n\", array_4x9)\n",
        "\n",
        "array_36 = array_4x9.flatten()\n",
        "print(\"Array com 36 elementos:\\n\", array_36)\n",
        "\n",
        "array_6x6 = array_4x9.reshape(6, 6)\n",
        "print(\"Array 6x6:\\n\", array_6x6)"
      ],
      "metadata": {
        "colab": {
          "base_uri": "https://localhost:8080/"
        },
        "id": "5yAqNnn94rPC",
        "outputId": "b3ff3119-10a0-4028-bdc8-dc4b79703b2c"
      },
      "execution_count": 10,
      "outputs": [
        {
          "output_type": "stream",
          "name": "stdout",
          "text": [
            "Array 4x9 inicial:\n",
            " [[ 0  1  2  3  4  5  6  7  8]\n",
            " [ 9 10 11 12 13 14 15 16 17]\n",
            " [18 19 20 21 22 23 24 25 26]\n",
            " [27 28 29 30 31 32 33 34 35]]\n",
            "Array com 36 elementos:\n",
            " [ 0  1  2  3  4  5  6  7  8  9 10 11 12 13 14 15 16 17 18 19 20 21 22 23\n",
            " 24 25 26 27 28 29 30 31 32 33 34 35]\n",
            "Array 6x6:\n",
            " [[ 0  1  2  3  4  5]\n",
            " [ 6  7  8  9 10 11]\n",
            " [12 13 14 15 16 17]\n",
            " [18 19 20 21 22 23]\n",
            " [24 25 26 27 28 29]\n",
            " [30 31 32 33 34 35]]\n"
          ]
        }
      ]
    },
    {
      "cell_type": "markdown",
      "source": [
        "## Questão 11\n",
        "Crie uma função que receba três arrays de mesmo formato, então retorne elas concatenadas em uma só. Se as matrizes recebidas não forem do mesmo formato, gere uma exceção."
      ],
      "metadata": {
        "id": "-hOkjlbS41W2"
      }
    },
    {
      "cell_type": "code",
      "source": [
        "def concatena_arrays(array1, array2, array3):\n",
        "    if array1.shape == array2.shape == array3.shape:\n",
        "        return np.concatenate((array1, array2, array3), axis=0)\n",
        "    else:\n",
        "        raise ValueError(\"Os arrays não têm o mesmo formato!\")\n",
        "\n",
        "array_a = np.ones((2, 2))\n",
        "array_b = np.zeros((2, 2))\n",
        "array_c = np.full((2, 2), 5)\n",
        "\n",
        "try:\n",
        "    array_concatenado = concatena_arrays(array_a, array_b, array_c)\n",
        "    print(\"Array concatenado:\\n\", array_concatenado)\n",
        "except ValueError as e:\n",
        "    print(e)"
      ],
      "metadata": {
        "colab": {
          "base_uri": "https://localhost:8080/"
        },
        "id": "TT8gdqvh4zcu",
        "outputId": "1f2d3e2e-1961-4964-a265-16a14f0f55df"
      },
      "execution_count": 11,
      "outputs": [
        {
          "output_type": "stream",
          "name": "stdout",
          "text": [
            "Array concatenado:\n",
            " [[1. 1.]\n",
            " [1. 1.]\n",
            " [0. 0.]\n",
            " [0. 0.]\n",
            " [5. 5.]\n",
            " [5. 5.]]\n"
          ]
        }
      ]
    },
    {
      "cell_type": "markdown",
      "source": [
        "## Questão 12\n",
        "Crie uma função que divida um array em N pedaços, mas mantenha só os valores absolutos dos valores deste array."
      ],
      "metadata": {
        "id": "BkM9nKyk7bic"
      }
    },
    {
      "cell_type": "code",
      "source": [
        "import numpy as np\n",
        "\n",
        "def dividir_abs(array, n):\n",
        "    abs_array = np.abs(array)\n",
        "    return np.array_split(abs_array, n)\n",
        "\n",
        "array_exemplo = np.array([-10, -5, 0, 5, 10, -15])\n",
        "pedacos = dividir_abs(array_exemplo, 3)\n",
        "print(\"Array dividido em 3 pedaços com valores absolutos:\", pedacos)"
      ],
      "metadata": {
        "colab": {
          "base_uri": "https://localhost:8080/"
        },
        "id": "Q1N7upjB47Ux",
        "outputId": "167d1117-f6ab-4c85-ea4c-c4c0555864b6"
      },
      "execution_count": 12,
      "outputs": [
        {
          "output_type": "stream",
          "name": "stdout",
          "text": [
            "Array dividido em 3 pedaços com valores absolutos: [array([10,  5]), array([0, 5]), array([10, 15])]\n"
          ]
        }
      ]
    },
    {
      "cell_type": "markdown",
      "source": [
        "## Questão 13\n",
        "Crie uma função que receba um array e retorne quantos números positivos ele contém."
      ],
      "metadata": {
        "id": "fOnZhqBW7kUD"
      }
    },
    {
      "cell_type": "code",
      "source": [
        "def contar_positivos(array):\n",
        "    return np.sum(array > 0)\n",
        "\n",
        "array_exemplo = np.array([-1, 2, 3, -4, 5])\n",
        "num_positivos = contar_positivos(array_exemplo)\n",
        "print(\"Quantidade de números positivos:\", num_positivos)"
      ],
      "metadata": {
        "colab": {
          "base_uri": "https://localhost:8080/"
        },
        "id": "eBqRkpsH7f_g",
        "outputId": "53ca9815-f50d-4783-aabe-b311a7bd3c52"
      },
      "execution_count": 13,
      "outputs": [
        {
          "output_type": "stream",
          "name": "stdout",
          "text": [
            "Quantidade de números positivos: 3\n"
          ]
        }
      ]
    },
    {
      "cell_type": "markdown",
      "source": [
        "## Questão 14\n",
        "Crie uma função que receba uma matriz e retorne os índices dos números que são divisíveis por 3."
      ],
      "metadata": {
        "id": "VExNI5Az7puj"
      }
    },
    {
      "cell_type": "code",
      "source": [
        "def indices_divisiveis_por_3(matriz):\n",
        "    return np.argwhere(matriz % 3 == 0)\n",
        "\n",
        "matriz_exemplo = np.array([[3, 5, 6], [7, 9, 12]])\n",
        "indices = indices_divisiveis_por_3(matriz_exemplo)\n",
        "print(\"Índices dos números divisíveis por 3:\", indices)"
      ],
      "metadata": {
        "colab": {
          "base_uri": "https://localhost:8080/"
        },
        "id": "CDil3O2-7nrr",
        "outputId": "f053fb9c-6902-45ae-bad2-91b9a254271c"
      },
      "execution_count": 14,
      "outputs": [
        {
          "output_type": "stream",
          "name": "stdout",
          "text": [
            "Índices dos números divisíveis por 3: [[0 0]\n",
            " [0 2]\n",
            " [1 1]\n",
            " [1 2]]\n"
          ]
        }
      ]
    },
    {
      "cell_type": "markdown",
      "source": [
        "## Questão 15\n",
        "Crie uma função que diga se um array possui números negativos."
      ],
      "metadata": {
        "id": "ovtxquGJ7vEa"
      }
    },
    {
      "cell_type": "code",
      "source": [
        "def possui_negativos(array):\n",
        "    return np.any(array < 0)\n",
        "\n",
        "array_exemplo = np.array([1, -2, 3, 4])\n",
        "tem_negativos = possui_negativos(array_exemplo)\n",
        "print(\"O array possui números negativos?\", tem_negativos)"
      ],
      "metadata": {
        "colab": {
          "base_uri": "https://localhost:8080/"
        },
        "id": "m-BUEu2i7ten",
        "outputId": "f1d8bd24-826f-41b9-d0e7-19cb09c609dc"
      },
      "execution_count": 15,
      "outputs": [
        {
          "output_type": "stream",
          "name": "stdout",
          "text": [
            "O array possui números negativos? True\n"
          ]
        }
      ]
    },
    {
      "cell_type": "markdown",
      "source": [
        "## Questão 16\n",
        "Crie uma função que remova os números negativos de um array."
      ],
      "metadata": {
        "id": "pVCETXiY70iD"
      }
    },
    {
      "cell_type": "code",
      "source": [
        "def remover_negativos(array):\n",
        "    return array[array >= 0]\n",
        "\n",
        "array_exemplo = np.array([-1, 2, -3, 4, -5])\n",
        "array_sem_negativos = remover_negativos(array_exemplo)\n",
        "print(\"Array sem números negativos:\", array_sem_negativos)"
      ],
      "metadata": {
        "colab": {
          "base_uri": "https://localhost:8080/"
        },
        "id": "U-PiORwz7zCz",
        "outputId": "550d3e6e-9c69-4c6f-af40-0d59ae9501cd"
      },
      "execution_count": 16,
      "outputs": [
        {
          "output_type": "stream",
          "name": "stdout",
          "text": [
            "Array sem números negativos: [2 4]\n"
          ]
        }
      ]
    },
    {
      "cell_type": "markdown",
      "source": [
        "## Questão 17\n",
        "Crie uma função que receba um número inicial e final, e uma array. A função deve retornar uma nova array somente com os números dentro deste intervalo."
      ],
      "metadata": {
        "id": "iWIHsjzi75ey"
      }
    },
    {
      "cell_type": "code",
      "source": [
        "def filtrar_intervalo(array, inicio, fim):\n",
        "    return array[(array >= inicio) & (array <= fim)]\n",
        "\n",
        "array_exemplo = np.array([1, 5, 10, 15, 20])\n",
        "array_filtrada = filtrar_intervalo(array_exemplo, 5, 15)\n",
        "print(\"Array filtrada dentro do intervalo [5, 15]:\", array_filtrada)"
      ],
      "metadata": {
        "colab": {
          "base_uri": "https://localhost:8080/"
        },
        "id": "vgX6VtsF73zj",
        "outputId": "b6a4761a-b3d2-4e2b-9f20-de3c309015da"
      },
      "execution_count": 17,
      "outputs": [
        {
          "output_type": "stream",
          "name": "stdout",
          "text": [
            "Array filtrada dentro do intervalo [5, 15]: [ 5 10 15]\n"
          ]
        }
      ]
    },
    {
      "cell_type": "markdown",
      "source": [
        "## Questão 18\n",
        "Crie uma função que ordene uma matriz e remova todos os números ímpares."
      ],
      "metadata": {
        "id": "luNoTJi67-Ay"
      }
    },
    {
      "cell_type": "code",
      "source": [
        "def ordenar_remover_impares(matriz):\n",
        "    matriz_ordenada = np.sort(matriz, axis=None)\n",
        "    return matriz_ordenada[matriz_ordenada % 2 == 0]\n",
        "\n",
        "matriz_exemplo = np.array([[3, 8, 5], [4, 7, 2]])\n",
        "matriz_pares_ordenada = ordenar_remover_impares(matriz_exemplo)\n",
        "print(\"Matriz ordenada com apenas números pares:\", matriz_pares_ordenada)"
      ],
      "metadata": {
        "colab": {
          "base_uri": "https://localhost:8080/"
        },
        "id": "hq1HAJsf78Hm",
        "outputId": "c4b5ce7a-776d-46b3-e0ce-27598cddc39b"
      },
      "execution_count": 18,
      "outputs": [
        {
          "output_type": "stream",
          "name": "stdout",
          "text": [
            "Matriz ordenada com apenas números pares: [2 4 8]\n"
          ]
        }
      ]
    },
    {
      "cell_type": "markdown",
      "source": [
        "## Questão 19\n",
        "Realize o mesmo exercício anterior, mas remova valores duplicados."
      ],
      "metadata": {
        "id": "M7JM-EuF8CrB"
      }
    },
    {
      "cell_type": "code",
      "source": [
        "def ordenar_remover_impares_unicos(matriz):\n",
        "    matriz_ordenada = np.sort(matriz, axis=None)\n",
        "    matriz_pares_unicos = np.unique(matriz_ordenada[matriz_ordenada % 2 == 0])\n",
        "    return matriz_pares_unicos\n",
        "\n",
        "matriz_exemplo = np.array([[3, 8, 5], [4, 7, 2], [8, 4, 2]])\n",
        "matriz_pares_ordenada_unicos = ordenar_remover_impares_unicos(matriz_exemplo)\n",
        "print(\"Matriz ordenada com apenas números pares e sem duplicados:\", matriz_pares_ordenada_unicos)"
      ],
      "metadata": {
        "colab": {
          "base_uri": "https://localhost:8080/"
        },
        "id": "ubM9mv8l8BFS",
        "outputId": "fd752a1c-c1fc-4195-94e2-8e893b8033bf"
      },
      "execution_count": 19,
      "outputs": [
        {
          "output_type": "stream",
          "name": "stdout",
          "text": [
            "Matriz ordenada com apenas números pares e sem duplicados: [2 4 8]\n"
          ]
        }
      ]
    }
  ]
}