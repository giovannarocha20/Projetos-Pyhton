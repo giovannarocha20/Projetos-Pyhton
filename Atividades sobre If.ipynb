{
  "nbformat": 4,
  "nbformat_minor": 0,
  "metadata": {
    "colab": {
      "provenance": []
    },
    "kernelspec": {
      "name": "python3",
      "display_name": "Python 3"
    },
    "language_info": {
      "name": "python"
    }
  },
  "cells": [
    {
      "cell_type": "markdown",
      "source": [
        "## Atividade 1: Receber o saldo bancário e a dívida, e dizer se o saldo final é positivo ou negativo."
      ],
      "metadata": {
        "id": "t15m-KDH3nyo"
      }
    },
    {
      "cell_type": "code",
      "execution_count": 1,
      "metadata": {
        "colab": {
          "base_uri": "https://localhost:8080/"
        },
        "id": "JEr19oeV3VR0",
        "outputId": "c9cf11b7-6ee3-4c04-81eb-8a02439de659"
      },
      "outputs": [
        {
          "output_type": "stream",
          "name": "stdout",
          "text": [
            "Digite o seu saldo bancário: 250\n",
            "Digite o quanto você deve: 150\n",
            "Seu saldo é positivo: R$ 100.0\n"
          ]
        }
      ],
      "source": [
        "saldo = float(input(\"Digite o seu saldo bancário: \"))\n",
        "divida = float(input(\"Digite o quanto você deve: \"))\n",
        "saldo_final = saldo - divida\n",
        "if saldo_final >= 15:\n",
        "    print(f\"Seu saldo é positivo: R$ {saldo_final}\")\n",
        "else:\n",
        "    print(f\"Seu saldo é negativo: R$ {saldo_final}\")"
      ]
    },
    {
      "cell_type": "markdown",
      "source": [
        "## Atividade 2: Receber o CPF e uma senha. Se a senha estiver correta, mostrar o CPF; se não, indicar que a senha está incorreta."
      ],
      "metadata": {
        "id": "mxww-KXU36fB"
      }
    },
    {
      "cell_type": "code",
      "source": [
        "cpf = \"123.458.444-03\"\n",
        "senha_correta = \"uberaba2024\"\n",
        "senha_digitada = input(\"Digite sua senha: \")\n",
        "if senha_digitada == senha_correta:\n",
        "    print(f\"Senha correta! Seu CPF é: {cpf}\")\n",
        "else:\n",
        "    print(\"Senha incorreta!\")"
      ],
      "metadata": {
        "colab": {
          "base_uri": "https://localhost:8080/"
        },
        "id": "AmnTM8ql30jC",
        "outputId": "f9725267-775c-43d6-c9cd-a436fa153483"
      },
      "execution_count": 2,
      "outputs": [
        {
          "output_type": "stream",
          "name": "stdout",
          "text": [
            "Digite sua senha: uberaba2024\n",
            "Senha correta! Seu CPF é: 123.458.444-03\n"
          ]
        }
      ]
    },
    {
      "cell_type": "markdown",
      "source": [
        "## Atividade 3: Receber a idade do usuário e classificar como bebê, criança, adolescente, adulto ou idoso."
      ],
      "metadata": {
        "id": "uCfzSppV4QAW"
      }
    },
    {
      "cell_type": "code",
      "source": [
        "idade = int(input(\"Digite a sua idade:\"))\n",
        "if idade <=3:\n",
        "    print(\"Bebê\")\n",
        "elif idade <=12:\n",
        "    print(\"Criança\")\n",
        "elif idade <=17:\n",
        "    print(\"Adolescente\")\n",
        "elif idade <=60:\n",
        "    print(\"Adulto\")\n",
        "else:\n",
        "    print(\"Em nenhuma dessas situações você é considerado idoso.\")"
      ],
      "metadata": {
        "colab": {
          "base_uri": "https://localhost:8080/"
        },
        "id": "nCOYe2h-4K2N",
        "outputId": "90e5be32-ab08-4402-a739-98a6a4245e25"
      },
      "execution_count": 6,
      "outputs": [
        {
          "output_type": "stream",
          "name": "stdout",
          "text": [
            "Digite a sua idade:75\n",
            "Em nenhuma dessas situações você é considerado idoso.\n"
          ]
        }
      ]
    },
    {
      "cell_type": "markdown",
      "source": [
        "## Atividade 4: Receber dois números e uma operação (+, -, /, *) e realizar a operação escolhida."
      ],
      "metadata": {
        "id": "L2lPMVfn6AEy"
      }
    },
    {
      "cell_type": "code",
      "source": [
        "num1 = float(input(\"Digite o primeiro número:\"))\n",
        "num2 = float(input(\"Digite o segundo número:\"))\n",
        "operação = input(\"Digite a operação desejada (+, -, /, *):\")\n",
        "if operação == \"+\":\n",
        "    resultado = num1 + num2\n",
        "elif operação == \"-\":\n",
        "    resultado = num1 - num2\n",
        "elif operação == \"/\":\n",
        "    resultado = num1 / num2\n",
        "elif operação == \"*\":\n",
        "    resultadi = num1 * num2\n",
        "else:\n",
        "    print(\"Operação inválida\")\n",
        "    resultado = 0\n",
        "print(\"Resultado:\", resultado)"
      ],
      "metadata": {
        "colab": {
          "base_uri": "https://localhost:8080/"
        },
        "id": "yPh7tggo5bg3",
        "outputId": "54df4f1b-8111-4f84-ac2e-c032c47b5e52"
      },
      "execution_count": 11,
      "outputs": [
        {
          "output_type": "stream",
          "name": "stdout",
          "text": [
            "Digite o primeiro número:15\n",
            "Digite o segundo número:4\n",
            "Digite a operação desejada (+, -, /, *):-\n",
            "Resultado: 11.0\n"
          ]
        }
      ]
    }
  ]
}