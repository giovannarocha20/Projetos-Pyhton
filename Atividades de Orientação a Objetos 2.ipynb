{
  "nbformat": 4,
  "nbformat_minor": 0,
  "metadata": {
    "colab": {
      "provenance": []
    },
    "kernelspec": {
      "name": "python3",
      "display_name": "Python 3"
    },
    "language_info": {
      "name": "python"
    }
  },
  "cells": [
    {
      "cell_type": "markdown",
      "source": [
        "## Atividade 5: Baseado no exercício anterior, crie os operadores > (maior que) e < (menor que) para dizer qual veículo é mais potente. Compare um de cada tipo (ônibus, carro e moto). Sobrescreva os métodos __lt__ e __gt__."
      ],
      "metadata": {
        "id": "aI2gnuXmIHNM"
      }
    },
    {
      "cell_type": "code",
      "execution_count": 1,
      "metadata": {
        "colab": {
          "base_uri": "https://localhost:8080/"
        },
        "id": "LZik7OjfH-HG",
        "outputId": "b6567124-40ae-489a-a755-ade7a45ac28b"
      },
      "outputs": [
        {
          "output_type": "stream",
          "name": "stdout",
          "text": [
            "True\n",
            "True\n",
            "True\n"
          ]
        }
      ],
      "source": [
        "class Veiculo:\n",
        "    def __init__(self, peso, potencia):\n",
        "        self.peso = peso\n",
        "        self.potencia = potencia\n",
        "\n",
        "\n",
        "    def __lt__(self, outro_veiculo):\n",
        "        return self.potencia < outro_veiculo.potencia\n",
        "\n",
        "    def __gt__(self, outro_veiculo):\n",
        "        return self.potencia > outro_veiculo.potencia\n",
        "\n",
        "    def __str__(self):\n",
        "        return f\"Veículo com potência: {self.potencia} cavalos\"\n",
        "\n",
        "class Onibus(Veiculo):\n",
        "    pass\n",
        "\n",
        "class Carro(Veiculo):\n",
        "    pass\n",
        "\n",
        "class Moto(Veiculo):\n",
        "    pass\n",
        "\n",
        "onibus = Onibus(1000, 400)\n",
        "carro = Carro(300, 100)\n",
        "moto = Moto(100, 50)\n",
        "\n",
        "print(onibus > carro)\n",
        "print(moto < carro)\n",
        "print(carro > moto)"
      ]
    },
    {
      "cell_type": "markdown",
      "source": [
        "## Atividade 6:Crie uma classe que represente um número negativo. Use a propriedade @property para controlar o valor guardado pela classe, sem deixar que ele fique positivo (o valor 0 é permitido). Além disso, crie operadores de comparação (<, >) e de subtração. Cuide para que nenhum valor positivo seja gerado."
      ],
      "metadata": {
        "id": "MwkWHohbIWJv"
      }
    },
    {
      "cell_type": "code",
      "source": [
        "class NumeroNegativo:\n",
        "    def __init__(self, valor):\n",
        "        self.valor = valor if valor <= 0 else 0\n",
        "    @property\n",
        "    def valor(self):\n",
        "        return self._valor\n",
        "\n",
        "    @valor.setter\n",
        "    def valor(self, novo_valor):\n",
        "        if novo_valor > 0:\n",
        "            self._valor = 0\n",
        "        else:\n",
        "            self._valor = novo_valor\n",
        "\n",
        "    def __sub__(self, outro):\n",
        "        return NumeroNegativo(self.valor - outro.valor)\n",
        "\n",
        "    def __lt__(self, outro):\n",
        "        return self.valor < outro.valor\n",
        "\n",
        "    def __gt__(self, outro):\n",
        "        return self.valor > outro.valor\n",
        "\n",
        "    def __str__(self):\n",
        "        return f\"Valor: {self.valor}\"\n",
        "\n",
        "n1 = NumeroNegativo(-10)\n",
        "n2 = NumeroNegativo(-20)\n",
        "\n",
        "print(n1)  # Valor: -10\n",
        "print(n2)  # Valor: -20\n",
        "\n",
        "print(n1 > n2)\n",
        "print(n1 < n2)\n",
        "\n",
        "n3 = n1 - n2\n",
        "print(n3)"
      ],
      "metadata": {
        "colab": {
          "base_uri": "https://localhost:8080/"
        },
        "id": "xaYgXxjPIT8P",
        "outputId": "fdaac48d-234d-4c4f-fc02-0b7dd5f3c997"
      },
      "execution_count": 2,
      "outputs": [
        {
          "output_type": "stream",
          "name": "stdout",
          "text": [
            "Valor: -10\n",
            "Valor: -20\n",
            "True\n",
            "False\n",
            "Valor: 0\n"
          ]
        }
      ]
    },
    {
      "cell_type": "markdown",
      "source": [
        "## Atividade 7: Crie uma função que verifique se um objeto é um tipo primitivo do Python, informando que ele é sempre passado por valor (ex: int, float, str, bool), ou se é um objeto passado por referência (ex: list, dict)."
      ],
      "metadata": {
        "id": "eQ4Xq5vsIkXo"
      }
    },
    {
      "cell_type": "code",
      "source": [
        "def verificar_tipo(objeto):\n",
        "    if isinstance(objeto, (int, float, str, bool)):\n",
        "        return f\"O objeto {objeto} é de um tipo primitivo (valor).\"\n",
        "    else:\n",
        "        return f\"O objeto {objeto} é passado por referência (não primitivo).\"\n",
        "\n",
        "print(verificar_tipo(10))\n",
        "print(verificar_tipo(10.5))\n",
        "print(verificar_tipo(\"Olá\"))\n",
        "print(verificar_tipo(True))\n",
        "print(verificar_tipo([1, 2, 3]))\n",
        "print(verificar_tipo({\"chave\": \"valor\"}))"
      ],
      "metadata": {
        "colab": {
          "base_uri": "https://localhost:8080/"
        },
        "id": "h-ePm7M-IiQm",
        "outputId": "3795c7e7-1f25-4119-bb64-1b94d6c66e5b"
      },
      "execution_count": 3,
      "outputs": [
        {
          "output_type": "stream",
          "name": "stdout",
          "text": [
            "O objeto 10 é de um tipo primitivo (valor).\n",
            "O objeto 10.5 é de um tipo primitivo (valor).\n",
            "O objeto Olá é de um tipo primitivo (valor).\n",
            "O objeto True é de um tipo primitivo (valor).\n",
            "O objeto [1, 2, 3] é passado por referência (não primitivo).\n",
            "O objeto {'chave': 'valor'} é passado por referência (não primitivo).\n"
          ]
        }
      ]
    },
    {
      "cell_type": "code",
      "source": [],
      "metadata": {
        "id": "tlHe8mJpIsy1"
      },
      "execution_count": null,
      "outputs": []
    }
  ]
}