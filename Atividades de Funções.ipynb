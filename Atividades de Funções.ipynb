{
  "nbformat": 4,
  "nbformat_minor": 0,
  "metadata": {
    "colab": {
      "provenance": []
    },
    "kernelspec": {
      "name": "python3",
      "display_name": "Python 3"
    },
    "language_info": {
      "name": "python"
    }
  },
  "cells": [
    {
      "cell_type": "markdown",
      "source": [
        "## 1. Função e_negativo:\n"
      ],
      "metadata": {
        "id": "oze69Pfv3W6v"
      }
    },
    {
      "cell_type": "code",
      "execution_count": 10,
      "metadata": {
        "colab": {
          "base_uri": "https://localhost:8080/"
        },
        "id": "-LueWV0t2rSK",
        "outputId": "320565bc-f9fc-4515-f75f-573fd00591ce"
      },
      "outputs": [
        {
          "output_type": "stream",
          "name": "stdout",
          "text": [
            "True\n",
            "False\n"
          ]
        }
      ],
      "source": [
        "def e_negativo(num):\n",
        "    return num < 0\n",
        "print(e_negativo(-5))\n",
        "print(e_negativo(3))"
      ]
    },
    {
      "cell_type": "markdown",
      "source": [
        "## 2. Função para somar um array de números"
      ],
      "metadata": {
        "id": "46J9gksU4fbv"
      }
    },
    {
      "cell_type": "code",
      "source": [
        "def soma_array(numeros):\n",
        "    return sum(numeros)\n",
        "print(soma_array([1,2,3,4,5]))\n",
        "print(soma_array([1.5,2.5,-1]))"
      ],
      "metadata": {
        "colab": {
          "base_uri": "https://localhost:8080/"
        },
        "id": "yQv4h0LG4eiO",
        "outputId": "a7770a9c-4dd4-458e-8955-5e3803cc18bc"
      },
      "execution_count": 13,
      "outputs": [
        {
          "output_type": "stream",
          "name": "stdout",
          "text": [
            "15\n",
            "3.0\n"
          ]
        }
      ]
    },
    {
      "cell_type": "markdown",
      "source": [
        "## 3. Função para contar vogais em uma string"
      ],
      "metadata": {
        "id": "kA90gTel5Y3t"
      }
    },
    {
      "cell_type": "code",
      "source": [
        "def conta_vogais(s):\n",
        "    vogais = 'aeiouAEIOU'\n",
        "    return sum(1 for char in s if char in vogais)\n",
        "print(conta_vogais(\"programacao\"))\n",
        "print(conta_vogais(\"Morar em Los Angeles\"))"
      ],
      "metadata": {
        "colab": {
          "base_uri": "https://localhost:8080/"
        },
        "id": "OhI5qwr54vAt",
        "outputId": "a92de32e-4ddb-43e7-bff3-c55a3c0d72dc"
      },
      "execution_count": 14,
      "outputs": [
        {
          "output_type": "stream",
          "name": "stdout",
          "text": [
            "5\n",
            "7\n"
          ]
        }
      ]
    },
    {
      "cell_type": "markdown",
      "source": [
        "## 4. Função que retorna o último caractere de uma string"
      ],
      "metadata": {
        "id": "88geKC676OQE"
      }
    },
    {
      "cell_type": "code",
      "source": [
        "def ultimo_caractere(s):\n",
        "    if len(s) > 0:\n",
        "        return s[-1]\n",
        "    return None\n",
        "print(ultimo_caractere(\"Guitarra\"))\n",
        "print(ultimo_caractere(\"Violao\"))"
      ],
      "metadata": {
        "colab": {
          "base_uri": "https://localhost:8080/"
        },
        "id": "YDazQuEY6MWu",
        "outputId": "ca6213e5-012d-4a4f-e75d-ccaa400e228a"
      },
      "execution_count": 17,
      "outputs": [
        {
          "output_type": "stream",
          "name": "stdout",
          "text": [
            "a\n",
            "o\n"
          ]
        }
      ]
    },
    {
      "cell_type": "markdown",
      "source": [
        "## 5. Função que realiza soma ou subtração de dois números"
      ],
      "metadata": {
        "id": "XV1dbohn6tTD"
      }
    },
    {
      "cell_type": "code",
      "source": [
        "def operacao(num1, num2, operacao):\n",
        "    if operacao == 'soms':\n",
        "        return num1 + num2\n",
        "    elif operacao == 'subtracao':\n",
        "        return num1 - num2\n",
        "    else:\n",
        "        return \"Operação Inválida\"\n",
        "print(operacao(15,2, 'soma'))\n",
        "print(operacao(12,15, 'subtracao'))\n",
        "print(operacao(11,6, 'multiplicacao'))"
      ],
      "metadata": {
        "colab": {
          "base_uri": "https://localhost:8080/"
        },
        "id": "_KEjgYnf6W6M",
        "outputId": "8d4b5afb-8a71-4270-cd3a-16eb3a0347a5"
      },
      "execution_count": 19,
      "outputs": [
        {
          "output_type": "stream",
          "name": "stdout",
          "text": [
            "Operação Inválida\n",
            "-3\n",
            "Operação Inválida\n"
          ]
        }
      ]
    }
  ]
}