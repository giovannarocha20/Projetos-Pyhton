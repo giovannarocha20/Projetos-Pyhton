{
  "nbformat": 4,
  "nbformat_minor": 0,
  "metadata": {
    "colab": {
      "provenance": []
    },
    "kernelspec": {
      "name": "python3",
      "display_name": "Python 3"
    },
    "language_info": {
      "name": "python"
    }
  },
  "cells": [
    {
      "cell_type": "markdown",
      "source": [
        "## Atividade 6: Nesta atividade, você deve criar uma classe para uma empresa e ler os dados de um arquivo CSV chamado \"exercicio6.csv\"."
      ],
      "metadata": {
        "id": "boKiI9t8ScgF"
      }
    },
    {
      "cell_type": "code",
      "source": [
        "import csv\n",
        "dados_empresas = [\n",
        "    ['1', 'TechCorp', '250', '150000.00'],\n",
        "    ['2', 'InovaTech', '180', '120000.00'],\n",
        "    ['3', 'BioHealth', '320', '300000.00'],\n",
        "    ['4', 'EcoEnergy', '150', '90000.00'],\n",
        "    ['5', 'DataSolutions', '400', '500000.00']\n",
        "]\n",
        "\n",
        "with open('exercicio6.csv', 'w', newline='') as csvfile:\n",
        "    escritor = csv.writer(csvfile)\n",
        "    escritor.writerow(['id_empresa', 'nome_empresa', 'numero_funcionarios', 'lucro'])\n",
        "    escritor.writerows(dados_empresas)\n",
        "\n",
        "print(\"Arquivo 'exercicio6.csv' criado com sucesso!\")"
      ],
      "metadata": {
        "colab": {
          "base_uri": "https://localhost:8080/"
        },
        "id": "b5NuEUd5S8xq",
        "outputId": "af95ba1f-970a-43c9-8045-7638ec47dc90"
      },
      "execution_count": 5,
      "outputs": [
        {
          "output_type": "stream",
          "name": "stdout",
          "text": [
            "Arquivo 'exercicio6.csv' criado com sucesso!\n"
          ]
        }
      ]
    },
    {
      "cell_type": "code",
      "source": [
        "empresas = ler_csv_empresas('exercicio6.csv')\n",
        "for empresa in empresas:\n",
        "    print(empresa)"
      ],
      "metadata": {
        "colab": {
          "base_uri": "https://localhost:8080/"
        },
        "id": "yo8SWwWKT4eX",
        "outputId": "90c9ca09-8f9b-454d-fa2c-78373cb37b4c"
      },
      "execution_count": 6,
      "outputs": [
        {
          "output_type": "stream",
          "name": "stdout",
          "text": [
            "Empresa: TechCorp, Funcionários: 250, Lucro: 150000.0\n",
            "Empresa: InovaTech, Funcionários: 180, Lucro: 120000.0\n",
            "Empresa: BioHealth, Funcionários: 320, Lucro: 300000.0\n",
            "Empresa: EcoEnergy, Funcionários: 150, Lucro: 90000.0\n",
            "Empresa: DataSolutions, Funcionários: 400, Lucro: 500000.0\n"
          ]
        }
      ]
    },
    {
      "cell_type": "markdown",
      "source": [
        "## Atividade 7: Aqui você vai criar uma classe Pessoa com nome e idade. Depois, vai salvar 3 instâncias dessa classe em um arquivo JSON."
      ],
      "metadata": {
        "id": "yUiCc8b_S2T7"
      }
    },
    {
      "cell_type": "code",
      "source": [
        "import json\n",
        "dados_pessoas = [\n",
        "    {\"nome\": \"Alice\", \"idade\": 28},\n",
        "    {\"nome\": \"Bruno\", \"idade\": 35},\n",
        "    {\"nome\": \"Carla\", \"idade\": 22}\n",
        "]\n",
        "\n",
        "with open('exercicio7.json', 'w') as jsonfile:\n",
        "    json.dump(dados_pessoas, jsonfile, indent=4)\n",
        "\n",
        "print(\"Arquivo 'exercicio7.json' criado com sucesso!\")"
      ],
      "metadata": {
        "colab": {
          "base_uri": "https://localhost:8080/"
        },
        "id": "r_yceDxmSrhF",
        "outputId": "7ed518c7-4ac6-4d51-bbf2-82fb736e20c5"
      },
      "execution_count": 7,
      "outputs": [
        {
          "output_type": "stream",
          "name": "stdout",
          "text": [
            "Arquivo 'exercicio7.json' criado com sucesso!\n"
          ]
        }
      ]
    },
    {
      "cell_type": "code",
      "source": [
        "with open('exercicio7.json', 'r') as jsonfile:\n",
        "    dados = json.load(jsonfile)\n",
        "    print(json.dumps(dados, indent=4))"
      ],
      "metadata": {
        "colab": {
          "base_uri": "https://localhost:8080/"
        },
        "id": "kirjLkR9ULd2",
        "outputId": "a2a9ff18-b391-4598-820a-60ded0e2a7f7"
      },
      "execution_count": 8,
      "outputs": [
        {
          "output_type": "stream",
          "name": "stdout",
          "text": [
            "[\n",
            "    {\n",
            "        \"nome\": \"Alice\",\n",
            "        \"idade\": 28\n",
            "    },\n",
            "    {\n",
            "        \"nome\": \"Bruno\",\n",
            "        \"idade\": 35\n",
            "    },\n",
            "    {\n",
            "        \"nome\": \"Carla\",\n",
            "        \"idade\": 22\n",
            "    }\n",
            "]\n"
          ]
        }
      ]
    },
    {
      "cell_type": "markdown",
      "source": [
        "## Atividade 8: Nesta atividade, você vai ler o arquivo \"exercicio7.json\" e criar instâncias da classe Pessoa a partir desse arquivo."
      ],
      "metadata": {
        "id": "hIIA1mtOUrl8"
      }
    },
    {
      "cell_type": "code",
      "source": [
        "import json\n",
        "class Pessoa:\n",
        "    def __init__(self, nome, idade):\n",
        "        self.nome = nome\n",
        "        self.idade = idade\n",
        "\n",
        "    def __str__(self):\n",
        "        return f'Nome: {self.nome}, Idade: {self.idade}'\n",
        "\n",
        "def ler_json_para_pessoas(arquivo_json):\n",
        "    with open(arquivo_json, 'r') as jsonfile:\n",
        "        dados = json.load(jsonfile)\n",
        "        pessoas = [Pessoa(dado[\"nome\"], dado[\"idade\"]) for dado in dados]\n",
        "    return pessoas\n",
        "\n",
        "pessoas_do_json = ler_json_para_pessoas('exercicio7.json')\n",
        "\n",
        "for pessoa in pessoas_do_json:\n",
        "    print(pessoa)"
      ],
      "metadata": {
        "colab": {
          "base_uri": "https://localhost:8080/"
        },
        "id": "CnmeO_N6UQO5",
        "outputId": "fccc13b8-fb1a-465c-a86a-6c48e4b104de"
      },
      "execution_count": 11,
      "outputs": [
        {
          "output_type": "stream",
          "name": "stdout",
          "text": [
            "Nome: Alice, Idade: 28\n",
            "Nome: Bruno, Idade: 35\n",
            "Nome: Carla, Idade: 22\n"
          ]
        }
      ]
    },
    {
      "cell_type": "markdown",
      "source": [
        "## Atividade 9: O objetivo é criar um arquivo XML com a estrutura indicada. Vamos gerar esse arquivo XML no formato correto, onde haverá uma tag raiz <Root>, e dentro dela, várias tags <Estado> (com o atributo \"nome\" representando o nome do estado). Dentro de cada estado, teremos tags <Cidade> com o nome da cidade como texto."
      ],
      "metadata": {
        "id": "zFCB0omFWiNd"
      }
    },
    {
      "cell_type": "code",
      "source": [
        "import xml.etree.ElementTree as ET\n",
        "\n",
        "root = ET.Element(\"Root\")\n",
        "\n",
        "estados_cidades = {\n",
        "    \"Rio Grande do Sul\": [\"Santa Maria\", \"Porto Alegre\", \"Novo Hamburgo\"],\n",
        "    \"São Paulo\": [\"Campinas\", \"Sorocaba\", \"São Paulo\"],\n",
        "    \"Minas Gerais\": [\"Belo Horizonte\", \"Uberlândia\", \"Ouro Preto\"]\n",
        "}\n",
        "\n",
        "for estado, cidades in estados_cidades.items():\n",
        "    estado_element = ET.SubElement(root, \"Estado\", nome=estado)\n",
        "    for cidade in cidades:\n",
        "        cidade_element = ET.SubElement(estado_element, \"Cidade\")\n",
        "        cidade_element.text = cidade\n",
        "\n",
        "arvore = ET.ElementTree(root)\n",
        "\n",
        "arvore.write(\"exercicio9.xml\", encoding=\"utf-8\", xml_declaration=True)\n",
        "print(\"Arquivo 'exercicio9.xml' criado com sucesso!\")"
      ],
      "metadata": {
        "colab": {
          "base_uri": "https://localhost:8080/"
        },
        "id": "vI5u_teMWxmB",
        "outputId": "144e2fa4-9b4d-415e-bc40-119ab8171e91"
      },
      "execution_count": 13,
      "outputs": [
        {
          "output_type": "stream",
          "name": "stdout",
          "text": [
            "Arquivo 'exercicio9.xml' criado com sucesso!\n"
          ]
        }
      ]
    },
    {
      "cell_type": "markdown",
      "source": [
        "![Captura de tela 2024-10-24 181047.png](data:image/png;base64,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)"
      ],
      "metadata": {
        "id": "NKVMCbywXehx"
      }
    }
  ]
}