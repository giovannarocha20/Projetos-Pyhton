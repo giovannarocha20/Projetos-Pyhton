{
  "nbformat": 4,
  "nbformat_minor": 0,
  "metadata": {
    "colab": {
      "provenance": []
    },
    "kernelspec": {
      "name": "python3",
      "display_name": "Python 3"
    },
    "language_info": {
      "name": "python"
    }
  },
  "cells": [
    {
      "cell_type": "markdown",
      "source": [
        "## Atividade 1: Criação de uma classe para representar um carro com atributos de potência e consumo de gasolina."
      ],
      "metadata": {
        "id": "aPJMJKVr_TfV"
      }
    },
    {
      "cell_type": "code",
      "source": [
        "class Carro:\n",
        "    def __init__(self, potencia, alcance):\n",
        "        self.potencia = potencia\n",
        "        self.alcance = alcance\n",
        "\n",
        "    def mostrar_valores(self):\n",
        "        print(f\"Potência do carro: {self.potencia} cavalos\")\n",
        "        print(f\"Alcance do carro: {self.alcance} km/l\")\n",
        "\n",
        "\n",
        "carro1 = Carro(100, 200)\n",
        "carro2 = Carro(200, 350.5)\n",
        "\n",
        "carro1.mostrar_valores()\n",
        "print()\n",
        "carro2.mostrar_valores()"
      ],
      "metadata": {
        "colab": {
          "base_uri": "https://localhost:8080/"
        },
        "id": "EJOmS2OM_YAM",
        "outputId": "765d2b72-832f-46fe-f168-5dc4c93e7534"
      },
      "execution_count": 1,
      "outputs": [
        {
          "output_type": "stream",
          "name": "stdout",
          "text": [
            "Potência do carro: 100 cavalos\n",
            "Alcance do carro: 200 km/l\n",
            "\n",
            "Potência do carro: 200 cavalos\n",
            "Alcance do carro: 350.5 km/l\n"
          ]
        }
      ]
    },
    {
      "cell_type": "markdown",
      "source": [
        "## Atividade 2: Criação de uma classe para representar uma pessoa com CPF e um dependente (outra pessoa)."
      ],
      "metadata": {
        "id": "yaB7vdZi_f_U"
      }
    },
    {
      "cell_type": "code",
      "source": [
        "class Pessoa:\n",
        "    def __init__(self, nome, cpf, dependente=None):\n",
        "        self.nome = nome\n",
        "        self.cpf = cpf\n",
        "        self.dependente = dependente\n",
        "\n",
        "    def mostrar_valores(self):\n",
        "        dependente_nome = self.dependente.nome if self.dependente else \"None\"\n",
        "        print(f\"Nome: {self.nome} CPF: {self.cpf} Dependente: {dependente_nome}\")\n",
        "\n",
        "pai = Pessoa(\"Manoel\", \"200.300.400-45\")\n",
        "filha = Pessoa(\"Adriana\", \"100.200.300-45\", pai)\n",
        "\n",
        "pai.mostrar_valores()\n",
        "print()\n",
        "filha.mostrar_valores()"
      ],
      "metadata": {
        "colab": {
          "base_uri": "https://localhost:8080/"
        },
        "id": "Phhex4OK_cib",
        "outputId": "d1cbd12c-bbdf-45c2-9b43-8c340756129a"
      },
      "execution_count": 4,
      "outputs": [
        {
          "output_type": "stream",
          "name": "stdout",
          "text": [
            "Nome: Manoel CPF: 200.300.400-45 Dependente: None\n",
            "\n",
            "Nome: Adriana CPF: 100.200.300-45 Dependente: Manoel\n"
          ]
        }
      ]
    },
    {
      "cell_type": "markdown",
      "source": [
        "## Atividade 3: Criação de uma classe base para representar um veículo, e três classes que herdam essa base (ônibus, carro, moto)."
      ],
      "metadata": {
        "id": "Lq59qJvcALLj"
      }
    },
    {
      "cell_type": "code",
      "source": [
        "class Veiculo:\n",
        "    def __init__(self, peso, potencia, rodas):\n",
        "        self.peso = peso\n",
        "        self.potencia = potencia\n",
        "        self.rodas = rodas\n",
        "\n",
        "    def mostrar_valores(self):\n",
        "        print(f\"Peso: {self.peso} Potência: {self.potencia} Rodas: {self.rodas}\")\n",
        "\n",
        "class Onibus(Veiculo):\n",
        "    pass\n",
        "\n",
        "class Carro(Veiculo):\n",
        "    pass\n",
        "\n",
        "class Moto(Veiculo):\n",
        "    pass\n",
        "\n",
        "onibus = Onibus(1000, 400, 6)\n",
        "carro = Carro(300, 100, 4)\n",
        "moto = Moto(100, 50, 2)\n",
        "\n",
        "onibus.mostrar_valores()\n",
        "print()\n",
        "carro.mostrar_valores()\n",
        "print()\n",
        "moto.mostrar_valores()"
      ],
      "metadata": {
        "colab": {
          "base_uri": "https://localhost:8080/"
        },
        "id": "NVoY3N7V_le1",
        "outputId": "fc0d1e9d-06ae-4c0b-b962-37c1a5bc3b49"
      },
      "execution_count": 5,
      "outputs": [
        {
          "output_type": "stream",
          "name": "stdout",
          "text": [
            "Peso: 1000 Potência: 400 Rodas: 6\n",
            "\n",
            "Peso: 300 Potência: 100 Rodas: 4\n",
            "\n",
            "Peso: 100 Potência: 50 Rodas: 2\n"
          ]
        }
      ]
    },
    {
      "cell_type": "markdown",
      "source": [
        "## Atividade 4: Cálculo da distância percorrida baseado no peso e potência do veículo."
      ],
      "metadata": {
        "id": "SMjRG-LcAULW"
      }
    },
    {
      "cell_type": "code",
      "source": [
        "class Veiculo:\n",
        "    def __init__(self, peso, potencia):\n",
        "        self.peso = peso\n",
        "        self.potencia = potencia\n",
        "\n",
        "    def calcular_distancia(self):\n",
        "        return (self.potencia / self.peso) * 1000\n",
        "\n",
        "# Subclasses\n",
        "class Onibus(Veiculo):\n",
        "    pass\n",
        "\n",
        "class Carro(Veiculo):\n",
        "    pass\n",
        "\n",
        "class Moto(Veiculo):\n",
        "    pass\n",
        "\n",
        "onibus = Onibus(1000, 400)\n",
        "carro = Carro(300, 100)\n",
        "moto = Moto(100, 50)\n",
        "\n",
        "print(f\"Distância percorrida ônibus: {onibus.calcular_distancia()} km\")\n",
        "print(f\"Distância percorrida carro: {carro.calcular_distancia()} km\")\n",
        "print(f\"Distância percorrida moto: {moto.calcular_distancia()} km\")"
      ],
      "metadata": {
        "colab": {
          "base_uri": "https://localhost:8080/"
        },
        "id": "VeZ8jFG9ASIX",
        "outputId": "2ab9abb2-b24b-4010-efc7-ca9624f2673c"
      },
      "execution_count": 6,
      "outputs": [
        {
          "output_type": "stream",
          "name": "stdout",
          "text": [
            "Distância percorrida ônibus: 400.0 km\n",
            "Distância percorrida carro: 333.3333333333333 km\n",
            "Distância percorrida moto: 500.0 km\n"
          ]
        }
      ]
    },
    {
      "cell_type": "code",
      "source": [],
      "metadata": {
        "id": "p_kJjwWxAaRy"
      },
      "execution_count": null,
      "outputs": []
    }
  ]
}