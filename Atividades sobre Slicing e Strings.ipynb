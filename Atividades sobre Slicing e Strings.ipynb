{
  "nbformat": 4,
  "nbformat_minor": 0,
  "metadata": {
    "colab": {
      "provenance": []
    },
    "kernelspec": {
      "name": "python3",
      "display_name": "Python 3"
    },
    "language_info": {
      "name": "python"
    }
  },
  "cells": [
    {
      "cell_type": "markdown",
      "source": [
        "## 1. Separar Nome e Sobrenome"
      ],
      "metadata": {
        "id": "zt03DqgEMoYw"
      }
    },
    {
      "cell_type": "code",
      "execution_count": 1,
      "metadata": {
        "colab": {
          "base_uri": "https://localhost:8080/"
        },
        "id": "aBOflZm9Ml6s",
        "outputId": "a1c89ff1-403f-42d3-a6a0-e1ef35ab5b70"
      },
      "outputs": [
        {
          "output_type": "stream",
          "name": "stdout",
          "text": [
            "Nome: Giovanna\n",
            "Sobrenome: Rocha\n"
          ]
        }
      ],
      "source": [
        "nome_completo = \"Giovanna Rocha\"\n",
        "\n",
        "nome = nome_completo.split()[0]\n",
        "sobrenome = nome_completo.split()[1]\n",
        "\n",
        "print(\"Nome:\", nome)\n",
        "print(\"Sobrenome:\", sobrenome)"
      ]
    },
    {
      "cell_type": "markdown",
      "source": [
        "## 2. Retirar o Último Caractere\n"
      ],
      "metadata": {
        "id": "FvcZ-a0NM2ZW"
      }
    },
    {
      "cell_type": "code",
      "source": [
        "string = input(\"Digite um texto qualquer: \")\n",
        "\n",
        "string_sem_ultimo = string[:-1]\n",
        "\n",
        "print(\"String sem o último caractere:\", string_sem_ultimo)"
      ],
      "metadata": {
        "colab": {
          "base_uri": "https://localhost:8080/"
        },
        "id": "kpU2GEYXMxDv",
        "outputId": "b64e46fa-d742-40e9-90fa-65e0dee96cb6"
      },
      "execution_count": 5,
      "outputs": [
        {
          "output_type": "stream",
          "name": "stdout",
          "text": [
            "Digite um texto qualquer: Guitarra\n",
            "String sem o último caractere: Guitarr\n"
          ]
        }
      ]
    },
    {
      "cell_type": "markdown",
      "source": [
        "## 3. Verificar se a String Possui Vogal\n"
      ],
      "metadata": {
        "id": "5rTUT9tONCcx"
      }
    },
    {
      "cell_type": "code",
      "source": [
        "texto = input(\"Digite qualquer palavra: \")\n",
        "possui_vogal = (\"a\" in texto) or (\"e\" in texto) or (\"i\" in texto) or (\"o\" in texto) or (\"u\" in texto)\n",
        "print(\"Possui vogal?\", possui_vogal)"
      ],
      "metadata": {
        "colab": {
          "base_uri": "https://localhost:8080/"
        },
        "id": "k_ff4g78M9y1",
        "outputId": "aa2924ab-8de3-459a-8a97-05a2ec3c6b6d"
      },
      "execution_count": 8,
      "outputs": [
        {
          "output_type": "stream",
          "name": "stdout",
          "text": [
            "Digite qualquer palavra: joelho\n",
            "Possui vogal? True\n"
          ]
        }
      ]
    },
    {
      "cell_type": "markdown",
      "source": [
        "## 4. Inserir \"ABC\" na Primeira Posição\n"
      ],
      "metadata": {
        "id": "0ipWMrbqNPh-"
      }
    },
    {
      "cell_type": "code",
      "source": [
        "string = input(\"Digite uma string: \")\n",
        "\n",
        "nova_string = \"ABC\" + string\n",
        "\n",
        "print(\"Nova string:\", nova_string)"
      ],
      "metadata": {
        "colab": {
          "base_uri": "https://localhost:8080/"
        },
        "id": "cCjD_1v5NLFl",
        "outputId": "e22d97c7-33de-46eb-d75c-88d6975a30a1"
      },
      "execution_count": 4,
      "outputs": [
        {
          "output_type": "stream",
          "name": "stdout",
          "text": [
            "Digite uma string: Fundamentos\n",
            "Nova string: ABCFundamentos\n"
          ]
        }
      ]
    }
  ]
}