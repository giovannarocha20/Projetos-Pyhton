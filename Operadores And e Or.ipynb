{
  "nbformat": 4,
  "nbformat_minor": 0,
  "metadata": {
    "colab": {
      "provenance": []
    },
    "kernelspec": {
      "name": "python3",
      "display_name": "Python 3"
    },
    "language_info": {
      "name": "python"
    }
  },
  "cells": [
    {
      "cell_type": "markdown",
      "source": [
        "## Operadores And e Or\n"
      ],
      "metadata": {
        "id": "lXchS_7HwnbZ"
      }
    },
    {
      "cell_type": "code",
      "execution_count": 2,
      "metadata": {
        "colab": {
          "base_uri": "https://localhost:8080/"
        },
        "id": "i1QE-7T9wlkV",
        "outputId": "978624c9-f923-4eed-bc33-a315e887060e"
      },
      "outputs": [
        {
          "output_type": "stream",
          "name": "stdout",
          "text": [
            "False\n"
          ]
        }
      ],
      "source": [
        "resultado1 = True and False\n",
        "print(resultado1)"
      ]
    },
    {
      "cell_type": "code",
      "source": [
        "resultado2 = True and True\n",
        "print(resultado2)"
      ],
      "metadata": {
        "colab": {
          "base_uri": "https://localhost:8080/"
        },
        "id": "pdO1zrZEwwUR",
        "outputId": "36e17862-a4f7-4260-f5d7-9325efc29334"
      },
      "execution_count": 4,
      "outputs": [
        {
          "output_type": "stream",
          "name": "stdout",
          "text": [
            "True\n"
          ]
        }
      ]
    },
    {
      "cell_type": "code",
      "source": [
        "var1 = True\n",
        "var2 = False\n",
        "var3 = False\n",
        "print(var1 and var2 and var3)"
      ],
      "metadata": {
        "colab": {
          "base_uri": "https://localhost:8080/"
        },
        "id": "AWmRjfvHw8ef",
        "outputId": "0e5f8948-d62a-4793-df14-e31a8a5b2ac6"
      },
      "execution_count": 5,
      "outputs": [
        {
          "output_type": "stream",
          "name": "stdout",
          "text": [
            "False\n"
          ]
        }
      ]
    },
    {
      "cell_type": "code",
      "source": [
        "var1 = True\n",
        "var2 = True\n",
        "var3 = True\n",
        "print(var1 and var2 and var3)"
      ],
      "metadata": {
        "colab": {
          "base_uri": "https://localhost:8080/"
        },
        "id": "SnL7eBo8xIXa",
        "outputId": "6dc8f203-7e4b-413a-88c3-7dd63af70498"
      },
      "execution_count": 6,
      "outputs": [
        {
          "output_type": "stream",
          "name": "stdout",
          "text": [
            "True\n"
          ]
        }
      ]
    },
    {
      "cell_type": "code",
      "source": [
        "clima_bom = True\n",
        "estou_disposto = True\n",
        "vou_ao_mercado = clima_bom and estou_disposto\n",
        "print(\"Vou ao mercado?\", vou_ao_mercado)"
      ],
      "metadata": {
        "colab": {
          "base_uri": "https://localhost:8080/"
        },
        "id": "rshMtMbSxMtt",
        "outputId": "6b5604b2-422c-4f6b-b1c7-965ec87b2b3c"
      },
      "execution_count": 7,
      "outputs": [
        {
          "output_type": "stream",
          "name": "stdout",
          "text": [
            "Vou ao mercado? True\n"
          ]
        }
      ]
    },
    {
      "cell_type": "code",
      "source": [
        "resultado = True or False\n",
        "print(resultado)"
      ],
      "metadata": {
        "colab": {
          "base_uri": "https://localhost:8080/"
        },
        "id": "IfwyVE77xl3z",
        "outputId": "04be66be-56ff-451c-a63e-09473286fed6"
      },
      "execution_count": 8,
      "outputs": [
        {
          "output_type": "stream",
          "name": "stdout",
          "text": [
            "True\n"
          ]
        }
      ]
    },
    {
      "cell_type": "code",
      "source": [
        "resultado = True or True\n",
        "print(resultado)"
      ],
      "metadata": {
        "colab": {
          "base_uri": "https://localhost:8080/"
        },
        "id": "uh04t1JCx3l8",
        "outputId": "8054946a-a3ad-43dd-9787-9937ab9c4a69"
      },
      "execution_count": 9,
      "outputs": [
        {
          "output_type": "stream",
          "name": "stdout",
          "text": [
            "True\n"
          ]
        }
      ]
    },
    {
      "cell_type": "code",
      "source": [
        "resultado = False or False\n",
        "print(resultado)"
      ],
      "metadata": {
        "colab": {
          "base_uri": "https://localhost:8080/"
        },
        "id": "gmVIXV79x768",
        "outputId": "0f1fc240-c3ed-461a-d73b-13a0e6a0e47e"
      },
      "execution_count": 10,
      "outputs": [
        {
          "output_type": "stream",
          "name": "stdout",
          "text": [
            "False\n"
          ]
        }
      ]
    },
    {
      "cell_type": "code",
      "source": [
        "sei_programar = True\n",
        "sei_investir = True\n",
        "ganho_bom_salario = sei_programar or sei_investir\n",
        "print(\"Terei um bom salário?\", ganho_bom_salario)"
      ],
      "metadata": {
        "colab": {
          "base_uri": "https://localhost:8080/"
        },
        "id": "geNAS2gWx_x3",
        "outputId": "fe88e73c-1815-4643-9a47-9dbddf38f45d"
      },
      "execution_count": 12,
      "outputs": [
        {
          "output_type": "stream",
          "name": "stdout",
          "text": [
            "Terei um bom salário? True\n"
          ]
        }
      ]
    },
    {
      "cell_type": "code",
      "source": [
        "resultado = True\n",
        "print(not resultado)"
      ],
      "metadata": {
        "colab": {
          "base_uri": "https://localhost:8080/"
        },
        "id": "K7oxKy22yaIe",
        "outputId": "e6f035db-5459-44be-e442-2c418f1aa744"
      },
      "execution_count": 13,
      "outputs": [
        {
          "output_type": "stream",
          "name": "stdout",
          "text": [
            "False\n"
          ]
        }
      ]
    },
    {
      "cell_type": "code",
      "source": [
        "porta_aberta = True\n",
        "tem_chave = False\n",
        "print(\"Estou trancado?\", not porta_aberta and not tem_chave)"
      ],
      "metadata": {
        "colab": {
          "base_uri": "https://localhost:8080/"
        },
        "id": "C-xihCtJyoU-",
        "outputId": "830a0f32-3501-491e-fa3b-98c39325258a"
      },
      "execution_count": 15,
      "outputs": [
        {
          "output_type": "stream",
          "name": "stdout",
          "text": [
            "Estou trancado? False\n"
          ]
        }
      ]
    },
    {
      "cell_type": "code",
      "source": [
        "# Prioridade\n",
        "# NOT , AND , OR"
      ],
      "metadata": {
        "id": "rAR9fsVIzAKI"
      },
      "execution_count": 16,
      "outputs": []
    },
    {
      "cell_type": "code",
      "source": [
        "bool1 = True or False and True\n",
        "print(bool1)"
      ],
      "metadata": {
        "colab": {
          "base_uri": "https://localhost:8080/"
        },
        "id": "XvVbUD2AzYXY",
        "outputId": "3d8bfccd-f787-49aa-8fbc-21d85290d849"
      },
      "execution_count": 17,
      "outputs": [
        {
          "output_type": "stream",
          "name": "stdout",
          "text": [
            "True\n"
          ]
        }
      ]
    },
    {
      "cell_type": "code",
      "source": [
        "bool2 = True or not False\n",
        "print(bool2)"
      ],
      "metadata": {
        "colab": {
          "base_uri": "https://localhost:8080/"
        },
        "id": "5HYWcjL4zewD",
        "outputId": "dc4fc203-47e3-4186-fdf5-22577585eb2d"
      },
      "execution_count": 18,
      "outputs": [
        {
          "output_type": "stream",
          "name": "stdout",
          "text": [
            "True\n"
          ]
        }
      ]
    },
    {
      "cell_type": "code",
      "source": [
        "bool3 = True and not (True or False)\n",
        "print(bool3)"
      ],
      "metadata": {
        "colab": {
          "base_uri": "https://localhost:8080/"
        },
        "id": "rqvhh4rgztyA",
        "outputId": "379daa77-6885-4dc1-b332-a69bf441ed11"
      },
      "execution_count": 19,
      "outputs": [
        {
          "output_type": "stream",
          "name": "stdout",
          "text": [
            "False\n"
          ]
        }
      ]
    },
    {
      "cell_type": "code",
      "source": [],
      "metadata": {
        "id": "9Vk0mNrHz0s0"
      },
      "execution_count": null,
      "outputs": []
    }
  ]
}
