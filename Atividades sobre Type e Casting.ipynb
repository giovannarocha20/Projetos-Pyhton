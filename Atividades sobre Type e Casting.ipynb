{
  "nbformat": 4,
  "nbformat_minor": 0,
  "metadata": {
    "colab": {
      "provenance": []
    },
    "kernelspec": {
      "name": "python3",
      "display_name": "Python 3"
    },
    "language_info": {
      "name": "python"
    }
  },
  "cells": [
    {
      "cell_type": "markdown",
      "source": [
        "## 1 - Programa que desconta 1000 do saldo bancário (tipo string):"
      ],
      "metadata": {
        "id": "LTkixiqj29FG"
      }
    },
    {
      "cell_type": "code",
      "execution_count": 1,
      "metadata": {
        "colab": {
          "base_uri": "https://localhost:8080/"
        },
        "id": "NjhENOrR2IXh",
        "outputId": "e7ad5a67-286b-4221-a0a3-9b41b3c52188"
      },
      "outputs": [
        {
          "output_type": "stream",
          "name": "stdout",
          "text": [
            "Novo saldo: 4000\n"
          ]
        }
      ],
      "source": [
        "# Crie uma variável do tipo string contendo um número que indique quanto você tem no banco\n",
        "saldo_banco = \"5000\"\n",
        "\n",
        "# Converta a string para inteiro e subtraia 1000\n",
        "novo_saldo = int(saldo_banco) - 1000\n",
        "\n",
        "# Mostre o novo saldo na saída do programa\n",
        "print(\"Novo saldo:\", novo_saldo)"
      ]
    },
    {
      "cell_type": "markdown",
      "source": [
        "## 2 - Programa que indica se o saldo bancário está zerado (valor lógico):"
      ],
      "metadata": {
        "id": "seNZVZcZ3JtX"
      }
    },
    {
      "cell_type": "code",
      "source": [
        "# Declare uma variável para guardar seu saldo bancário\n",
        "saldo_bancario = 0\n",
        "\n",
        "# Verifique se o saldo bancário está zerado e armazene o resultado em uma variável booleana\n",
        "saldo_zerado = (saldo_bancario == 0)\n",
        "\n",
        "# Mostre o resultado\n",
        "print(\"Saldo bancário está zerado?\", saldo_zerado)"
      ],
      "metadata": {
        "colab": {
          "base_uri": "https://localhost:8080/"
        },
        "id": "HEm_vsTx3Fth",
        "outputId": "d7991227-2fa2-4e11-b8ce-cf069ec616e4"
      },
      "execution_count": 2,
      "outputs": [
        {
          "output_type": "stream",
          "name": "stdout",
          "text": [
            "Saldo bancário está zerado? True\n"
          ]
        }
      ]
    },
    {
      "cell_type": "markdown",
      "source": [
        "## 3 -  Programa que mostra apenas a parte inteira da altura:"
      ],
      "metadata": {
        "id": "llgQA7mP3X3o"
      }
    },
    {
      "cell_type": "code",
      "source": [
        "# Crie uma variável para armazenar sua altura (em metros, por exemplo)\n",
        "altura = 1.57\n",
        "\n",
        "# Mostre somente a parte inteira da altura\n",
        "altura_inteira = int(altura)\n",
        "\n",
        "# Mostre a parte inteira na saída do programa\n",
        "print(\"Altura (parte inteira):\", altura_inteira)"
      ],
      "metadata": {
        "colab": {
          "base_uri": "https://localhost:8080/"
        },
        "id": "C6_vw1_A3TEi",
        "outputId": "0efe91b9-f923-4c12-f0e2-734bde285ebd"
      },
      "execution_count": 4,
      "outputs": [
        {
          "output_type": "stream",
          "name": "stdout",
          "text": [
            "Altura (parte inteira): 1\n"
          ]
        }
      ]
    }
  ]
}