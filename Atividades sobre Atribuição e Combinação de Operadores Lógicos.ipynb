{
  "nbformat": 4,
  "nbformat_minor": 0,
  "metadata": {
    "colab": {
      "provenance": []
    },
    "kernelspec": {
      "name": "python3",
      "display_name": "Python 3"
    },
    "language_info": {
      "name": "python"
    }
  },
  "cells": [
    {
      "cell_type": "markdown",
      "source": [
        "## 1. Programa que verifica se foi aprovado numa prova:\n"
      ],
      "metadata": {
        "id": "6xdYHVZlBFqJ"
      }
    },
    {
      "cell_type": "code",
      "execution_count": 1,
      "metadata": {
        "colab": {
          "base_uri": "https://localhost:8080/"
        },
        "id": "9NhNlCnV9kWE",
        "outputId": "065353e6-68e9-435d-bf05-61fb48150ec4"
      },
      "outputs": [
        {
          "output_type": "stream",
          "name": "stdout",
          "text": [
            "Digite sua média: 7\n",
            "Digite sua nota no exame: 8\n",
            "Aprovado\n"
          ]
        }
      ],
      "source": [
        "# Leia a média e a nota do exame\n",
        "media = float(input(\"Digite sua média: \"))\n",
        "nota_exame = float(input(\"Digite sua nota no exame: \"))\n",
        "\n",
        "# Verifique se foi aprovado\n",
        "if media >= 7 or nota_exame >= 5:\n",
        "    print(\"Aprovado\")\n",
        "else:\n",
        "    print(\"Reprovado\")"
      ]
    },
    {
      "cell_type": "markdown",
      "source": [
        "## 2. Programa que verifica se a senha está correta:\n"
      ],
      "metadata": {
        "id": "mkzyTbwaBVuA"
      }
    },
    {
      "cell_type": "code",
      "source": [
        "# Senha correta salva no código\n",
        "senha_correta = \"2024\"\n",
        "\n",
        "# Leia a tentativa de senha do usuário\n",
        "tentativa = input(\"Digite a senha: \")\n",
        "\n",
        "# Verifique se a senha está correta\n",
        "if tentativa == senha_correta:\n",
        "    print(\"Acesso permitido\")\n",
        "else:\n",
        "    print(\"Senha Incorreta\")"
      ],
      "metadata": {
        "colab": {
          "base_uri": "https://localhost:8080/"
        },
        "id": "loXM0QSMBNSJ",
        "outputId": "3bda9a35-42fb-4f6a-9753-23459688662e"
      },
      "execution_count": 2,
      "outputs": [
        {
          "output_type": "stream",
          "name": "stdout",
          "text": [
            "Digite a senha: 2024\n",
            "Acesso permitido\n"
          ]
        }
      ]
    }
  ]
}