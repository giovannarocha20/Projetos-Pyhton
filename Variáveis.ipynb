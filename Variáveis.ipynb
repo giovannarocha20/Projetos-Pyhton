{
  "nbformat": 4,
  "nbformat_minor": 0,
  "metadata": {
    "colab": {
      "provenance": []
    },
    "kernelspec": {
      "name": "python3",
      "display_name": "Python 3"
    },
    "language_info": {
      "name": "python"
    }
  },
  "cells": [
    {
      "cell_type": "code",
      "execution_count": 2,
      "metadata": {
        "colab": {
          "base_uri": "https://localhost:8080/"
        },
        "id": "dn2yX9hXL7Sf",
        "outputId": "9be8de7a-906e-4b2a-8802-c60665c881ac"
      },
      "outputs": [
        {
          "output_type": "stream",
          "name": "stdout",
          "text": [
            "Valor da variável inteira: 10\n",
            "Valor da variável ponto flutuante: 3.14\n",
            "Valor da variável booleano: True\n"
          ]
        }
      ],
      "source": [
        "# Atividade1: Criando variáveis de firentes tipos\n",
        "inteiro = 10\n",
        "ponto_flutuante = 3.14\n",
        "booleano = True\n",
        "print(\"Valor da variável inteira:\", inteiro)\n",
        "print(\"Valor da variável ponto flutuante:\", ponto_flutuante)\n",
        "print(\"Valor da variável booleano:\", booleano)\n",
        "\n"
      ]
    },
    {
      "cell_type": "code",
      "source": [
        "# Atividade2: Criando variáveis para armazenar nome, CPF e estado civil\n",
        "nome = \"Giovanna Rocha\"\n",
        "cpf = \"123.543.654.09\"\n",
        "casada = False\n",
        "print(\"Nome:\", nome)\n",
        "print(\"CPF:\", cpf)\n",
        "print(\"Casada:\", casada)"
      ],
      "metadata": {
        "colab": {
          "base_uri": "https://localhost:8080/"
        },
        "id": "8qMCtzbwNqwu",
        "outputId": "765e6501-9359-4331-8552-6759af21889b"
      },
      "execution_count": 3,
      "outputs": [
        {
          "output_type": "stream",
          "name": "stdout",
          "text": [
            "Nome: Giovanna Rocha\n",
            "CPF: 123.543.654.09\n",
            "Casada: False\n"
          ]
        }
      ]
    }
  ]
}