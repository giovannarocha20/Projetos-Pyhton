{
  "nbformat": 4,
  "nbformat_minor": 0,
  "metadata": {
    "colab": {
      "provenance": []
    },
    "kernelspec": {
      "name": "python3",
      "display_name": "Python 3"
    },
    "language_info": {
      "name": "python"
    }
  },
  "cells": [
    {
      "cell_type": "markdown",
      "source": [
        "## Atividades sobre Operações Aritméticas"
      ],
      "metadata": {
        "id": "XwoMbh4AYBw8"
      }
    },
    {
      "cell_type": "code",
      "execution_count": 1,
      "metadata": {
        "colab": {
          "base_uri": "https://localhost:8080/"
        },
        "id": "akAIDr3aYAZ3",
        "outputId": "615c95b3-c8db-401e-f1fc-5c7aadeeb5e0"
      },
      "outputs": [
        {
          "output_type": "stream",
          "name": "stdout",
          "text": [
            "Você tem 21 anos.\n"
          ]
        }
      ],
      "source": [
        "# Atividade 1\n",
        "# Crie um programa que possui duas variáveis, uma recebe o ano em que estamos e a outra o ano em que você nasceu.\n",
        "# Em seguida subtraia ambas para receber uma estimativa de quantos anos você tem.\n",
        "# Mostre esse valor na saída do programa.\n",
        "\n",
        "ano_atual = 2024\n",
        "ano_nascimento = 2003\n",
        "idade = ano_atual - ano_nascimento\n",
        "print(f\"Você tem {idade} anos.\")"
      ]
    },
    {
      "cell_type": "code",
      "source": [
        "# Atividade 2\n",
        "# Crie um programa que faz a média aritmética entre três números.\n",
        "# Estes números devem ser salvos em uma variável.\n",
        "# Mostre esse valor na saída do programa.\n",
        "\n",
        "num1 = 10\n",
        "num2 = 15\n",
        "num3 = 6\n",
        "media = (num1 + num2 + num3) / 3\n",
        "print(\"A média é %f \" % (media))"
      ],
      "metadata": {
        "colab": {
          "base_uri": "https://localhost:8080/"
        },
        "id": "4urHV25ZYk2D",
        "outputId": "d99b2a6c-7c5a-4a51-f0cb-c761ea33d5e5"
      },
      "execution_count": 7,
      "outputs": [
        {
          "output_type": "stream",
          "name": "stdout",
          "text": [
            "A média é 10.333333 \n"
          ]
        }
      ]
    },
    {
      "cell_type": "code",
      "source": [
        "# Atividade 3\n",
        "# Crie um programa que calcule o IMC.\n",
        "# O IMC é dado pelo peso em KG dividido pela altura em metros elevado ao quadrado.\n",
        "# Salvar esses valores em uma variável. Mostre esse valor na saída do programa.\n",
        "\n",
        "peso = 59\n",
        "altura = 1.61\n",
        "imc = peso // altura ** 2\n",
        "print(f\"O seu IMC é {imc:.2f}.\")"
      ],
      "metadata": {
        "colab": {
          "base_uri": "https://localhost:8080/"
        },
        "id": "P3rfdjMYY2VB",
        "outputId": "0c2f0cf8-aa69-455e-fd33-2591a770a660"
      },
      "execution_count": 9,
      "outputs": [
        {
          "output_type": "stream",
          "name": "stdout",
          "text": [
            "O seu IMC é 22.00.\n"
          ]
        }
      ]
    },
    {
      "cell_type": "code",
      "source": [
        "# Atividade 4 (Desafio)\n",
        "# Você tem um determinado número de ovos de páscoa para dividir entre um determinado número de pessoas.\n",
        "# Determine quantos ovos ficarão por pessoa e quantos ovos sobrarão pois não puderam ser divididos igualmente.\n",
        "# Lembre o número de ovos por pessoa é um número inteiro.\n",
        "\n",
        "ovos = 20\n",
        "pessoas = 13\n",
        "ovos_por_pessoa = ovos // pessoas\n",
        "sobras = ovos % pessoas\n",
        "print(f\"Cada pessoa receberá {ovos_por_pessoa} ovos.\")\n",
        "print(f\"Sobrarão {sobras} ovos.\")"
      ],
      "metadata": {
        "colab": {
          "base_uri": "https://localhost:8080/"
        },
        "id": "AGTDIfTFZIgQ",
        "outputId": "85e50ab4-3536-4d6d-dcab-59806bd1af60"
      },
      "execution_count": 5,
      "outputs": [
        {
          "output_type": "stream",
          "name": "stdout",
          "text": [
            "Cada pessoa receberá 1 ovos.\n",
            "Sobrarão 7 ovos.\n"
          ]
        }
      ]
    }
  ]
}