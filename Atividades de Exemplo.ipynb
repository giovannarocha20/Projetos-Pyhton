{
  "nbformat": 4,
  "nbformat_minor": 0,
  "metadata": {
    "colab": {
      "provenance": [],
      "collapsed_sections": [
        "iOPBwEE6XQ1j",
        "0XBCNXtuXhxy"
      ],
      "toc_visible": true
    },
    "kernelspec": {
      "name": "python3",
      "display_name": "Python 3"
    },
    "language_info": {
      "name": "python"
    }
  },
  "cells": [
    {
      "cell_type": "markdown",
      "source": [
        "## ATIVIDADE DE EXEMPLO"
      ],
      "metadata": {
        "id": "TaXslqmkOCCE"
      }
    },
    {
      "cell_type": "code",
      "source": [
        "# Atividade 1\n",
        "# Escreva e formate a data em que você nasceu no formato dia/mês/ano.\n",
        "# Não esqueça de criar 3 variáveis para guardar o dia, mês e ano.\n",
        "\n",
        "# Substitua pelos seus valores de nascimento\n",
        "dia_nascimento = 1\n",
        "mes_nascimento = 10\n",
        "ano_nascimento = 2003\n",
        "print(f\"Eu nasci em {dia_nascimento}/{mes_nascimento}/{ano_nascimento}\")"
      ],
      "metadata": {
        "colab": {
          "base_uri": "https://localhost:8080/"
        },
        "id": "umvREE92OlJ7",
        "outputId": "01a05b38-6e07-4ddd-93c5-9f3731ff1206"
      },
      "execution_count": 17,
      "outputs": [
        {
          "output_type": "stream",
          "name": "stdout",
          "text": [
            "Eu nasci em 1/10/2003\n"
          ]
        }
      ]
    },
    {
      "cell_type": "code",
      "source": [
        "# Atividade 2\n",
        "# Escreva e formate a hora e minuto atual.\n",
        "# Não esqueça de criar duas variáveis para guardar a hora e minuto.\n",
        "# Obtém a hora e o minuto atual\n",
        "horas = 14\n",
        "minutos = 45\n",
        "print(\"Agora são %d horas e %d minutos\" % (horas, minutos))"
      ],
      "metadata": {
        "colab": {
          "base_uri": "https://localhost:8080/"
        },
        "id": "O_Tlaf9xPPWP",
        "outputId": "f4dc518a-c2eb-4505-c03d-4fe772d0a8b5"
      },
      "execution_count": 12,
      "outputs": [
        {
          "output_type": "stream",
          "name": "stdout",
          "text": [
            "Agora são 14 horas e 45 minutos\n"
          ]
        }
      ]
    },
    {
      "cell_type": "code",
      "source": [
        "# Atividade 3\n",
        "# Escreva um programa que contém o número PI, que deve ter o valor exato de 3.14159265359.\n",
        "# Agora formate esse número para ter apenas cinco casas decimais.\n",
        "# Número PI com valor exato\n",
        "pi = 3.14159265359\n",
        "\n",
        "# Formatando para cinco casas decimais\n",
        "pi_formatado = 'O pi é normalmente exibido com %.5f' % (pi)\n",
        "print(f\"{pi_formatado}\")"
      ],
      "metadata": {
        "colab": {
          "base_uri": "https://localhost:8080/"
        },
        "id": "IS9RZfIYP5sR",
        "outputId": "0aae46ca-5c57-486c-c410-b70e5c2fe2d2"
      },
      "execution_count": 21,
      "outputs": [
        {
          "output_type": "stream",
          "name": "stdout",
          "text": [
            "O pi é normalmente exibido com 3.14159\n"
          ]
        }
      ]
    }
  ]
}