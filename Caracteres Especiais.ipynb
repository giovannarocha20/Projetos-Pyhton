{
  "nbformat": 4,
  "nbformat_minor": 0,
  "metadata": {
    "colab": {
      "provenance": [],
      "collapsed_sections": [
        "iOPBwEE6XQ1j",
        "0XBCNXtuXhxy"
      ],
      "toc_visible": true
    },
    "kernelspec": {
      "name": "python3",
      "display_name": "Python 3"
    },
    "language_info": {
      "name": "python"
    }
  },
  "cells": [
    {
      "cell_type": "markdown",
      "source": [
        "## VARIÁVEIS"
      ],
      "metadata": {
        "id": "iOPBwEE6XQ1j"
      }
    },
    {
      "cell_type": "code",
      "execution_count": null,
      "metadata": {
        "colab": {
          "base_uri": "https://localhost:8080/"
        },
        "id": "dn2yX9hXL7Sf",
        "outputId": "9be8de7a-906e-4b2a-8802-c60665c881ac"
      },
      "outputs": [
        {
          "output_type": "stream",
          "name": "stdout",
          "text": [
            "Valor da variável inteira: 10\n",
            "Valor da variável ponto flutuante: 3.14\n",
            "Valor da variável booleano: True\n"
          ]
        }
      ],
      "source": [
        "# Atividade1: Criando variáveis de firentes tipos\n",
        "inteiro = 10\n",
        "ponto_flutuante = 3.14\n",
        "booleano = True\n",
        "print(\"Valor da variável inteira:\", inteiro)\n",
        "print(\"Valor da variável ponto flutuante:\", ponto_flutuante)\n",
        "print(\"Valor da variável booleano:\", booleano)\n",
        "\n"
      ]
    },
    {
      "cell_type": "code",
      "source": [
        "# Atividade2: Criando variáveis para armazenar nome, CPF e estado civil\n",
        "nome = \"Giovanna Rocha\"\n",
        "cpf = \"123.543.654.09\"\n",
        "casada = False\n",
        "print(\"Nome:\", nome)\n",
        "print(\"CPF:\", cpf)\n",
        "print(\"Casada:\", casada)"
      ],
      "metadata": {
        "colab": {
          "base_uri": "https://localhost:8080/"
        },
        "id": "8qMCtzbwNqwu",
        "outputId": "765e6501-9359-4331-8552-6759af21889b"
      },
      "execution_count": null,
      "outputs": [
        {
          "output_type": "stream",
          "name": "stdout",
          "text": [
            "Nome: Giovanna Rocha\n",
            "CPF: 123.543.654.09\n",
            "Casada: False\n"
          ]
        }
      ]
    },
    {
      "cell_type": "markdown",
      "source": [
        "## FORMATAÇÃO DE TEXTO"
      ],
      "metadata": {
        "id": "0XBCNXtuXhxy"
      }
    },
    {
      "cell_type": "code",
      "source": [
        "# %s texto\n",
        "# %d inteiro\n",
        "# %f real"
      ],
      "metadata": {
        "id": "INrQsZL8XpxM"
      },
      "execution_count": null,
      "outputs": []
    },
    {
      "cell_type": "code",
      "source": [
        "nome = \"Adriana\"\n",
        "texto_formatado = \"O nome dela é %s \" % (nome)\n",
        "print(texto_formatado)"
      ],
      "metadata": {
        "colab": {
          "base_uri": "https://localhost:8080/"
        },
        "id": "s5o6aowXcSHR",
        "outputId": "7fd0331d-8b48-46cb-e646-9efbc7c152c6"
      },
      "execution_count": null,
      "outputs": [
        {
          "output_type": "stream",
          "name": "stdout",
          "text": [
            "O nome dela é Adriana \n"
          ]
        }
      ]
    },
    {
      "cell_type": "code",
      "source": [
        "nome = \"Nivalda\"\n",
        "idade = 69\n",
        "altura = 1.58\n",
        "texto = \"Meu nome é %s. tenho %d anos e tenho %f metros de altura\" % (nome, idade, altura)\n",
        "print(texto)"
      ],
      "metadata": {
        "colab": {
          "base_uri": "https://localhost:8080/"
        },
        "id": "mJ_Ehjrqc0wI",
        "outputId": "bcdf00ca-266c-47b9-c286-9447a323c491"
      },
      "execution_count": null,
      "outputs": [
        {
          "output_type": "stream",
          "name": "stdout",
          "text": [
            "Meu nome é Nivalda. tenho 69 anos e tenho 1.580000 metros de altura\n"
          ]
        }
      ]
    },
    {
      "cell_type": "code",
      "source": [
        "numero_gigante = 1.258759248\n",
        "print(\"Número gigante formatado: %.2f\" % (numero_gigante))"
      ],
      "metadata": {
        "colab": {
          "base_uri": "https://localhost:8080/"
        },
        "id": "gfCCkv8gdmIp",
        "outputId": "8da3e6de-62da-48cc-8057-99b9177bc611"
      },
      "execution_count": null,
      "outputs": [
        {
          "output_type": "stream",
          "name": "stdout",
          "text": [
            "Número gigante formatado: 1.26\n"
          ]
        }
      ]
    },
    {
      "cell_type": "code",
      "source": [
        "valor = True\n",
        "print(\"O valor é %s\" % (valor))\n",
        "print(\"Ovalor é %d\" % (valor))"
      ],
      "metadata": {
        "colab": {
          "base_uri": "https://localhost:8080/"
        },
        "id": "rJ2kLRmvd_f7",
        "outputId": "aead8988-7139-4e2a-84b1-1c13e7798897"
      },
      "execution_count": null,
      "outputs": [
        {
          "output_type": "stream",
          "name": "stdout",
          "text": [
            "O valor é True\n",
            "Ovalor é 1\n"
          ]
        }
      ]
    },
    {
      "cell_type": "code",
      "source": [
        "valor = False\n",
        "print(\"O valor é %s\" % (valor))\n",
        "print(\"Ovalor é %d\" % (valor))"
      ],
      "metadata": {
        "colab": {
          "base_uri": "https://localhost:8080/"
        },
        "id": "8RRW2dnyemNM",
        "outputId": "ec8ff62c-ad8c-4a6d-abd7-394f069efab1"
      },
      "execution_count": null,
      "outputs": [
        {
          "output_type": "stream",
          "name": "stdout",
          "text": [
            "O valor é False\n",
            "Ovalor é 0\n"
          ]
        }
      ]
    },
    {
      "cell_type": "code",
      "source": [
        "decimal = 23.5792\n",
        "print(\"A parte inteira é %d\" % (decimal))"
      ],
      "metadata": {
        "colab": {
          "base_uri": "https://localhost:8080/"
        },
        "id": "1iKKi8Tbeo78",
        "outputId": "bf5dda14-ab1c-47cb-cd29-0d440c4b5f55"
      },
      "execution_count": null,
      "outputs": [
        {
          "output_type": "stream",
          "name": "stdout",
          "text": [
            "A parte inteira é 23\n"
          ]
        }
      ]
    },
    {
      "cell_type": "markdown",
      "source": [
        "## CARACTERES ESPECIAIS"
      ],
      "metadata": {
        "id": "8330p4rhMizf"
      }
    },
    {
      "cell_type": "code",
      "source": [
        "texto = \"Olá, assim que se quebra uma linha, \\n entendeu?\"\n",
        "print(texto)"
      ],
      "metadata": {
        "colab": {
          "base_uri": "https://localhost:8080/"
        },
        "id": "9y9HMD6RMr3p",
        "outputId": "8c88a64c-71b3-4981-bea0-76a3efbee070"
      },
      "execution_count": 1,
      "outputs": [
        {
          "output_type": "stream",
          "name": "stdout",
          "text": [
            "Olá, assim que se quebra uma linha, \n",
            " entendeu?\n"
          ]
        }
      ]
    },
    {
      "cell_type": "code",
      "source": [
        "texto = \"Olá, assim que se quebra uma linha, \\nentendeu como quebra a linha? \\nfim\"\n",
        "print(texto)"
      ],
      "metadata": {
        "colab": {
          "base_uri": "https://localhost:8080/"
        },
        "id": "HCq2dVp9M7XJ",
        "outputId": "12b86d01-6bad-4806-cbeb-8af60712f5aa"
      },
      "execution_count": 2,
      "outputs": [
        {
          "output_type": "stream",
          "name": "stdout",
          "text": [
            "Olá, assim que se quebra uma linha, \n",
            "entendeu como quebra a linha? \n",
            "fim\n"
          ]
        }
      ]
    },
    {
      "cell_type": "code",
      "source": [
        "texto = \"Olá, assim que se quebra uma linha, \\n\\tentendeu como quebra a linha? \\n\\t\\tfim\"\n",
        "print(texto)"
      ],
      "metadata": {
        "colab": {
          "base_uri": "https://localhost:8080/"
        },
        "id": "5JE4NijKNJB3",
        "outputId": "552a1612-84a6-48d1-b765-714652e737a6"
      },
      "execution_count": 4,
      "outputs": [
        {
          "output_type": "stream",
          "name": "stdout",
          "text": [
            "Olá, assim que se quebra uma linha, \n",
            "\tentendeu como quebra a linha? \n",
            "\t\tfim\n"
          ]
        }
      ]
    },
    {
      "cell_type": "code",
      "source": [
        "texto = 'Deixa a \\'palavra\\' entre aspas'\n",
        "print(texto)"
      ],
      "metadata": {
        "colab": {
          "base_uri": "https://localhost:8080/"
        },
        "id": "GDFPXvIKNdqC",
        "outputId": "3fc35c94-5a5e-4986-ec5e-87d36ccdc60e"
      },
      "execution_count": 5,
      "outputs": [
        {
          "output_type": "stream",
          "name": "stdout",
          "text": [
            "Deixa a 'palavra' entre aspas\n"
          ]
        }
      ]
    },
    {
      "cell_type": "code",
      "source": [
        "texto = \"Deixa a 'palavra' entre aspas\"\n",
        "print(texto)"
      ],
      "metadata": {
        "colab": {
          "base_uri": "https://localhost:8080/"
        },
        "id": "cVDBWR7CNtC5",
        "outputId": "cb2eec81-521a-489d-8e92-9e01da6bba12"
      },
      "execution_count": 6,
      "outputs": [
        {
          "output_type": "stream",
          "name": "stdout",
          "text": [
            "Deixa a 'palavra' entre aspas\n"
          ]
        }
      ]
    }
  ]
}