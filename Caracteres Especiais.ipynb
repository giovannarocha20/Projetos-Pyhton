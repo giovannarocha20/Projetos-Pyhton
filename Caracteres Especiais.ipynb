{
  "nbformat": 4,
  "nbformat_minor": 0,
  "metadata": {
    "colab": {
      "provenance": [],
      "collapsed_sections": [
        "iOPBwEE6XQ1j",
        "0XBCNXtuXhxy"
      ],
      "toc_visible": true
    },
    "kernelspec": {
      "name": "python3",
      "display_name": "Python 3"
    },
    "language_info": {
      "name": "python"
    }
  },
  "cells": [
    {
      "cell_type": "markdown",
      "source": [
        "## CARACTERES ESPECIAIS"
      ],
      "metadata": {
        "id": "8330p4rhMizf"
      }
    },
    {
      "cell_type": "code",
      "source": [
        "texto = \"Olá, assim que se quebra uma linha, \\n entendeu?\"\n",
        "print(texto)"
      ],
      "metadata": {
        "colab": {
          "base_uri": "https://localhost:8080/"
        },
        "id": "9y9HMD6RMr3p",
        "outputId": "8c88a64c-71b3-4981-bea0-76a3efbee070"
      },
      "execution_count": 1,
      "outputs": [
        {
          "output_type": "stream",
          "name": "stdout",
          "text": [
            "Olá, assim que se quebra uma linha, \n",
            " entendeu?\n"
          ]
        }
      ]
    },
    {
      "cell_type": "code",
      "source": [
        "texto = \"Olá, assim que se quebra uma linha, \\nentendeu como quebra a linha? \\nfim\"\n",
        "print(texto)"
      ],
      "metadata": {
        "colab": {
          "base_uri": "https://localhost:8080/"
        },
        "id": "HCq2dVp9M7XJ",
        "outputId": "12b86d01-6bad-4806-cbeb-8af60712f5aa"
      },
      "execution_count": 2,
      "outputs": [
        {
          "output_type": "stream",
          "name": "stdout",
          "text": [
            "Olá, assim que se quebra uma linha, \n",
            "entendeu como quebra a linha? \n",
            "fim\n"
          ]
        }
      ]
    },
    {
      "cell_type": "code",
      "source": [
        "texto = \"Olá, assim que se quebra uma linha, \\n\\tentendeu como quebra a linha? \\n\\t\\tfim\"\n",
        "print(texto)"
      ],
      "metadata": {
        "colab": {
          "base_uri": "https://localhost:8080/"
        },
        "id": "5JE4NijKNJB3",
        "outputId": "552a1612-84a6-48d1-b765-714652e737a6"
      },
      "execution_count": 4,
      "outputs": [
        {
          "output_type": "stream",
          "name": "stdout",
          "text": [
            "Olá, assim que se quebra uma linha, \n",
            "\tentendeu como quebra a linha? \n",
            "\t\tfim\n"
          ]
        }
      ]
    },
    {
      "cell_type": "code",
      "source": [
        "texto = 'Deixa a \\'palavra\\' entre aspas'\n",
        "print"
      ],
      "metadata": {
        "colab": {
          "base_uri": "https://localhost:8080/"
        },
        "id": "GDFPXvIKNdqC",
        "outputId": "3fc35c94-5a5e-4986-ec5e-87d36ccdc60e"
      },
      "execution_count": 5,
      "outputs": [
        {
          "output_type": "stream",
          "name": "stdout",
          "text": [
            "Deixa a 'palavra' entre aspas\n"
          ]
        }
      ]
    },
    {
      "cell_type": "code",
      "source": [
        "texto = \"Deixa a 'palavra\\ entre aspas\"\n",
        "print(texto)"
      ],
      "metadata": {
        "colab": {
          "base_uri": "https://localhost:8080/"
        },
        "id": "cVDBWR7CNtC5",
        "outputId": "cb2eec81-521a-489d-8e92-9e01da6bba12"
      },
      "execution_count": 6,
      "outputs": [
        {
          "output_type": "stream",
          "name": "stdout",
          "text": [
            "Deixa a 'palavra' entre aspas\n"
          ]
        }
      ]
    }
  ]
}