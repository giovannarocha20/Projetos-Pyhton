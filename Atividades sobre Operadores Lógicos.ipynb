{
  "nbformat": 4,
  "nbformat_minor": 0,
  "metadata": {
    "colab": {
      "provenance": []
    },
    "kernelspec": {
      "name": "python3",
      "display_name": "Python 3"
    },
    "language_info": {
      "name": "python"
    }
  },
  "cells": [
    {
      "cell_type": "code",
      "execution_count": 2,
      "metadata": {
        "colab": {
          "base_uri": "https://localhost:8080/"
        },
        "id": "-zHr_5OxGKEf",
        "outputId": "89a482a9-453c-431a-a8d7-f022af1ae04f"
      },
      "outputs": [
        {
          "output_type": "stream",
          "name": "stdout",
          "text": [
            "Você precisa ir ao mercado: True\n"
          ]
        }
      ],
      "source": [
        "# Atividade 1\n",
        "falta_comida = True\n",
        "é_sabado = False\n",
        "\n",
        "precisar_ir_ao_mercado = falta_comida or é_sabado\n",
        "print(\"Você precisa ir ao mercado:\", precisar_ir_ao_mercado)\n"
      ]
    },
    {
      "cell_type": "code",
      "source": [
        "# Atividade 2\n",
        "sinal_vermelho = True\n",
        "carro_direita = False\n",
        "carro_esquerda = False\n",
        "\n",
        "pode_atravessar = sinal_vermelho and not carro_direita and not carro_esquerda\n",
        "print(\"Você pode atravessar a rua:\", pode_atravessar)\n"
      ],
      "metadata": {
        "colab": {
          "base_uri": "https://localhost:8080/"
        },
        "id": "aSb6so2VGRqy",
        "outputId": "54dc636d-d78b-45c8-c8f0-5934a437ee98"
      },
      "execution_count": 3,
      "outputs": [
        {
          "output_type": "stream",
          "name": "stdout",
          "text": [
            "Você pode atravessar a rua: True\n"
          ]
        }
      ]
    },
    {
      "cell_type": "code",
      "source": [
        "# Atividade 3\n",
        "sinal_vermelho = True\n",
        "carro_direita = True\n",
        "carro_esquerda = False\n",
        "\n",
        "pode_atravessar_pressa = sinal_vermelho or not (carro_direita or carro_esquerda)\n",
        "print(\"Você pode atravessar a rua com pressa:\", pode_atravessar_pressa)\n"
      ],
      "metadata": {
        "colab": {
          "base_uri": "https://localhost:8080/"
        },
        "id": "LD8CSzA5GbFN",
        "outputId": "2ba5aa7b-727b-4b8d-9a1e-1b601306da36"
      },
      "execution_count": 4,
      "outputs": [
        {
          "output_type": "stream",
          "name": "stdout",
          "text": [
            "Você pode atravessar a rua com pressa: True\n"
          ]
        }
      ]
    },
    {
      "cell_type": "code",
      "source": [],
      "metadata": {
        "id": "TjrLBtVvGfUD"
      },
      "execution_count": null,
      "outputs": []
    }
  ]
}
