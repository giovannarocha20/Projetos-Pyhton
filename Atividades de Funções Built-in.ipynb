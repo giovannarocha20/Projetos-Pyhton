{
  "nbformat": 4,
  "nbformat_minor": 0,
  "metadata": {
    "colab": {
      "provenance": []
    },
    "kernelspec": {
      "name": "python3",
      "display_name": "Python 3"
    },
    "language_info": {
      "name": "python"
    }
  },
  "cells": [
    {
      "cell_type": "markdown",
      "source": [
        "## 1. Função que retorna a subtração de dois elementos considerando o valor absoluto:"
      ],
      "metadata": {
        "id": "TWjmkTtET3C_"
      }
    },
    {
      "cell_type": "code",
      "execution_count": 1,
      "metadata": {
        "id": "fPG4jMKYTfB5",
        "colab": {
          "base_uri": "https://localhost:8080/"
        },
        "outputId": "6006bff4-db0e-49c2-b3fc-d26805e03995"
      },
      "outputs": [
        {
          "output_type": "stream",
          "name": "stdout",
          "text": [
            "10\n"
          ]
        }
      ],
      "source": [
        "def subtracao_absoluta(a, b):\n",
        "    return abs(a - b)\n",
        "resultado = subtracao_absoluta(10, 20)\n",
        "print(resultado)"
      ]
    },
    {
      "cell_type": "markdown",
      "source": [
        "## 2. Função que retorna a soma de dois números, mas o valor não pode passar de 10000 e deve ser maior que 0 (sem usar \"if\"):"
      ],
      "metadata": {
        "id": "Gb47eG9RUAG2"
      }
    },
    {
      "cell_type": "code",
      "source": [
        "def soma_limitada(a, b):\n",
        "    return max(0, min(a + b, 10000))\n",
        "resultado = soma_limitada(5000, 6000)\n",
        "print(resultado)"
      ],
      "metadata": {
        "colab": {
          "base_uri": "https://localhost:8080/"
        },
        "id": "JzU6Y3wRT_IZ",
        "outputId": "746cd28e-b3e1-44bd-89a4-bebee6753656"
      },
      "execution_count": 2,
      "outputs": [
        {
          "output_type": "stream",
          "name": "stdout",
          "text": [
            "10000\n"
          ]
        }
      ]
    },
    {
      "cell_type": "markdown",
      "source": [
        "## 3. Função que recebe um número arbitrário de argumentos e retorna o menor:"
      ],
      "metadata": {
        "id": "wevKMry5UJjD"
      }
    },
    {
      "cell_type": "code",
      "source": [
        "def menor_numero(*args):\n",
        "    return min(args)\n",
        "resultado = menor_numero(4, 3, 7, 1, 9)\n",
        "print(resultado)"
      ],
      "metadata": {
        "colab": {
          "base_uri": "https://localhost:8080/"
        },
        "id": "9W69qLoJUIjD",
        "outputId": "d254375f-ad1b-4c93-ad42-64f4bf0a7c1f"
      },
      "execution_count": 3,
      "outputs": [
        {
          "output_type": "stream",
          "name": "stdout",
          "text": [
            "1\n"
          ]
        }
      ]
    },
    {
      "cell_type": "markdown",
      "source": [
        "## 4. Função que calcula a fórmula de Bhaskara:"
      ],
      "metadata": {
        "id": "zp86tlQ5UQlY"
      }
    },
    {
      "cell_type": "code",
      "source": [
        "import math\n",
        "def bhaskara(a, b, c):\n",
        "    delta = b**2 - 4*a*c\n",
        "    if delta < 0:\n",
        "        return \"Não há raízes reais\"\n",
        "    elif delta == 0:\n",
        "        x = -b / (2 * a)\n",
        "        return f\"Uma raiz: {x}\"\n",
        "    else:\n",
        "        x1 = (-b + math.sqrt(delta)) / (2 * a)\n",
        "        x2 = (-b - math.sqrt(delta)) / (2 * a)\n",
        "        return f\"Duas raízes: {x1} e {x2}\"\n",
        "a = float(input(\"Digite o valor de a: \"))\n",
        "b = float(input(\"Digite o valor de b: \"))\n",
        "c = float(input(\"Digite o valor de c: \"))\n",
        "resultado = bhaskara(a, b, c)\n",
        "print(resultado)"
      ],
      "metadata": {
        "colab": {
          "base_uri": "https://localhost:8080/"
        },
        "id": "MYxoBoPnUOzn",
        "outputId": "5af64190-6189-4ebc-fef7-d3c68d9fceb9"
      },
      "execution_count": 4,
      "outputs": [
        {
          "output_type": "stream",
          "name": "stdout",
          "text": [
            "Digite o valor de a: 15\n",
            "Digite o valor de b: 20\n",
            "Digite o valor de c: 30\n",
            "Não há raízes reais\n"
          ]
        }
      ]
    },
    {
      "cell_type": "markdown",
      "source": [
        "## 5. Função que inverte maiúsculas e minúsculas de uma string:"
      ],
      "metadata": {
        "id": "LttqvSOSUadA"
      }
    },
    {
      "cell_type": "code",
      "source": [
        "def inverte_maiscula_minuscula(texto):\n",
        "    return texto.swapcase()\n",
        "resultado = inverte_maiscula_minuscula(\"Ryan Murphy não sabe fazer séries.\")\n",
        "print(resultado)"
      ],
      "metadata": {
        "colab": {
          "base_uri": "https://localhost:8080/"
        },
        "id": "Tts4QszyUWKu",
        "outputId": "ddc6cca6-2022-47d6-f644-50ddb75b0776"
      },
      "execution_count": 5,
      "outputs": [
        {
          "output_type": "stream",
          "name": "stdout",
          "text": [
            "rYAN mURPHY NÃO SABE FAZER SÉRIES.\n"
          ]
        }
      ]
    }
  ]
}