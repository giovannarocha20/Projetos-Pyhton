{
  "nbformat": 4,
  "nbformat_minor": 0,
  "metadata": {
    "colab": {
      "provenance": []
    },
    "kernelspec": {
      "name": "python3",
      "display_name": "Python 3"
    },
    "language_info": {
      "name": "python"
    }
  },
  "cells": [
    {
      "cell_type": "markdown",
      "source": [
        "## 6. Função que recebe uma string e uma letra, retornando a quantidade de vezes que a letra aparece na string:"
      ],
      "metadata": {
        "id": "LCm3eSR8vbZ-"
      }
    },
    {
      "cell_type": "code",
      "execution_count": 1,
      "metadata": {
        "colab": {
          "base_uri": "https://localhost:8080/"
        },
        "id": "mNrLxlbbvW0B",
        "outputId": "352147a2-9593-4a13-8d68-4d15aa06687f"
      },
      "outputs": [
        {
          "output_type": "stream",
          "name": "stdout",
          "text": [
            "3\n"
          ]
        }
      ],
      "source": [
        "def contar_letra(texto, letra):\n",
        "    return texto.count(letra)\n",
        "resultado = contar_letra(\"Eu uso muito Spotify\", \"o\")\n",
        "print(resultado)"
      ]
    },
    {
      "cell_type": "markdown",
      "source": [
        "## 7. (DESAFIO) Função que retorna os índices de todas as ocorrências de uma letra em uma string:"
      ],
      "metadata": {
        "id": "sO9wVM9hvoFh"
      }
    },
    {
      "cell_type": "code",
      "source": [
        "def encontrar_indices(texto, letra):\n",
        "    return [i for i, char in enumerate(texto) if char == letra]\n",
        "resultado = encontrar_indices(\"Carly Simon é um ótima cantora\", \"a\")\n",
        "print(resultado)"
      ],
      "metadata": {
        "colab": {
          "base_uri": "https://localhost:8080/"
        },
        "id": "8jJOPGxUvkAf",
        "outputId": "e62ee553-67f5-4c25-eb9b-471ed41888e1"
      },
      "execution_count": 2,
      "outputs": [
        {
          "output_type": "stream",
          "name": "stdout",
          "text": [
            "[1, 21, 24, 29]\n"
          ]
        }
      ]
    },
    {
      "cell_type": "markdown",
      "source": [
        "## 8. Função que substitui palavras não permitidas por '*' em uma string:\n"
      ],
      "metadata": {
        "id": "hJKuRSRuv2M5"
      }
    },
    {
      "cell_type": "code",
      "source": [
        "def censurar_palavras(texto, lista_palavras_proibidas):\n",
        "    for palavra in lista_palavras_proibidas:\n",
        "        texto = texto.replace(palavra, '*' * len(palavra))\n",
        "    return texto\n",
        "proibidas = [\"boa\", \"cantora\"]\n",
        "resultado = censurar_palavras(\"You're so Vain é muito boa\", proibidas)\n",
        "print(resultado)"
      ],
      "metadata": {
        "colab": {
          "base_uri": "https://localhost:8080/"
        },
        "id": "vXdwtECcv0Sr",
        "outputId": "505153c7-c392-4e4a-d0ed-7c194de6283d"
      },
      "execution_count": 3,
      "outputs": [
        {
          "output_type": "stream",
          "name": "stdout",
          "text": [
            "You're so Vain é muito ***\n"
          ]
        }
      ]
    },
    {
      "cell_type": "markdown",
      "source": [
        "## 9. Função que retorna verdadeiro se uma string é totalmente maiúscula ou totalmente minúscula:"
      ],
      "metadata": {
        "id": "__hngWIWwGK3"
      }
    },
    {
      "cell_type": "code",
      "source": [
        "def maiuscula_ou_minuscula(texto):\n",
        "    return texto.isupper() or texto.islower()\n",
        "resultado = maiuscula_ou_minuscula(\"PLAYLIST\")\n",
        "print(resultado)"
      ],
      "metadata": {
        "colab": {
          "base_uri": "https://localhost:8080/"
        },
        "id": "VwwjyvIOwESr",
        "outputId": "5e5c6fb5-6927-4429-946f-a05c64836c89"
      },
      "execution_count": 4,
      "outputs": [
        {
          "output_type": "stream",
          "name": "stdout",
          "text": [
            "True\n"
          ]
        }
      ]
    },
    {
      "cell_type": "markdown",
      "source": [
        "## 10. Função que transforma valores em inteiros e retorna uma lista ordenada:"
      ],
      "metadata": {
        "id": "vV5GXD6MwO29"
      }
    },
    {
      "cell_type": "code",
      "source": [
        "def filtrar_e_ordenar(lista_textos):\n",
        "    numeros = [int(item) for item in lista_textos if item.isdigit()]\n",
        "    return sorted(numeros)\n",
        "lista = [\"21\", \"albafeto\", \"15\", \"7\"]\n",
        "resultado = filtrar_e_ordenar(lista)\n",
        "print(resultado)"
      ],
      "metadata": {
        "colab": {
          "base_uri": "https://localhost:8080/"
        },
        "id": "boiVrDXhwNjv",
        "outputId": "bdba9c25-281d-4768-91f3-8a85dff6a83c"
      },
      "execution_count": 5,
      "outputs": [
        {
          "output_type": "stream",
          "name": "stdout",
          "text": [
            "[7, 15, 21]\n"
          ]
        }
      ]
    },
    {
      "cell_type": "markdown",
      "source": [
        "## 11. Função que lê a data de nascimento e mostra quantos dias você já viveu:"
      ],
      "metadata": {
        "id": "kl8MdwFowb0H"
      }
    },
    {
      "cell_type": "code",
      "source": [
        "from datetime import datetime\n",
        "def dias_vividos(data_nascimento):\n",
        "    nascimento = datetime.strptime(data_nascimento, \"%d/%m/%Y\")\n",
        "    hoje = datetime.now()\n",
        "    diferenca = hoje - nascimento\n",
        "    return diferenca.days\n",
        "resultado = dias_vividos(\"01/10/2003\")\n",
        "print(resultado)"
      ],
      "metadata": {
        "colab": {
          "base_uri": "https://localhost:8080/"
        },
        "id": "CU0lguF3wbDW",
        "outputId": "cd3c3b83-09b7-409f-dd02-be062a02c650"
      },
      "execution_count": 8,
      "outputs": [
        {
          "output_type": "stream",
          "name": "stdout",
          "text": [
            "7673\n"
          ]
        }
      ]
    },
    {
      "cell_type": "markdown",
      "source": [
        "## 12. Função que lê a próxima data de aniversário e mostra quantos dias faltam:"
      ],
      "metadata": {
        "id": "DxuSqFv-wxks"
      }
    },
    {
      "cell_type": "code",
      "source": [
        "from datetime import datetime\n",
        "def dias_para_aniversario(data_aniversario):\n",
        "    hoje = datetime.now()\n",
        "    aniversario = datetime.strptime(data_aniversario, \"%d/%m/%Y\")\n",
        "    aniversario = aniversario.replace(year=hoje.year)\n",
        "\n",
        "    if aniversario < hoje:\n",
        "        aniversario = aniversario.replace(year=hoje.year + 1)\n",
        "\n",
        "    diferenca = aniversario - hoje\n",
        "    return diferenca.days\n",
        "resultado = dias_para_aniversario(\"01/10/2025\")\n",
        "print(resultado)"
      ],
      "metadata": {
        "colab": {
          "base_uri": "https://localhost:8080/"
        },
        "id": "81PHEy0zwkNC",
        "outputId": "97aafbcd-b245-4fbb-c1d6-ff1b2f20d93e"
      },
      "execution_count": 9,
      "outputs": [
        {
          "output_type": "stream",
          "name": "stdout",
          "text": [
            "362\n"
          ]
        }
      ]
    }
  ]
}